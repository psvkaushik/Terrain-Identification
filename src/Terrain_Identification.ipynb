{
  "nbformat": 4,
  "nbformat_minor": 0,
  "metadata": {
    "colab": {
      "provenance": [],
      "gpuType": "T4"
    },
    "kernelspec": {
      "name": "python3",
      "display_name": "Python 3"
    },
    "language_info": {
      "name": "python"
    },
    "accelerator": "GPU"
  },
  "cells": [
    {
      "cell_type": "markdown",
      "source": [
        "## Imports"
      ],
      "metadata": {
        "id": "MCOSr4yNVapG"
      }
    },
    {
      "cell_type": "code",
      "execution_count": 1,
      "metadata": {
        "id": "6sibDRjhwP5J"
      },
      "outputs": [],
      "source": [
        "import numpy as np\n",
        "import pandas as pd\n",
        "import matplotlib.pyplot as plt\n",
        "from sklearn.preprocessing import  StandardScaler\n",
        "from sklearn.model_selection import train_test_split\n",
        "import tensorflow as tf"
      ]
    },
    {
      "cell_type": "markdown",
      "source": [
        "##Data Loading and Preprocessing"
      ],
      "metadata": {
        "id": "_MbjzU8GVgcU"
      }
    },
    {
      "cell_type": "code",
      "source": [
        "#load data\n",
        "\n",
        "x_1_1 = pd.read_csv('https://raw.githubusercontent.com/sushanthreddyC/Terrain-Identification-Using-Time-Series-Data/main/TrainingData/subject_001_01__x.csv', names = ['ax', 'ay', 'az', 'gx', 'gy', 'gz'])\n",
        "x_1_2 = pd.read_csv('https://raw.githubusercontent.com/sushanthreddyC/Terrain-Identification-Using-Time-Series-Data/main/TrainingData/subject_001_02__x.csv', names = ['ax', 'ay', 'az', 'gx', 'gy', 'gz'])\n",
        "x_1_3 = pd.read_csv('https://raw.githubusercontent.com/sushanthreddyC/Terrain-Identification-Using-Time-Series-Data/main/TrainingData/subject_001_03__x.csv', names = ['ax', 'ay', 'az', 'gx', 'gy', 'gz'])\n",
        "x_1_4 = pd.read_csv('https://raw.githubusercontent.com/sushanthreddyC/Terrain-Identification-Using-Time-Series-Data/main/TrainingData/subject_001_04__x.csv', names = ['ax', 'ay', 'az', 'gx', 'gy', 'gz'])\n",
        "x_1_5 = pd.read_csv('https://raw.githubusercontent.com/sushanthreddyC/Terrain-Identification-Using-Time-Series-Data/main/TrainingData/subject_001_05__x.csv', names = ['ax', 'ay', 'az', 'gx', 'gy', 'gz'])\n",
        "x_1_6 = pd.read_csv('https://raw.githubusercontent.com/sushanthreddyC/Terrain-Identification-Using-Time-Series-Data/main/TrainingData/subject_001_06__x.csv', names = ['ax', 'ay', 'az', 'gx', 'gy', 'gz'])\n",
        "x_1_7 = pd.read_csv('https://raw.githubusercontent.com/sushanthreddyC/Terrain-Identification-Using-Time-Series-Data/main/TrainingData/subject_001_07__x.csv', names = ['ax', 'ay', 'az', 'gx', 'gy', 'gz'])\n",
        "x_1_8 = pd.read_csv('https://raw.githubusercontent.com/sushanthreddyC/Terrain-Identification-Using-Time-Series-Data/main/TrainingData/subject_001_08__x.csv', names = ['ax', 'ay', 'az', 'gx', 'gy', 'gz'])\n",
        "\n",
        "\n",
        "\n",
        "x_2_1 = pd.read_csv('https://raw.githubusercontent.com/sushanthreddyC/Terrain-Identification-Using-Time-Series-Data/main/TrainingData/subject_002_01__x.csv', names = ['ax', 'ay', 'az', 'gx', 'gy', 'gz'])\n",
        "x_2_2 = pd.read_csv('https://raw.githubusercontent.com/sushanthreddyC/Terrain-Identification-Using-Time-Series-Data/main/TrainingData/subject_002_02__x.csv', names = ['ax', 'ay', 'az', 'gx', 'gy', 'gz'])\n",
        "x_2_3 = pd.read_csv('https://raw.githubusercontent.com/sushanthreddyC/Terrain-Identification-Using-Time-Series-Data/main/TrainingData/subject_002_03__x.csv', names = ['ax', 'ay', 'az', 'gx', 'gy', 'gz'])\n",
        "x_2_4 = pd.read_csv('https://raw.githubusercontent.com/sushanthreddyC/Terrain-Identification-Using-Time-Series-Data/main/TrainingData/subject_002_04__x.csv', names = ['ax', 'ay', 'az', 'gx', 'gy', 'gz'])\n",
        "x_2_5 = pd.read_csv('https://raw.githubusercontent.com/sushanthreddyC/Terrain-Identification-Using-Time-Series-Data/main/TrainingData/subject_002_05__x.csv', names = ['ax', 'ay', 'az', 'gx', 'gy', 'gz'])\n",
        "\n",
        "\n",
        "\n",
        "x_3_1 = pd.read_csv('https://raw.githubusercontent.com/sushanthreddyC/Terrain-Identification-Using-Time-Series-Data/main/TrainingData/subject_003_01__x.csv', names = ['ax', 'ay', 'az', 'gx', 'gy', 'gz'])\n",
        "x_3_2 = pd.read_csv('https://raw.githubusercontent.com/sushanthreddyC/Terrain-Identification-Using-Time-Series-Data/main/TrainingData/subject_003_02__x.csv', names = ['ax', 'ay', 'az', 'gx', 'gy', 'gz'])\n",
        "x_3_3 = pd.read_csv('https://raw.githubusercontent.com/sushanthreddyC/Terrain-Identification-Using-Time-Series-Data/main/TrainingData/subject_003_03__x.csv', names = ['ax', 'ay', 'az', 'gx', 'gy', 'gz'])\n",
        "\n",
        "\n",
        "\n",
        "x_4_1 = pd.read_csv('https://raw.githubusercontent.com/sushanthreddyC/Terrain-Identification-Using-Time-Series-Data/main/TrainingData/subject_004_01__x.csv',  names = ['ax', 'ay', 'az', 'gx', 'gy', 'gz'])\n",
        "x_4_2 = pd.read_csv('https://raw.githubusercontent.com/sushanthreddyC/Terrain-Identification-Using-Time-Series-Data/main/TrainingData/subject_004_02__x.csv',  names = ['ax', 'ay', 'az', 'gx', 'gy', 'gz'])\n",
        "\n",
        "\n",
        "\n",
        "x_5_1 = pd.read_csv('https://raw.githubusercontent.com/sushanthreddyC/Terrain-Identification-Using-Time-Series-Data/main/TrainingData/subject_005_01__x.csv', names = ['ax', 'ay', 'az', 'gx', 'gy', 'gz'])\n",
        "x_5_2 = pd.read_csv('https://raw.githubusercontent.com/sushanthreddyC/Terrain-Identification-Using-Time-Series-Data/main/TrainingData/subject_005_02__x.csv', names = ['ax', 'ay', 'az', 'gx', 'gy', 'gz'])\n",
        "x_5_3 = pd.read_csv('https://raw.githubusercontent.com/sushanthreddyC/Terrain-Identification-Using-Time-Series-Data/main/TrainingData/subject_005_03__x.csv', names = ['ax', 'ay', 'az', 'gx', 'gy', 'gz'])\n",
        "\n",
        "\n",
        "x_6_1 = pd.read_csv('https://raw.githubusercontent.com/sushanthreddyC/Terrain-Identification-Using-Time-Series-Data/main/TrainingData/subject_006_01__x.csv', names = ['ax', 'ay', 'az', 'gx', 'gy', 'gz'])\n",
        "x_6_2 = pd.read_csv('https://raw.githubusercontent.com/sushanthreddyC/Terrain-Identification-Using-Time-Series-Data/main/TrainingData/subject_006_02__x.csv', names = ['ax', 'ay', 'az', 'gx', 'gy', 'gz'])\n",
        "x_6_3 = pd.read_csv('https://raw.githubusercontent.com/sushanthreddyC/Terrain-Identification-Using-Time-Series-Data/main/TrainingData/subject_006_03__x.csv', names = ['ax', 'ay', 'az', 'gx', 'gy', 'gz'])\n",
        "\n",
        "x_7_1 = pd.read_csv('https://raw.githubusercontent.com/sushanthreddyC/Terrain-Identification-Using-Time-Series-Data/main/TrainingData/subject_007_01__x.csv', names = ['ax', 'ay', 'az', 'gx', 'gy', 'gz'])\n",
        "x_7_2 = pd.read_csv('https://raw.githubusercontent.com/sushanthreddyC/Terrain-Identification-Using-Time-Series-Data/main/TrainingData/subject_007_02__x.csv', names = ['ax', 'ay', 'az', 'gx', 'gy', 'gz'])\n",
        "x_7_3 = pd.read_csv('https://raw.githubusercontent.com/sushanthreddyC/Terrain-Identification-Using-Time-Series-Data/main/TrainingData/subject_007_03__x.csv', names = ['ax', 'ay', 'az', 'gx', 'gy', 'gz'])\n",
        "x_7_4 = pd.read_csv('https://raw.githubusercontent.com/sushanthreddyC/Terrain-Identification-Using-Time-Series-Data/main/TrainingData/subject_007_04__x.csv', names = ['ax', 'ay', 'az', 'gx', 'gy', 'gz'])\n",
        "\n",
        "x_8_1 = pd.read_csv('https://raw.githubusercontent.com/sushanthreddyC/Terrain-Identification-Using-Time-Series-Data/main/TrainingData/subject_008_01__x.csv', names = ['ax', 'ay', 'az', 'gx', 'gy', 'gz'])"
      ],
      "metadata": {
        "id": "PvEAqnz4wXb2"
      },
      "execution_count": 2,
      "outputs": []
    },
    {
      "cell_type": "code",
      "source": [
        "#load data\n",
        "\n",
        "x_1_1_t = pd.read_csv('https://raw.githubusercontent.com/sushanthreddyC/Terrain-Identification-Using-Time-Series-Data/main/TrainingData/subject_001_01__x_time.csv', names = ['time'])\n",
        "x_1_2_t = pd.read_csv('https://raw.githubusercontent.com/sushanthreddyC/Terrain-Identification-Using-Time-Series-Data/main/TrainingData/subject_001_02__x_time.csv', names = ['time'])\n",
        "x_1_3_t = pd.read_csv('https://raw.githubusercontent.com/sushanthreddyC/Terrain-Identification-Using-Time-Series-Data/main/TrainingData/subject_001_03__x_time.csv', names = ['time'])\n",
        "x_1_4_t = pd.read_csv('https://raw.githubusercontent.com/sushanthreddyC/Terrain-Identification-Using-Time-Series-Data/main/TrainingData/subject_001_04__x_time.csv', names = ['time'])\n",
        "x_1_5_t = pd.read_csv('https://raw.githubusercontent.com/sushanthreddyC/Terrain-Identification-Using-Time-Series-Data/main/TrainingData/subject_001_05__x_time.csv', names = ['time'])\n",
        "x_1_6_t = pd.read_csv('https://raw.githubusercontent.com/sushanthreddyC/Terrain-Identification-Using-Time-Series-Data/main/TrainingData/subject_001_06__x_time.csv', names = ['time'])\n",
        "x_1_7_t = pd.read_csv('https://raw.githubusercontent.com/sushanthreddyC/Terrain-Identification-Using-Time-Series-Data/main/TrainingData/subject_001_07__x_time.csv', names = ['time'])\n",
        "x_1_8_t = pd.read_csv('https://raw.githubusercontent.com/sushanthreddyC/Terrain-Identification-Using-Time-Series-Data/main/TrainingData/subject_001_08__x_time.csv', names = ['time'])\n",
        "\n",
        "\n",
        "\n",
        "x_2_1_t = pd.read_csv('https://raw.githubusercontent.com/sushanthreddyC/Terrain-Identification-Using-Time-Series-Data/main/TrainingData/subject_002_01__x_time.csv', names = ['time'])\n",
        "x_2_2_t = pd.read_csv('https://raw.githubusercontent.com/sushanthreddyC/Terrain-Identification-Using-Time-Series-Data/main/TrainingData/subject_002_02__x_time.csv', names = ['time'])\n",
        "x_2_3_t = pd.read_csv('https://raw.githubusercontent.com/sushanthreddyC/Terrain-Identification-Using-Time-Series-Data/main/TrainingData/subject_002_03__x_time.csv', names = ['time'])\n",
        "x_2_4_t = pd.read_csv('https://raw.githubusercontent.com/sushanthreddyC/Terrain-Identification-Using-Time-Series-Data/main/TrainingData/subject_002_04__x_time.csv', names = ['time'])\n",
        "x_2_5_t = pd.read_csv('https://raw.githubusercontent.com/sushanthreddyC/Terrain-Identification-Using-Time-Series-Data/main/TrainingData/subject_002_05__x_time.csv', names = ['time'])\n",
        "\n",
        "\n",
        "\n",
        "x_3_1_t = pd.read_csv('https://raw.githubusercontent.com/sushanthreddyC/Terrain-Identification-Using-Time-Series-Data/main/TrainingData/subject_003_01__x_time.csv', names = ['time'])\n",
        "x_3_2_t = pd.read_csv('https://raw.githubusercontent.com/sushanthreddyC/Terrain-Identification-Using-Time-Series-Data/main/TrainingData/subject_003_02__x_time.csv', names = ['time'])\n",
        "x_3_3_t = pd.read_csv('https://raw.githubusercontent.com/sushanthreddyC/Terrain-Identification-Using-Time-Series-Data/main/TrainingData/subject_003_03__x_time.csv', names = ['time'])\n",
        "\n",
        "\n",
        "\n",
        "x_4_1_t = pd.read_csv('https://raw.githubusercontent.com/sushanthreddyC/Terrain-Identification-Using-Time-Series-Data/main/TrainingData/subject_004_01__x_time.csv',  names = ['time'])\n",
        "x_4_2_t = pd.read_csv('https://raw.githubusercontent.com/sushanthreddyC/Terrain-Identification-Using-Time-Series-Data/main/TrainingData/subject_004_02__x_time.csv',  names = ['time'])\n",
        "\n",
        "\n",
        "\n",
        "x_5_1_t = pd.read_csv('https://raw.githubusercontent.com/sushanthreddyC/Terrain-Identification-Using-Time-Series-Data/main/TrainingData/subject_005_01__x_time.csv', names = ['time'])\n",
        "x_5_2_t = pd.read_csv('https://raw.githubusercontent.com/sushanthreddyC/Terrain-Identification-Using-Time-Series-Data/main/TrainingData/subject_005_02__x_time.csv', names = ['time'])\n",
        "x_5_3_t = pd.read_csv('https://raw.githubusercontent.com/sushanthreddyC/Terrain-Identification-Using-Time-Series-Data/main/TrainingData/subject_005_03__x_time.csv', names = ['time'])\n",
        "\n",
        "\n",
        "x_6_1_t = pd.read_csv('https://raw.githubusercontent.com/sushanthreddyC/Terrain-Identification-Using-Time-Series-Data/main/TrainingData/subject_006_01__x_time.csv', names = ['time'])\n",
        "x_6_2_t = pd.read_csv('https://raw.githubusercontent.com/sushanthreddyC/Terrain-Identification-Using-Time-Series-Data/main/TrainingData/subject_006_02__x_time.csv', names = ['time'])\n",
        "x_6_3_t = pd.read_csv('https://raw.githubusercontent.com/sushanthreddyC/Terrain-Identification-Using-Time-Series-Data/main/TrainingData/subject_006_03__x_time.csv', names = ['time'])\n",
        "\n",
        "x_7_1_t = pd.read_csv('https://raw.githubusercontent.com/sushanthreddyC/Terrain-Identification-Using-Time-Series-Data/main/TrainingData/subject_007_01__x_time.csv', names =['time'])\n",
        "x_7_2_t = pd.read_csv('https://raw.githubusercontent.com/sushanthreddyC/Terrain-Identification-Using-Time-Series-Data/main/TrainingData/subject_007_02__x_time.csv', names = ['time'])\n",
        "x_7_3_t = pd.read_csv('https://raw.githubusercontent.com/sushanthreddyC/Terrain-Identification-Using-Time-Series-Data/main/TrainingData/subject_007_03__x_time.csv', names = ['time'])\n",
        "x_7_4_t = pd.read_csv('https://raw.githubusercontent.com/sushanthreddyC/Terrain-Identification-Using-Time-Series-Data/main/TrainingData/subject_007_04__x_time.csv', names = ['time'])\n",
        "\n",
        "x_8_1_t = pd.read_csv('https://raw.githubusercontent.com/sushanthreddyC/Terrain-Identification-Using-Time-Series-Data/main/TrainingData/subject_008_01__x_time.csv', names = ['time'])"
      ],
      "metadata": {
        "id": "Y62AgRpvwd5K"
      },
      "execution_count": 3,
      "outputs": []
    },
    {
      "cell_type": "code",
      "source": [
        "y_1_1 = pd.read_csv('https://raw.githubusercontent.com/sushanthreddyC/Terrain-Identification-Using-Time-Series-Data/main/TrainingData/subject_001_01__y.csv', names = ['target'])\n",
        "y_1_2 = pd.read_csv('https://raw.githubusercontent.com/sushanthreddyC/Terrain-Identification-Using-Time-Series-Data/main/TrainingData/subject_001_02__y.csv', names = ['target'])\n",
        "y_1_3 = pd.read_csv('https://raw.githubusercontent.com/sushanthreddyC/Terrain-Identification-Using-Time-Series-Data/main/TrainingData/subject_001_03__y.csv', names = ['target'])\n",
        "y_1_4 = pd.read_csv('https://raw.githubusercontent.com/sushanthreddyC/Terrain-Identification-Using-Time-Series-Data/main/TrainingData/subject_001_04__y.csv', names = ['target'])\n",
        "y_1_5 = pd.read_csv('https://raw.githubusercontent.com/sushanthreddyC/Terrain-Identification-Using-Time-Series-Data/main/TrainingData/subject_001_05__y.csv', names = ['target'])\n",
        "y_1_6 = pd.read_csv('https://raw.githubusercontent.com/sushanthreddyC/Terrain-Identification-Using-Time-Series-Data/main/TrainingData/subject_001_06__y.csv', names = ['target'])\n",
        "y_1_7 = pd.read_csv('https://raw.githubusercontent.com/sushanthreddyC/Terrain-Identification-Using-Time-Series-Data/main/TrainingData/subject_001_07__y.csv', names = ['target'])\n",
        "y_1_8 = pd.read_csv('https://raw.githubusercontent.com/sushanthreddyC/Terrain-Identification-Using-Time-Series-Data/main/TrainingData/subject_001_08__y.csv', names = ['target'])\n",
        "\n",
        "\n",
        "\n",
        "y_2_1 = pd.read_csv('https://raw.githubusercontent.com/sushanthreddyC/Terrain-Identification-Using-Time-Series-Data/main/TrainingData/subject_002_01__y.csv', names = ['target'])\n",
        "y_2_2 = pd.read_csv('https://raw.githubusercontent.com/sushanthreddyC/Terrain-Identification-Using-Time-Series-Data/main/TrainingData/subject_002_02__y.csv', names = ['target'])\n",
        "y_2_3 = pd.read_csv('https://raw.githubusercontent.com/sushanthreddyC/Terrain-Identification-Using-Time-Series-Data/main/TrainingData/subject_002_03__y.csv', names = ['target'])\n",
        "y_2_4 = pd.read_csv('https://raw.githubusercontent.com/sushanthreddyC/Terrain-Identification-Using-Time-Series-Data/main/TrainingData/subject_002_04__y.csv', names = ['target'])\n",
        "y_2_5 = pd.read_csv('https://raw.githubusercontent.com/sushanthreddyC/Terrain-Identification-Using-Time-Series-Data/main/TrainingData/subject_002_05__y.csv', names = ['target'])\n",
        "\n",
        "\n",
        "\n",
        "y_3_1 = pd.read_csv('https://raw.githubusercontent.com/sushanthreddyC/Terrain-Identification-Using-Time-Series-Data/main/TrainingData/subject_003_01__y.csv', names = ['target'])\n",
        "y_3_2 = pd.read_csv('https://raw.githubusercontent.com/sushanthreddyC/Terrain-Identification-Using-Time-Series-Data/main/TrainingData/subject_003_02__y.csv', names = ['target'])\n",
        "y_3_3 = pd.read_csv('https://raw.githubusercontent.com/sushanthreddyC/Terrain-Identification-Using-Time-Series-Data/main/TrainingData/subject_003_03__y.csv', names = ['target'])\n",
        "\n",
        "y_4_1 = pd.read_csv('https://raw.githubusercontent.com/sushanthreddyC/Terrain-Identification-Using-Time-Series-Data/main/TrainingData/subject_004_01__y.csv',  names = ['target'])\n",
        "y_4_2 = pd.read_csv('https://raw.githubusercontent.com/sushanthreddyC/Terrain-Identification-Using-Time-Series-Data/main/TrainingData/subject_004_02__y.csv',  names = ['target'])\n",
        "\n",
        "y_5_1 = pd.read_csv('https://raw.githubusercontent.com/sushanthreddyC/Terrain-Identification-Using-Time-Series-Data/main/TrainingData/subject_005_01__y.csv', names = ['target'])\n",
        "y_5_2 = pd.read_csv('https://raw.githubusercontent.com/sushanthreddyC/Terrain-Identification-Using-Time-Series-Data/main/TrainingData/subject_005_02__y.csv', names = ['target'])\n",
        "y_5_3 = pd.read_csv('https://raw.githubusercontent.com/sushanthreddyC/Terrain-Identification-Using-Time-Series-Data/main/TrainingData/subject_005_03__y.csv', names = ['target'])\n",
        "\n",
        "\n",
        "y_6_1 = pd.read_csv('https://raw.githubusercontent.com/sushanthreddyC/Terrain-Identification-Using-Time-Series-Data/main/TrainingData/subject_006_01__y.csv', names = ['target'])\n",
        "y_6_2 = pd.read_csv('https://raw.githubusercontent.com/sushanthreddyC/Terrain-Identification-Using-Time-Series-Data/main/TrainingData/subject_006_02__y.csv', names = ['target'])\n",
        "y_6_3 = pd.read_csv('https://raw.githubusercontent.com/sushanthreddyC/Terrain-Identification-Using-Time-Series-Data/main/TrainingData/subject_006_03__y.csv', names = ['target'])\n",
        "\n",
        "y_7_1 = pd.read_csv('https://raw.githubusercontent.com/sushanthreddyC/Terrain-Identification-Using-Time-Series-Data/main/TrainingData/subject_007_01__y.csv', names = ['target'])\n",
        "y_7_2 = pd.read_csv('https://raw.githubusercontent.com/sushanthreddyC/Terrain-Identification-Using-Time-Series-Data/main/TrainingData/subject_007_02__y.csv', names = ['target'])\n",
        "y_7_3 = pd.read_csv('https://raw.githubusercontent.com/sushanthreddyC/Terrain-Identification-Using-Time-Series-Data/main/TrainingData/subject_007_03__y.csv', names = ['target'])\n",
        "y_7_4 = pd.read_csv('https://raw.githubusercontent.com/sushanthreddyC/Terrain-Identification-Using-Time-Series-Data/main/TrainingData/subject_007_04__y.csv', names = ['target'])\n",
        "\n",
        "y_8_1 = pd.read_csv('https://raw.githubusercontent.com/sushanthreddyC/Terrain-Identification-Using-Time-Series-Data/main/TrainingData/subject_008_01__y.csv', names = ['target'])"
      ],
      "metadata": {
        "id": "cY-4bPCewglo"
      },
      "execution_count": 4,
      "outputs": []
    },
    {
      "cell_type": "code",
      "source": [
        "#load data\n",
        "\n",
        "y_1_1_t = pd.read_csv('https://raw.githubusercontent.com/sushanthreddyC/Terrain-Identification-Using-Time-Series-Data/main/TrainingData/subject_001_01__y_time.csv', names = ['time'])\n",
        "y_1_2_t = pd.read_csv('https://raw.githubusercontent.com/sushanthreddyC/Terrain-Identification-Using-Time-Series-Data/main/TrainingData/subject_001_02__y_time.csv', names = ['time'])\n",
        "y_1_3_t = pd.read_csv('https://raw.githubusercontent.com/sushanthreddyC/Terrain-Identification-Using-Time-Series-Data/main/TrainingData/subject_001_03__y_time.csv', names = ['time'])\n",
        "y_1_4_t = pd.read_csv('https://raw.githubusercontent.com/sushanthreddyC/Terrain-Identification-Using-Time-Series-Data/main/TrainingData/subject_001_04__y_time.csv', names = ['time'])\n",
        "y_1_5_t = pd.read_csv('https://raw.githubusercontent.com/sushanthreddyC/Terrain-Identification-Using-Time-Series-Data/main/TrainingData/subject_001_05__y_time.csv', names = ['time'])\n",
        "y_1_6_t = pd.read_csv('https://raw.githubusercontent.com/sushanthreddyC/Terrain-Identification-Using-Time-Series-Data/main/TrainingData/subject_001_06__y_time.csv', names = ['time'])\n",
        "y_1_7_t = pd.read_csv('https://raw.githubusercontent.com/sushanthreddyC/Terrain-Identification-Using-Time-Series-Data/main/TrainingData/subject_001_07__y_time.csv', names = ['time'])\n",
        "y_1_8_t = pd.read_csv('https://raw.githubusercontent.com/sushanthreddyC/Terrain-Identification-Using-Time-Series-Data/main/TrainingData/subject_001_08__y_time.csv', names = ['time'])\n",
        "\n",
        "\n",
        "\n",
        "y_2_1_t = pd.read_csv('https://raw.githubusercontent.com/sushanthreddyC/Terrain-Identification-Using-Time-Series-Data/main/TrainingData/subject_002_01__y_time.csv', names = ['time'])\n",
        "y_2_2_t = pd.read_csv('https://raw.githubusercontent.com/sushanthreddyC/Terrain-Identification-Using-Time-Series-Data/main/TrainingData/subject_002_02__y_time.csv', names = ['time'])\n",
        "y_2_3_t = pd.read_csv('https://raw.githubusercontent.com/sushanthreddyC/Terrain-Identification-Using-Time-Series-Data/main/TrainingData/subject_002_03__y_time.csv', names = ['time'])\n",
        "y_2_4_t = pd.read_csv('https://raw.githubusercontent.com/sushanthreddyC/Terrain-Identification-Using-Time-Series-Data/main/TrainingData/subject_002_04__y_time.csv', names = ['time'])\n",
        "y_2_5_t = pd.read_csv('https://raw.githubusercontent.com/sushanthreddyC/Terrain-Identification-Using-Time-Series-Data/main/TrainingData/subject_002_05__y_time.csv', names = ['time'])\n",
        "\n",
        "\n",
        "\n",
        "y_3_1_t = pd.read_csv('https://raw.githubusercontent.com/sushanthreddyC/Terrain-Identification-Using-Time-Series-Data/main/TrainingData/subject_003_01__y_time.csv', names = ['time'])\n",
        "y_3_2_t = pd.read_csv('https://raw.githubusercontent.com/sushanthreddyC/Terrain-Identification-Using-Time-Series-Data/main/TrainingData/subject_003_02__y_time.csv', names = ['time'])\n",
        "y_3_3_t = pd.read_csv('https://raw.githubusercontent.com/sushanthreddyC/Terrain-Identification-Using-Time-Series-Data/main/TrainingData/subject_003_03__y_time.csv', names = ['time'])\n",
        "\n",
        "\n",
        "\n",
        "y_4_1_t = pd.read_csv('https://raw.githubusercontent.com/sushanthreddyC/Terrain-Identification-Using-Time-Series-Data/main/TrainingData/subject_004_01__y_time.csv',  names = ['time'])\n",
        "y_4_2_t = pd.read_csv('https://raw.githubusercontent.com/sushanthreddyC/Terrain-Identification-Using-Time-Series-Data/main/TrainingData/subject_004_02__y_time.csv',  names = ['time'])\n",
        "\n",
        "\n",
        "\n",
        "y_5_1_t = pd.read_csv('https://raw.githubusercontent.com/sushanthreddyC/Terrain-Identification-Using-Time-Series-Data/main/TrainingData/subject_005_01__y_time.csv', names = ['time'])\n",
        "y_5_2_t = pd.read_csv('https://raw.githubusercontent.com/sushanthreddyC/Terrain-Identification-Using-Time-Series-Data/main/TrainingData/subject_005_02__y_time.csv', names = ['time'])\n",
        "y_5_3_t = pd.read_csv('https://raw.githubusercontent.com/sushanthreddyC/Terrain-Identification-Using-Time-Series-Data/main/TrainingData/subject_005_03__y_time.csv', names = ['time'])\n",
        "\n",
        "\n",
        "y_6_1_t = pd.read_csv('https://raw.githubusercontent.com/sushanthreddyC/Terrain-Identification-Using-Time-Series-Data/main/TrainingData/subject_006_01__y_time.csv', names = ['time'])\n",
        "y_6_2_t = pd.read_csv('https://raw.githubusercontent.com/sushanthreddyC/Terrain-Identification-Using-Time-Series-Data/main/TrainingData/subject_006_02__y_time.csv', names = ['time'])\n",
        "y_6_3_t = pd.read_csv('https://raw.githubusercontent.com/sushanthreddyC/Terrain-Identification-Using-Time-Series-Data/main/TrainingData/subject_006_03__y_time.csv', names = ['time'])\n",
        "\n",
        "y_7_1_t = pd.read_csv('https://raw.githubusercontent.com/sushanthreddyC/Terrain-Identification-Using-Time-Series-Data/main/TrainingData/subject_007_01__y_time.csv', names =['time'])\n",
        "y_7_2_t = pd.read_csv('https://raw.githubusercontent.com/sushanthreddyC/Terrain-Identification-Using-Time-Series-Data/main/TrainingData/subject_007_02__y_time.csv', names = ['time'])\n",
        "y_7_3_t = pd.read_csv('https://raw.githubusercontent.com/sushanthreddyC/Terrain-Identification-Using-Time-Series-Data/main/TrainingData/subject_007_03__y_time.csv', names = ['time'])\n",
        "y_7_4_t = pd.read_csv('https://raw.githubusercontent.com/sushanthreddyC/Terrain-Identification-Using-Time-Series-Data/main/TrainingData/subject_007_04__y_time.csv', names = ['time'])\n",
        "\n",
        "y_8_1_t = pd.read_csv('https://raw.githubusercontent.com/sushanthreddyC/Terrain-Identification-Using-Time-Series-Data/main/TrainingData/subject_008_01__y_time.csv', names = ['time'])"
      ],
      "metadata": {
        "id": "u7_2Xut_wi2j"
      },
      "execution_count": 5,
      "outputs": []
    },
    {
      "cell_type": "code",
      "source": [
        "X =   [x_1_1, x_1_2, x_1_3, x_1_4, x_1_5, x_1_6, x_1_7, x_1_8, x_2_1, x_2_2, x_2_3, x_2_4, x_2_5, x_3_1, x_3_2, x_3_3,x_4_1,x_4_2, x_5_1,x_5_2,x_5_3, x_6_1,x_6_2, x_6_3, x_7_1, x_7_2,x_7_3,x_7_4, x_8_1]\n",
        "Y =   [y_1_1, y_1_2, y_1_3, y_1_4, y_1_5, y_1_6, y_1_7, y_1_8, y_2_1, y_2_2, y_2_3, y_2_4, y_2_5, y_3_1, y_3_2, y_3_3,y_4_1,y_4_2, y_5_1,y_5_2,y_5_3, y_6_1,y_6_2, y_6_3, y_7_1, y_7_2,y_7_3,y_7_4, y_8_1 ]\n",
        "X_t = [x_1_1_t, x_1_2_t, x_1_3_t, x_1_4_t, x_1_5_t, x_1_6_t, x_1_7_t, x_1_8_t, x_2_1_t, x_2_2_t, x_2_3_t, x_2_4_t, x_2_5_t, x_3_1_t, x_3_2_t, x_3_3_t,x_4_1_t,x_4_2_t, x_5_1_t,x_5_2_t,x_5_3_t, x_6_1_t,x_6_2_t, x_6_3_t, x_7_1_t, x_7_2_t,x_7_3_t,x_7_4_t, x_8_1_t]\n",
        "Y_t = [y_1_1_t, y_1_2_t, y_1_3_t, y_1_4_t, y_1_5_t, y_1_6_t, y_1_7_t, y_1_8_t, y_2_1_t, y_2_2_t, y_2_3_t, y_2_4_t, y_2_5_t, y_3_1_t, y_3_2_t, y_3_3_t,y_4_1_t,y_4_2_t, y_5_1_t,y_5_2_t,y_5_3_t, y_6_1_t,y_6_2_t, y_6_3_t, y_7_1_t, y_7_2_t,y_7_3_t,y_7_4_t, y_8_1_t ]"
      ],
      "metadata": {
        "id": "Oc2mQAX8wpuy"
      },
      "execution_count": 6,
      "outputs": []
    },
    {
      "cell_type": "code",
      "source": [
        "X_fin=[]\n",
        "for i in  range(len(X)):\n",
        "  X_fin.append(pd.concat([X[i],X_t[i]],axis=1))"
      ],
      "metadata": {
        "id": "vx6Oj5n7xYvq"
      },
      "execution_count": 7,
      "outputs": []
    },
    {
      "cell_type": "code",
      "source": [
        "Y_all=[]\n",
        "for i in range(len(X_fin)):\n",
        "  labels=[]\n",
        "  j,k=0,0\n",
        "  while(j < Y[i].shape[0] and k < X_fin[i].shape[0]):\n",
        "    if( X_fin[i]['time'].iloc[k]<=Y_t[i]['time'].iloc[j] ):\n",
        "      labels.append(Y[i]['target'].iloc[j])\n",
        "      k+=1\n",
        "    else:\n",
        "      j+=1\n",
        "  while(k < X_fin[i].shape[0]):\n",
        "    labels.append(Y[i]['target'].iloc[-1])\n",
        "    k+=1\n",
        "  Y_all.append(pd.DataFrame(labels, columns=['target']))"
      ],
      "metadata": {
        "id": "EiTz2WTVxlLl"
      },
      "execution_count": 8,
      "outputs": []
    },
    {
      "cell_type": "code",
      "source": [
        "X_train = pd.concat([ X_fin[0],X_fin[1],X_fin[2],X_fin[3],X_fin[4],X_fin[5],X_fin[6],X_fin[7],X_fin[8],X_fin[9],X_fin[10],X_fin[11],X_fin[12],X_fin[13],X_fin[14],X_fin[15]],axis=0)\n",
        "y_train = pd.concat([ Y_all[0],Y_all[1],Y_all[2],Y_all[3],Y_all[4],Y_all[5],Y_all[6],Y_all[7],Y_all[8],Y_all[9],Y_all[10],Y_all[11],Y_all[12],Y_all[13],Y_all[14],Y_all[15]],axis=0)"
      ],
      "metadata": {
        "id": "OyrIksu-xv8M"
      },
      "execution_count": 9,
      "outputs": []
    },
    {
      "cell_type": "code",
      "source": [
        "x_val=pd.concat([X_fin[16],X_fin[17],X_fin[18],X_fin[19],X_fin[20]],axis=0)\n",
        "y_val=pd.concat([Y_all[16],Y_all[17],Y_all[18],Y_all[19],Y_all[20]],axis=0)"
      ],
      "metadata": {
        "id": "qS-NXucax33E"
      },
      "execution_count": 10,
      "outputs": []
    },
    {
      "cell_type": "code",
      "source": [
        "X_test=pd.concat([X_fin[21],X_fin[22],X_fin[23],X_fin[24],X_fin[25],X_fin[26],X_fin[27],X_fin[28]],axis=0)\n",
        "Y_test=pd.concat([Y_all[21],Y_all[22],Y_all[23],Y_all[24],Y_all[25],Y_all[26],Y_all[27],Y_all[28]],axis=0)"
      ],
      "metadata": {
        "id": "21LLcOPMx5wN"
      },
      "execution_count": 11,
      "outputs": []
    },
    {
      "cell_type": "code",
      "source": [
        "from sklearn.model_selection import train_test_split\n",
        "X_train_t= X_train.drop(['time'], axis=1)\n",
        "X_val_t= x_val.drop(['time'], axis=1)\n",
        "X_test_t=X_test.drop(['time'], axis=1)"
      ],
      "metadata": {
        "id": "qzRS28_lyVlc"
      },
      "execution_count": 12,
      "outputs": []
    },
    {
      "cell_type": "code",
      "source": [
        "from sklearn.preprocessing import  StandardScaler\n",
        "scaler_t = StandardScaler().fit(X_train_t)\n",
        "X_train_norm_t=scaler_t.transform(X_train_t)\n",
        "X_val_norm_t  =scaler_t.transform(X_val_t)\n",
        "X_test_norm_t =scaler_t.transform(X_test_t)"
      ],
      "metadata": {
        "id": "shpyi4Jqyex-"
      },
      "execution_count": 13,
      "outputs": []
    },
    {
      "cell_type": "code",
      "source": [
        "len(X_train_norm_t)"
      ],
      "metadata": {
        "colab": {
          "base_uri": "https://localhost:8080/"
        },
        "id": "S2XLiZgbyfUo",
        "outputId": "301f8633-fae4-4fc0-8c4a-2a99a431edf0"
      },
      "execution_count": 14,
      "outputs": [
        {
          "output_type": "execute_result",
          "data": {
            "text/plain": [
              "759134"
            ]
          },
          "metadata": {},
          "execution_count": 14
        }
      ]
    },
    {
      "cell_type": "code",
      "source": [
        "len(y_train)"
      ],
      "metadata": {
        "colab": {
          "base_uri": "https://localhost:8080/"
        },
        "id": "w0K9AnuKykrD",
        "outputId": "097e1c3c-a9aa-4852-f2b7-5645885ec03d"
      },
      "execution_count": 15,
      "outputs": [
        {
          "output_type": "execute_result",
          "data": {
            "text/plain": [
              "759134"
            ]
          },
          "metadata": {},
          "execution_count": 15
        }
      ]
    },
    {
      "cell_type": "code",
      "source": [
        "X_train_norm_t.shape[0] % 20"
      ],
      "metadata": {
        "colab": {
          "base_uri": "https://localhost:8080/"
        },
        "id": "P-R3Robwz6oJ",
        "outputId": "961ce8b3-8ce5-4e02-e30e-dd6462a6dce4"
      },
      "execution_count": 16,
      "outputs": [
        {
          "output_type": "execute_result",
          "data": {
            "text/plain": [
              "14"
            ]
          },
          "metadata": {},
          "execution_count": 16
        }
      ]
    },
    {
      "cell_type": "code",
      "source": [
        "def sampling(x, y, sampling_size=20):\n",
        "  sample_x=[]\n",
        "  sample_y=[]\n",
        "  rem = x.shape[0]%sampling_size\n",
        "  if(rem):\n",
        "    x = pd.concat([x, x[-(sampling_size-rem):]])\n",
        "    y = pd.concat([y, y[-(sampling_size-rem):]])\n",
        "  for i in range(0, len(x)-sampling_size+1, sampling_size):\n",
        "    sample_x.append([x.values[i:i+sampling_size]])\n",
        "    sample_y.append([y.values[i:i+sampling_size]])\n",
        "  sample_x=np.array(sample_x).reshape(-1,sampling_size,6)\n",
        "  sample_y=np.array(sample_y).reshape(-1,sampling_size,1)\n",
        "  return sample_x, sample_y"
      ],
      "metadata": {
        "id": "rd9BctaFyr46"
      },
      "execution_count": 17,
      "outputs": []
    },
    {
      "cell_type": "code",
      "source": [
        "X_Train,Y_Train=sampling(pd.DataFrame(X_train_norm_t, columns = ['ax','ay','az','gx','gy','gz']), y_train )\n",
        "X_val,Y_val=sampling(pd.DataFrame(X_val_norm_t, columns = ['ax','ay','az','gx','gy','gz']), y_val )\n",
        "X_Test,Y_Test=sampling(pd.DataFrame(X_test_norm_t, columns = ['ax','ay','az','gx','gy','gz']), Y_test )"
      ],
      "metadata": {
        "id": "eHw0p4Z3zTrm"
      },
      "execution_count": 18,
      "outputs": []
    },
    {
      "cell_type": "code",
      "source": [
        "X_Train.shape, Y_Train.shape"
      ],
      "metadata": {
        "colab": {
          "base_uri": "https://localhost:8080/"
        },
        "id": "bBFMslwIzrql",
        "outputId": "2058dee4-9c64-47fa-e154-4e843bccf4ef"
      },
      "execution_count": 19,
      "outputs": [
        {
          "output_type": "execute_result",
          "data": {
            "text/plain": [
              "((37957, 20, 6), (37957, 20, 1))"
            ]
          },
          "metadata": {},
          "execution_count": 19
        }
      ]
    },
    {
      "cell_type": "code",
      "source": [
        "X_val.shape, Y_val.shape"
      ],
      "metadata": {
        "colab": {
          "base_uri": "https://localhost:8080/"
        },
        "id": "QagUijjr1JXA",
        "outputId": "84347286-62e3-42bd-daeb-357989df45e6"
      },
      "execution_count": 20,
      "outputs": [
        {
          "output_type": "execute_result",
          "data": {
            "text/plain": [
              "((10215, 20, 6), (10215, 20, 1))"
            ]
          },
          "metadata": {},
          "execution_count": 20
        }
      ]
    },
    {
      "cell_type": "code",
      "source": [
        "Xt = pd.concat([pd.DataFrame(X_train_norm_t, columns = ['ax','ay','az','gx','gy','gz']), \n",
        "                pd.DataFrame(X_val_norm_t, columns = ['ax','ay','az','gx','gy','gz'])],\n",
        "                axis = 0)\n",
        "Yt = pd.concat([y_train, \n",
        "                y_val],\n",
        "                axis = 0)\n",
        "\n",
        "Xt.shape, Yt.shape"
      ],
      "metadata": {
        "colab": {
          "base_uri": "https://localhost:8080/"
        },
        "id": "K5le3apMJkow",
        "outputId": "271fece2-b687-4741-9569-a934bcaa4418"
      },
      "execution_count": 21,
      "outputs": [
        {
          "output_type": "execute_result",
          "data": {
            "text/plain": [
              "((963422, 6), (963422, 1))"
            ]
          },
          "metadata": {},
          "execution_count": 21
        }
      ]
    },
    {
      "cell_type": "code",
      "source": [
        "X_Train,Y_Train=sampling(Xt,Yt)\n",
        "\n",
        "X_Test,Y_Test=sampling(pd.DataFrame(X_test_norm_t, columns = ['ax','ay','az','gx','gy','gz']), Y_test )"
      ],
      "metadata": {
        "id": "d-xu9aSzKZIb"
      },
      "execution_count": 22,
      "outputs": []
    },
    {
      "cell_type": "code",
      "source": [
        "X_Train.shape, Y_Train.shape"
      ],
      "metadata": {
        "colab": {
          "base_uri": "https://localhost:8080/"
        },
        "id": "X2D7HqTMKhoo",
        "outputId": "222cb806-8029-4d08-e85d-2e90b977ccf0"
      },
      "execution_count": 23,
      "outputs": [
        {
          "output_type": "execute_result",
          "data": {
            "text/plain": [
              "((48172, 20, 6), (48172, 20, 1))"
            ]
          },
          "metadata": {},
          "execution_count": 23
        }
      ]
    },
    {
      "cell_type": "code",
      "source": [
        "X_Test.shape, Y_Test.shape"
      ],
      "metadata": {
        "colab": {
          "base_uri": "https://localhost:8080/"
        },
        "id": "JNAhmln6KmLK",
        "outputId": "8e8805e7-2336-4543-fc58-e944f3e7659c"
      },
      "execution_count": 24,
      "outputs": [
        {
          "output_type": "execute_result",
          "data": {
            "text/plain": [
              "((18912, 20, 6), (18912, 20, 1))"
            ]
          },
          "metadata": {},
          "execution_count": 24
        }
      ]
    },
    {
      "cell_type": "markdown",
      "source": [
        "## tf.Data and Keras Model API"
      ],
      "metadata": {
        "id": "sIn_17DUVoMx"
      }
    },
    {
      "cell_type": "code",
      "source": [
        "measures_train = tf.data.Dataset.from_tensor_slices((X_Train))\n",
        "labels_train = tf.data.Dataset.from_tensor_slices((Y_Train))\n",
        "train_loader = tf.data.Dataset.zip((measures_train, labels_train)).batch(32).prefetch(tf.data.AUTOTUNE)"
      ],
      "metadata": {
        "id": "gJORYIpf1WNA"
      },
      "execution_count": 26,
      "outputs": []
    },
    {
      "cell_type": "code",
      "source": [
        "inputs = tf.keras.layers.Input(shape=(20,6), name='ip')\n",
        "\n",
        "\n",
        "conv = tf.keras.layers.Conv1D(128, 4, padding='same', activation='relu', name='conv1')(inputs)\n",
        "batch_norm = tf.keras.layers.BatchNormalization(name='BN1')(conv)\n",
        "avg_pool = tf.keras.layers.AvgPool1D(2, padding='valid', name='ap1')(batch_norm)\n",
        "dropout = tf.keras.layers.Dropout(0.1)(avg_pool)\n",
        "\n",
        "conv2 = tf.keras.layers.Conv1D(512, 4, padding='same', activation='relu')(dropout)\n",
        "#conv2 = tf.keras.layers.Conv1D(512, 4, padding='same', activation='relu', name='conv2')(avg_pool)\n",
        "batch_norm2 = tf.keras.layers.BatchNormalization(name='bn2')(conv2)\n",
        "avg_pool2 = tf.keras.layers.AvgPool1D(2, padding='valid', name='ap2')(batch_norm2)\n",
        "dropout2 = tf.keras.layers.Dropout(0.5)(avg_pool2)\n",
        "\n",
        "conv3 = tf.keras.layers.Conv1D(256, 4, padding='same', activation='relu')(dropout2)\n",
        "#conv3 = tf.keras.layers.Conv1D(256, 4, padding='same', activation='relu', name='conv3')(avg_pool2)\n",
        "batch_norm3 = tf.keras.layers.BatchNormalization(name='bn3')(conv3)\n",
        "upsample = tf.keras.layers.UpSampling1D(2, name='us1')(batch_norm3)\n",
        "dropout3 = tf.keras.layers.Dropout(0.1)(upsample)\n",
        "\n",
        "\n",
        "#lstm = tf.keras.layers.Bidirectional(tf.keras.layers.LSTM(128, activation='relu', return_sequences=True), name='Bi')(upsample)\n",
        "lstm = tf.keras.layers.Bidirectional(tf.keras.layers.LSTM(128, activation='relu', return_sequences=True))(dropout3)\n",
        "upsample2 = tf.keras.layers.UpSampling1D(2, name='us2')(lstm)\n",
        "outputs = tf.keras.layers.Dense(4, activation='softmax', name='op')(upsample2)\n",
        "\n",
        "model = tf.keras.Model(inputs, outputs)\n",
        "model.summary()"
      ],
      "metadata": {
        "colab": {
          "base_uri": "https://localhost:8080/"
        },
        "id": "9hEVR1pZ2Nc8",
        "outputId": "74dfb2fb-96d4-4510-83ce-b66bc391d66d"
      },
      "execution_count": 31,
      "outputs": [
        {
          "output_type": "stream",
          "name": "stderr",
          "text": [
            "WARNING:tensorflow:Layer lstm_2 will not use cuDNN kernels since it doesn't meet the criteria. It will use a generic GPU kernel as fallback when running on GPU.\n",
            "WARNING:tensorflow:Layer lstm_2 will not use cuDNN kernels since it doesn't meet the criteria. It will use a generic GPU kernel as fallback when running on GPU.\n",
            "WARNING:tensorflow:Layer lstm_2 will not use cuDNN kernels since it doesn't meet the criteria. It will use a generic GPU kernel as fallback when running on GPU.\n"
          ]
        },
        {
          "output_type": "stream",
          "name": "stdout",
          "text": [
            "Model: \"model_2\"\n",
            "_________________________________________________________________\n",
            " Layer (type)                Output Shape              Param #   \n",
            "=================================================================\n",
            " ip (InputLayer)             [(None, 20, 6)]           0         \n",
            "                                                                 \n",
            " conv1 (Conv1D)              (None, 20, 128)           3200      \n",
            "                                                                 \n",
            " BN1 (BatchNormalization)    (None, 20, 128)           512       \n",
            "                                                                 \n",
            " ap1 (AveragePooling1D)      (None, 10, 128)           0         \n",
            "                                                                 \n",
            " dropout (Dropout)           (None, 10, 128)           0         \n",
            "                                                                 \n",
            " conv1d (Conv1D)             (None, 10, 512)           262656    \n",
            "                                                                 \n",
            " bn2 (BatchNormalization)    (None, 10, 512)           2048      \n",
            "                                                                 \n",
            " ap2 (AveragePooling1D)      (None, 5, 512)            0         \n",
            "                                                                 \n",
            " dropout_1 (Dropout)         (None, 5, 512)            0         \n",
            "                                                                 \n",
            " conv1d_1 (Conv1D)           (None, 5, 256)            524544    \n",
            "                                                                 \n",
            " bn3 (BatchNormalization)    (None, 5, 256)            1024      \n",
            "                                                                 \n",
            " us1 (UpSampling1D)          (None, 10, 256)           0         \n",
            "                                                                 \n",
            " dropout_2 (Dropout)         (None, 10, 256)           0         \n",
            "                                                                 \n",
            " bidirectional (Bidirectiona  (None, 10, 256)          394240    \n",
            " l)                                                              \n",
            "                                                                 \n",
            " us2 (UpSampling1D)          (None, 20, 256)           0         \n",
            "                                                                 \n",
            " op (Dense)                  (None, 20, 4)             1028      \n",
            "                                                                 \n",
            "=================================================================\n",
            "Total params: 1,189,252\n",
            "Trainable params: 1,187,460\n",
            "Non-trainable params: 1,792\n",
            "_________________________________________________________________\n"
          ]
        }
      ]
    },
    {
      "cell_type": "code",
      "source": [
        "from keras.utils import plot_model\n",
        "\n",
        "plot_model(model)"
      ],
      "metadata": {
        "colab": {
          "base_uri": "https://localhost:8080/",
          "height": 1000
        },
        "id": "Cs9Ba5KcSsVs",
        "outputId": "5e4ffef9-9b75-4a4e-b879-365d5d499519"
      },
      "execution_count": 32,
      "outputs": [
        {
          "output_type": "execute_result",
          "data": {
            "image/png": "[encoded data removed]",
            "text/plain": [
              "<IPython.core.display.Image object>"
            ]
          },
          "metadata": {},
          "execution_count": 32
        }
      ]
    },
    {
      "cell_type": "code",
      "source": [
        "model.compile(\n",
        "    optimizer = tf.keras.optimizers.Adam(),\n",
        "    loss = tf.keras.losses.SparseCategoricalCrossentropy(),\n",
        "    metrics = ['accuracy']\n",
        ")"
      ],
      "metadata": {
        "id": "0CWt3PYZ4OCI"
      },
      "execution_count": 33,
      "outputs": []
    },
    {
      "cell_type": "code",
      "source": [
        "model.fit(train_loader,\n",
        "          epochs=5)"
      ],
      "metadata": {
        "colab": {
          "base_uri": "https://localhost:8080/"
        },
        "id": "Fgqn_AbOBRp1",
        "outputId": "43bd720b-9cc9-4c67-ccb6-a49cdc6dec73"
      },
      "execution_count": 34,
      "outputs": [
        {
          "output_type": "stream",
          "name": "stdout",
          "text": [
            "Epoch 1/5\n",
            "1506/1506 [==============================] - 82s 51ms/step - loss: 0.5944 - accuracy: 0.7978\n",
            "Epoch 2/5\n",
            "1506/1506 [==============================] - 77s 51ms/step - loss: 0.4547 - accuracy: 0.8310\n",
            "Epoch 3/5\n",
            "1506/1506 [==============================] - 78s 52ms/step - loss: 0.3926 - accuracy: 0.8477\n",
            "Epoch 4/5\n",
            "1506/1506 [==============================] - 74s 49ms/step - loss: 0.3351 - accuracy: 0.8693\n",
            "Epoch 5/5\n",
            "1506/1506 [==============================] - 75s 50ms/step - loss: 0.2768 - accuracy: 0.8942\n"
          ]
        },
        {
          "output_type": "execute_result",
          "data": {
            "text/plain": [
              "<keras.callbacks.History at 0x7f9a66b455d0>"
            ]
          },
          "metadata": {},
          "execution_count": 34
        }
      ]
    },
    {
      "cell_type": "code",
      "source": [
        "X_Test.shape"
      ],
      "metadata": {
        "colab": {
          "base_uri": "https://localhost:8080/"
        },
        "id": "v775ZJaAC28Q",
        "outputId": "cd0601b9-afb5-4b5b-cf44-4febd4f0e495"
      },
      "execution_count": 35,
      "outputs": [
        {
          "output_type": "execute_result",
          "data": {
            "text/plain": [
              "(18912, 20, 6)"
            ]
          },
          "metadata": {},
          "execution_count": 35
        }
      ]
    },
    {
      "cell_type": "code",
      "source": [
        "best_preds_cnn_lstm = model(X_Test)"
      ],
      "metadata": {
        "id": "6fVcvu_RBid1"
      },
      "execution_count": 36,
      "outputs": []
    },
    {
      "cell_type": "code",
      "source": [
        "final_preds = np.argmax(best_preds_cnn_lstm, axis=-1)"
      ],
      "metadata": {
        "id": "pH3BvkLkDhQY"
      },
      "execution_count": 37,
      "outputs": []
    },
    {
      "cell_type": "code",
      "source": [
        "final_preds.shape, Y_Test.squeeze().shape"
      ],
      "metadata": {
        "colab": {
          "base_uri": "https://localhost:8080/"
        },
        "id": "j-EI6XTMDmYO",
        "outputId": "92b081ce-a163-4449-e6f2-2abadeabe64b"
      },
      "execution_count": 38,
      "outputs": [
        {
          "output_type": "execute_result",
          "data": {
            "text/plain": [
              "((18912, 20), (18912, 20))"
            ]
          },
          "metadata": {},
          "execution_count": 38
        }
      ]
    },
    {
      "cell_type": "code",
      "source": [
        "Y_T =Y_Test.squeeze()"
      ],
      "metadata": {
        "id": "gs_yPDAZEQmE"
      },
      "execution_count": 39,
      "outputs": []
    },
    {
      "cell_type": "code",
      "source": [
        "import collections\n",
        "outs = collections.defaultdict(int)\n",
        "for i in final_preds:\n",
        "  for j in i:\n",
        "    outs[j]+=1\n",
        "outs"
      ],
      "metadata": {
        "colab": {
          "base_uri": "https://localhost:8080/"
        },
        "id": "h2sL_3C4Dxvk",
        "outputId": "ac1d619f-b460-45a2-dd56-c1ebb498341c"
      },
      "execution_count": 40,
      "outputs": [
        {
          "output_type": "execute_result",
          "data": {
            "text/plain": [
              "defaultdict(int, {0: 324296, 2: 17304, 1: 9806, 3: 26834})"
            ]
          },
          "metadata": {},
          "execution_count": 40
        }
      ]
    },
    {
      "cell_type": "code",
      "source": [
        "from sklearn.base import inspect\n",
        "ins = collections.defaultdict(int)\n",
        "for i in Y_T:\n",
        "  for j in i:\n",
        "    ins[j]+=1\n",
        "ins"
      ],
      "metadata": {
        "colab": {
          "base_uri": "https://localhost:8080/"
        },
        "id": "omQEXnGHEH8e",
        "outputId": "69d6cfda-fa43-4aad-b85e-970f05579037"
      },
      "execution_count": 41,
      "outputs": [
        {
          "output_type": "execute_result",
          "data": {
            "text/plain": [
              "defaultdict(int, {0: 285164, 1: 10840, 3: 65040, 2: 17196})"
            ]
          },
          "metadata": {},
          "execution_count": 41
        }
      ]
    },
    {
      "cell_type": "code",
      "source": [
        "from sklearn.metrics import classification_report\n",
        "print(classification_report(Y_T.flatten(), final_preds.flatten()))"
      ],
      "metadata": {
        "colab": {
          "base_uri": "https://localhost:8080/"
        },
        "id": "19z0ZjdRFXYO",
        "outputId": "fcf71606-e100-46af-e374-12eb6beab6fe"
      },
      "execution_count": 42,
      "outputs": [
        {
          "output_type": "stream",
          "name": "stdout",
          "text": [
            "              precision    recall  f1-score   support\n",
            "\n",
            "           0       0.84      0.96      0.90    285164\n",
            "           1       0.77      0.70      0.74     10840\n",
            "           2       0.80      0.81      0.81     17196\n",
            "           3       0.64      0.26      0.37     65040\n",
            "\n",
            "    accuracy                           0.83    378240\n",
            "   macro avg       0.77      0.68      0.70    378240\n",
            "weighted avg       0.80      0.83      0.80    378240\n",
            "\n"
          ]
        }
      ]
    },
    {
      "cell_type": "code",
      "source": [],
      "metadata": {
        "id": "VbgOF5QfF0b3"
      },
      "execution_count": null,
      "outputs": []
    }
  ]
}