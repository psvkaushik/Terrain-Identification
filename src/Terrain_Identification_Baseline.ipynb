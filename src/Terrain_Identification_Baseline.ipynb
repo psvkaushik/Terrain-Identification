{
  "nbformat": 4,
  "nbformat_minor": 0,
  "metadata": {
    "colab": {
      "provenance": [],
      "collapsed_sections": [
        "OcAQuWCGXNxo",
        "UojWYrUkNGCP"
      ]
    },
    "kernelspec": {
      "name": "python3",
      "display_name": "Python 3"
    },
    "language_info": {
      "name": "python"
    },
    "gpuClass": "standard"
  },
  "cells": [
    {
      "cell_type": "markdown",
      "source": [
        "##Necessary imports"
      ],
      "metadata": {
        "id": "y-Cer2vLGX-Z"
      }
    },
    {
      "cell_type": "code",
      "execution_count": null,
      "metadata": {
        "id": "NGm6Zp0FLXGh"
      },
      "outputs": [],
      "source": [
        "#imports\n",
        "\n",
        "import numpy as np\n",
        "import pandas as pd\n",
        "import matplotlib.pyplot as plt\n",
        "from sklearn.model_selection import train_test_split\n",
        "from sklearn.preprocessing import StandardScaler\n",
        "from imblearn import over_sampling\n",
        "from sklearn.ensemble import RandomForestClassifier\n",
        "from sklearn.tree import DecisionTreeClassifier\n",
        "test_size = 0.3\n",
        "random_seed=69"
      ]
    },
    {
      "cell_type": "markdown",
      "source": [
        "###Load Data"
      ],
      "metadata": {
        "id": "4UhZXeV1GedO"
      }
    },
    {
      "cell_type": "code",
      "source": [
        "#load data\n",
        "\n",
        "x_1_1 = pd.read_csv('https://raw.githubusercontent.com/sushanthreddyC/Terrain-Identification-Using-Time-Series-Data/main/TrainingData/subject_001_01__x.csv', names = ['ax', 'ay', 'az', 'gx', 'gy', 'gz'])\n",
        "x_1_2 = pd.read_csv('https://raw.githubusercontent.com/sushanthreddyC/Terrain-Identification-Using-Time-Series-Data/main/TrainingData/subject_001_02__x.csv', names = ['ax', 'ay', 'az', 'gx', 'gy', 'gz'])\n",
        "x_1_3 = pd.read_csv('https://raw.githubusercontent.com/sushanthreddyC/Terrain-Identification-Using-Time-Series-Data/main/TrainingData/subject_001_03__x.csv', names = ['ax', 'ay', 'az', 'gx', 'gy', 'gz'])\n",
        "x_1_4 = pd.read_csv('https://raw.githubusercontent.com/sushanthreddyC/Terrain-Identification-Using-Time-Series-Data/main/TrainingData/subject_001_04__x.csv', names = ['ax', 'ay', 'az', 'gx', 'gy', 'gz'])\n",
        "x_1_5 = pd.read_csv('https://raw.githubusercontent.com/sushanthreddyC/Terrain-Identification-Using-Time-Series-Data/main/TrainingData/subject_001_05__x.csv', names = ['ax', 'ay', 'az', 'gx', 'gy', 'gz'])\n",
        "x_1_6 = pd.read_csv('https://raw.githubusercontent.com/sushanthreddyC/Terrain-Identification-Using-Time-Series-Data/main/TrainingData/subject_001_06__x.csv', names = ['ax', 'ay', 'az', 'gx', 'gy', 'gz'])\n",
        "x_1_7 = pd.read_csv('https://raw.githubusercontent.com/sushanthreddyC/Terrain-Identification-Using-Time-Series-Data/main/TrainingData/subject_001_07__x.csv', names = ['ax', 'ay', 'az', 'gx', 'gy', 'gz'])\n",
        "x_1_8 = pd.read_csv('https://raw.githubusercontent.com/sushanthreddyC/Terrain-Identification-Using-Time-Series-Data/main/TrainingData/subject_001_08__x.csv', names = ['ax', 'ay', 'az', 'gx', 'gy', 'gz'])\n",
        "\n",
        "\n",
        "\n",
        "x_2_1 = pd.read_csv('https://raw.githubusercontent.com/sushanthreddyC/Terrain-Identification-Using-Time-Series-Data/main/TrainingData/subject_002_01__x.csv', names = ['ax', 'ay', 'az', 'gx', 'gy', 'gz'])\n",
        "x_2_2 = pd.read_csv('https://raw.githubusercontent.com/sushanthreddyC/Terrain-Identification-Using-Time-Series-Data/main/TrainingData/subject_002_02__x.csv', names = ['ax', 'ay', 'az', 'gx', 'gy', 'gz'])\n",
        "x_2_3 = pd.read_csv('https://raw.githubusercontent.com/sushanthreddyC/Terrain-Identification-Using-Time-Series-Data/main/TrainingData/subject_002_03__x.csv', names = ['ax', 'ay', 'az', 'gx', 'gy', 'gz'])\n",
        "x_2_4 = pd.read_csv('https://raw.githubusercontent.com/sushanthreddyC/Terrain-Identification-Using-Time-Series-Data/main/TrainingData/subject_002_04__x.csv', names = ['ax', 'ay', 'az', 'gx', 'gy', 'gz'])\n",
        "x_2_5 = pd.read_csv('https://raw.githubusercontent.com/sushanthreddyC/Terrain-Identification-Using-Time-Series-Data/main/TrainingData/subject_002_05__x.csv', names = ['ax', 'ay', 'az', 'gx', 'gy', 'gz'])\n",
        "\n",
        "\n",
        "\n",
        "x_3_1 = pd.read_csv('https://raw.githubusercontent.com/sushanthreddyC/Terrain-Identification-Using-Time-Series-Data/main/TrainingData/subject_003_01__x.csv', names = ['ax', 'ay', 'az', 'gx', 'gy', 'gz'])\n",
        "x_3_2 = pd.read_csv('https://raw.githubusercontent.com/sushanthreddyC/Terrain-Identification-Using-Time-Series-Data/main/TrainingData/subject_003_02__x.csv', names = ['ax', 'ay', 'az', 'gx', 'gy', 'gz'])\n",
        "x_3_3 = pd.read_csv('https://raw.githubusercontent.com/sushanthreddyC/Terrain-Identification-Using-Time-Series-Data/main/TrainingData/subject_003_03__x.csv', names = ['ax', 'ay', 'az', 'gx', 'gy', 'gz'])\n",
        "\n",
        "\n",
        "\n",
        "x_4_1 = pd.read_csv('https://raw.githubusercontent.com/sushanthreddyC/Terrain-Identification-Using-Time-Series-Data/main/TrainingData/subject_004_01__x.csv',  names = ['ax', 'ay', 'az', 'gx', 'gy', 'gz'])\n",
        "x_4_2 = pd.read_csv('https://raw.githubusercontent.com/sushanthreddyC/Terrain-Identification-Using-Time-Series-Data/main/TrainingData/subject_004_02__x.csv',  names = ['ax', 'ay', 'az', 'gx', 'gy', 'gz'])\n",
        "\n",
        "\n",
        "\n",
        "x_5_1 = pd.read_csv('https://raw.githubusercontent.com/sushanthreddyC/Terrain-Identification-Using-Time-Series-Data/main/TrainingData/subject_005_01__x.csv', names = ['ax', 'ay', 'az', 'gx', 'gy', 'gz'])\n",
        "x_5_2 = pd.read_csv('https://raw.githubusercontent.com/sushanthreddyC/Terrain-Identification-Using-Time-Series-Data/main/TrainingData/subject_005_02__x.csv', names = ['ax', 'ay', 'az', 'gx', 'gy', 'gz'])\n",
        "x_5_3 = pd.read_csv('https://raw.githubusercontent.com/sushanthreddyC/Terrain-Identification-Using-Time-Series-Data/main/TrainingData/subject_005_03__x.csv', names = ['ax', 'ay', 'az', 'gx', 'gy', 'gz'])\n",
        "\n",
        "\n",
        "x_6_1 = pd.read_csv('https://raw.githubusercontent.com/sushanthreddyC/Terrain-Identification-Using-Time-Series-Data/main/TrainingData/subject_006_01__x.csv', names = ['ax', 'ay', 'az', 'gx', 'gy', 'gz'])\n",
        "x_6_2 = pd.read_csv('https://raw.githubusercontent.com/sushanthreddyC/Terrain-Identification-Using-Time-Series-Data/main/TrainingData/subject_006_02__x.csv', names = ['ax', 'ay', 'az', 'gx', 'gy', 'gz'])\n",
        "x_6_3 = pd.read_csv('https://raw.githubusercontent.com/sushanthreddyC/Terrain-Identification-Using-Time-Series-Data/main/TrainingData/subject_006_03__x.csv', names = ['ax', 'ay', 'az', 'gx', 'gy', 'gz'])\n",
        "\n",
        "x_7_1 = pd.read_csv('https://raw.githubusercontent.com/sushanthreddyC/Terrain-Identification-Using-Time-Series-Data/main/TrainingData/subject_007_01__x.csv', names = ['ax', 'ay', 'az', 'gx', 'gy', 'gz'])\n",
        "x_7_2 = pd.read_csv('https://raw.githubusercontent.com/sushanthreddyC/Terrain-Identification-Using-Time-Series-Data/main/TrainingData/subject_007_02__x.csv', names = ['ax', 'ay', 'az', 'gx', 'gy', 'gz'])\n",
        "x_7_3 = pd.read_csv('https://raw.githubusercontent.com/sushanthreddyC/Terrain-Identification-Using-Time-Series-Data/main/TrainingData/subject_007_03__x.csv', names = ['ax', 'ay', 'az', 'gx', 'gy', 'gz'])\n",
        "x_7_4 = pd.read_csv('https://raw.githubusercontent.com/sushanthreddyC/Terrain-Identification-Using-Time-Series-Data/main/TrainingData/subject_007_04__x.csv', names = ['ax', 'ay', 'az', 'gx', 'gy', 'gz'])\n",
        "\n",
        "x_8_1 = pd.read_csv('https://raw.githubusercontent.com/sushanthreddyC/Terrain-Identification-Using-Time-Series-Data/main/TrainingData/subject_008_01__x.csv', names = ['ax', 'ay', 'az', 'gx', 'gy', 'gz'])"
      ],
      "metadata": {
        "id": "HqX6PH0UM2IR"
      },
      "execution_count": null,
      "outputs": []
    },
    {
      "cell_type": "code",
      "source": [
        "#load time data\n",
        "\n",
        "x_1_1_time = pd.read_csv('https://raw.githubusercontent.com/sushanthreddyC/Terrain-Identification-Using-Time-Series-Data/main/TrainingData/subject_001_01__x_time.csv', names = ['time'])\n",
        "x_1_2_time = pd.read_csv('https://raw.githubusercontent.com/sushanthreddyC/Terrain-Identification-Using-Time-Series-Data/main/TrainingData/subject_001_02__x_time.csv', names = ['time'])\n",
        "x_1_3_time = pd.read_csv('https://raw.githubusercontent.com/sushanthreddyC/Terrain-Identification-Using-Time-Series-Data/main/TrainingData/subject_001_03__x_time.csv', names = ['time'])\n",
        "x_1_4_time = pd.read_csv('https://raw.githubusercontent.com/sushanthreddyC/Terrain-Identification-Using-Time-Series-Data/main/TrainingData/subject_001_04__x_time.csv', names = ['time'])\n",
        "x_1_5_time = pd.read_csv('https://raw.githubusercontent.com/sushanthreddyC/Terrain-Identification-Using-Time-Series-Data/main/TrainingData/subject_001_05__x_time.csv', names = ['time'])\n",
        "x_1_6_time = pd.read_csv('https://raw.githubusercontent.com/sushanthreddyC/Terrain-Identification-Using-Time-Series-Data/main/TrainingData/subject_001_06__x_time.csv', names = ['time'])\n",
        "x_1_7_time = pd.read_csv('https://raw.githubusercontent.com/sushanthreddyC/Terrain-Identification-Using-Time-Series-Data/main/TrainingData/subject_001_07__x_time.csv', names = ['time'])\n",
        "x_1_8_time = pd.read_csv('https://raw.githubusercontent.com/sushanthreddyC/Terrain-Identification-Using-Time-Series-Data/main/TrainingData/subject_001_08__x_time.csv', names = ['time'])\n",
        "\n",
        "\n",
        "\n",
        "x_2_1_time = pd.read_csv('https://raw.githubusercontent.com/sushanthreddyC/Terrain-Identification-Using-Time-Series-Data/main/TrainingData/subject_002_01__x_time.csv', names = ['time'])\n",
        "x_2_2_time = pd.read_csv('https://raw.githubusercontent.com/sushanthreddyC/Terrain-Identification-Using-Time-Series-Data/main/TrainingData/subject_002_02__x_time.csv', names = ['time'])\n",
        "x_2_3_time = pd.read_csv('https://raw.githubusercontent.com/sushanthreddyC/Terrain-Identification-Using-Time-Series-Data/main/TrainingData/subject_002_03__x_time.csv', names = ['time'])\n",
        "x_2_4_time = pd.read_csv('https://raw.githubusercontent.com/sushanthreddyC/Terrain-Identification-Using-Time-Series-Data/main/TrainingData/subject_002_04__x_time.csv', names = ['time'])\n",
        "x_2_5_time = pd.read_csv('https://raw.githubusercontent.com/sushanthreddyC/Terrain-Identification-Using-Time-Series-Data/main/TrainingData/subject_002_05__x_time.csv', names = ['time'])\n",
        "\n",
        "\n",
        "\n",
        "x_3_1_time = pd.read_csv('https://raw.githubusercontent.com/sushanthreddyC/Terrain-Identification-Using-Time-Series-Data/main/TrainingData/subject_003_01__x_time.csv', names = ['time'])\n",
        "x_3_2_time = pd.read_csv('https://raw.githubusercontent.com/sushanthreddyC/Terrain-Identification-Using-Time-Series-Data/main/TrainingData/subject_003_02__x_time.csv', names = ['time'])\n",
        "x_3_3_time = pd.read_csv('https://raw.githubusercontent.com/sushanthreddyC/Terrain-Identification-Using-Time-Series-Data/main/TrainingData/subject_003_03__x_time.csv', names = ['time'])\n",
        "\n",
        "\n",
        "\n",
        "x_4_1_time = pd.read_csv('https://raw.githubusercontent.com/sushanthreddyC/Terrain-Identification-Using-Time-Series-Data/main/TrainingData/subject_004_01__x_time.csv', names = ['time'])\n",
        "x_4_2_time = pd.read_csv('https://raw.githubusercontent.com/sushanthreddyC/Terrain-Identification-Using-Time-Series-Data/main/TrainingData/subject_004_02__x_time.csv', names = ['time'])\n",
        "\n",
        "\n",
        "\n",
        "x_5_1_time = pd.read_csv('https://raw.githubusercontent.com/sushanthreddyC/Terrain-Identification-Using-Time-Series-Data/main/TrainingData/subject_005_01__x_time.csv', names = ['time'])\n",
        "x_5_2_time = pd.read_csv('https://raw.githubusercontent.com/sushanthreddyC/Terrain-Identification-Using-Time-Series-Data/main/TrainingData/subject_005_02__x_time.csv', names = ['time'])\n",
        "x_5_3_time = pd.read_csv('https://raw.githubusercontent.com/sushanthreddyC/Terrain-Identification-Using-Time-Series-Data/main/TrainingData/subject_005_03__x_time.csv', names = ['time'])\n",
        "\n",
        "\n",
        "x_6_1_time = pd.read_csv('https://raw.githubusercontent.com/sushanthreddyC/Terrain-Identification-Using-Time-Series-Data/main/TrainingData/subject_006_01__x_time.csv', names = ['time'])\n",
        "x_6_2_time = pd.read_csv('https://raw.githubusercontent.com/sushanthreddyC/Terrain-Identification-Using-Time-Series-Data/main/TrainingData/subject_006_02__x_time.csv', names = ['time'])\n",
        "x_6_3_time = pd.read_csv('https://raw.githubusercontent.com/sushanthreddyC/Terrain-Identification-Using-Time-Series-Data/main/TrainingData/subject_006_03__x_time.csv', names = ['time'])\n",
        "\n",
        "x_7_1_time = pd.read_csv('https://raw.githubusercontent.com/sushanthreddyC/Terrain-Identification-Using-Time-Series-Data/main/TrainingData/subject_007_01__x_time.csv', names = ['time'])\n",
        "x_7_2_time = pd.read_csv('https://raw.githubusercontent.com/sushanthreddyC/Terrain-Identification-Using-Time-Series-Data/main/TrainingData/subject_007_02__x_time.csv', names = ['time'])\n",
        "x_7_3_time = pd.read_csv('https://raw.githubusercontent.com/sushanthreddyC/Terrain-Identification-Using-Time-Series-Data/main/TrainingData/subject_007_03__x_time.csv', names = ['time'])\n",
        "x_7_4_time = pd.read_csv('https://raw.githubusercontent.com/sushanthreddyC/Terrain-Identification-Using-Time-Series-Data/main/TrainingData/subject_007_04__x_time.csv', names = ['time'])\n",
        "\n",
        "x_8_1_time = pd.read_csv('https://raw.githubusercontent.com/sushanthreddyC/Terrain-Identification-Using-Time-Series-Data/main/TrainingData/subject_008_01__x_time.csv', names = ['time'])"
      ],
      "metadata": {
        "id": "TAHy5Hloy-7-"
      },
      "execution_count": null,
      "outputs": []
    },
    {
      "cell_type": "code",
      "source": [
        "y_1_1 = pd.read_csv('https://raw.githubusercontent.com/sushanthreddyC/Terrain-Identification-Using-Time-Series-Data/main/TrainingData/subject_001_01__y.csv', names = ['target'])\n",
        "y_1_2 = pd.read_csv('https://raw.githubusercontent.com/sushanthreddyC/Terrain-Identification-Using-Time-Series-Data/main/TrainingData/subject_001_02__y.csv', names = ['target'])\n",
        "y_1_3 = pd.read_csv('https://raw.githubusercontent.com/sushanthreddyC/Terrain-Identification-Using-Time-Series-Data/main/TrainingData/subject_001_03__y.csv', names = ['target'])\n",
        "y_1_4 = pd.read_csv('https://raw.githubusercontent.com/sushanthreddyC/Terrain-Identification-Using-Time-Series-Data/main/TrainingData/subject_001_04__y.csv', names = ['target'])\n",
        "y_1_5 = pd.read_csv('https://raw.githubusercontent.com/sushanthreddyC/Terrain-Identification-Using-Time-Series-Data/main/TrainingData/subject_001_05__y.csv', names = ['target'])\n",
        "y_1_6 = pd.read_csv('https://raw.githubusercontent.com/sushanthreddyC/Terrain-Identification-Using-Time-Series-Data/main/TrainingData/subject_001_06__y.csv', names = ['target'])\n",
        "y_1_7 = pd.read_csv('https://raw.githubusercontent.com/sushanthreddyC/Terrain-Identification-Using-Time-Series-Data/main/TrainingData/subject_001_07__y.csv', names = ['target'])\n",
        "y_1_8 = pd.read_csv('https://raw.githubusercontent.com/sushanthreddyC/Terrain-Identification-Using-Time-Series-Data/main/TrainingData/subject_001_08__y.csv', names = ['target'])\n",
        "\n",
        "\n",
        "\n",
        "y_2_1 = pd.read_csv('https://raw.githubusercontent.com/sushanthreddyC/Terrain-Identification-Using-Time-Series-Data/main/TrainingData/subject_002_01__y.csv', names = ['target'])\n",
        "y_2_2 = pd.read_csv('https://raw.githubusercontent.com/sushanthreddyC/Terrain-Identification-Using-Time-Series-Data/main/TrainingData/subject_002_02__y.csv', names = ['target'])\n",
        "y_2_3 = pd.read_csv('https://raw.githubusercontent.com/sushanthreddyC/Terrain-Identification-Using-Time-Series-Data/main/TrainingData/subject_002_03__y.csv', names = ['target'])\n",
        "y_2_4 = pd.read_csv('https://raw.githubusercontent.com/sushanthreddyC/Terrain-Identification-Using-Time-Series-Data/main/TrainingData/subject_002_04__y.csv', names = ['target'])\n",
        "y_2_5 = pd.read_csv('https://raw.githubusercontent.com/sushanthreddyC/Terrain-Identification-Using-Time-Series-Data/main/TrainingData/subject_002_05__y.csv', names = ['target'])\n",
        "\n",
        "\n",
        "\n",
        "y_3_1 = pd.read_csv('https://raw.githubusercontent.com/sushanthreddyC/Terrain-Identification-Using-Time-Series-Data/main/TrainingData/subject_003_01__y.csv', names = ['target'])\n",
        "y_3_2 = pd.read_csv('https://raw.githubusercontent.com/sushanthreddyC/Terrain-Identification-Using-Time-Series-Data/main/TrainingData/subject_003_02__y.csv', names = ['target'])\n",
        "y_3_3 = pd.read_csv('https://raw.githubusercontent.com/sushanthreddyC/Terrain-Identification-Using-Time-Series-Data/main/TrainingData/subject_003_03__y.csv', names = ['target'])\n",
        "\n",
        "y_4_1 = pd.read_csv('https://raw.githubusercontent.com/sushanthreddyC/Terrain-Identification-Using-Time-Series-Data/main/TrainingData/subject_004_01__y.csv',  names = ['target'])\n",
        "y_4_2 = pd.read_csv('https://raw.githubusercontent.com/sushanthreddyC/Terrain-Identification-Using-Time-Series-Data/main/TrainingData/subject_004_02__y.csv',  names = ['target'])\n",
        "\n",
        "y_5_1 = pd.read_csv('https://raw.githubusercontent.com/sushanthreddyC/Terrain-Identification-Using-Time-Series-Data/main/TrainingData/subject_005_01__y.csv', names = ['target'])\n",
        "y_5_2 = pd.read_csv('https://raw.githubusercontent.com/sushanthreddyC/Terrain-Identification-Using-Time-Series-Data/main/TrainingData/subject_005_02__y.csv', names = ['target'])\n",
        "y_5_3 = pd.read_csv('https://raw.githubusercontent.com/sushanthreddyC/Terrain-Identification-Using-Time-Series-Data/main/TrainingData/subject_005_03__y.csv', names = ['target'])\n",
        "\n",
        "\n",
        "y_6_1 = pd.read_csv('https://raw.githubusercontent.com/sushanthreddyC/Terrain-Identification-Using-Time-Series-Data/main/TrainingData/subject_006_01__y.csv', names = ['target'])\n",
        "y_6_2 = pd.read_csv('https://raw.githubusercontent.com/sushanthreddyC/Terrain-Identification-Using-Time-Series-Data/main/TrainingData/subject_006_02__y.csv', names = ['target'])\n",
        "y_6_3 = pd.read_csv('https://raw.githubusercontent.com/sushanthreddyC/Terrain-Identification-Using-Time-Series-Data/main/TrainingData/subject_006_03__y.csv', names = ['target'])\n",
        "\n",
        "y_7_1 = pd.read_csv('https://raw.githubusercontent.com/sushanthreddyC/Terrain-Identification-Using-Time-Series-Data/main/TrainingData/subject_007_01__y.csv', names = ['target'])\n",
        "y_7_2 = pd.read_csv('https://raw.githubusercontent.com/sushanthreddyC/Terrain-Identification-Using-Time-Series-Data/main/TrainingData/subject_007_02__y.csv', names = ['target'])\n",
        "y_7_3 = pd.read_csv('https://raw.githubusercontent.com/sushanthreddyC/Terrain-Identification-Using-Time-Series-Data/main/TrainingData/subject_007_03__y.csv', names = ['target'])\n",
        "y_7_4 = pd.read_csv('https://raw.githubusercontent.com/sushanthreddyC/Terrain-Identification-Using-Time-Series-Data/main/TrainingData/subject_007_04__y.csv', names = ['target'])\n",
        "\n",
        "y_8_1 = pd.read_csv('https://raw.githubusercontent.com/sushanthreddyC/Terrain-Identification-Using-Time-Series-Data/main/TrainingData/subject_008_01__y.csv', names = ['target'])"
      ],
      "metadata": {
        "id": "Rju3fMUWQUIA"
      },
      "execution_count": null,
      "outputs": []
    },
    {
      "cell_type": "markdown",
      "source": [
        "## Data Pre-processing and Baseline-1"
      ],
      "metadata": {
        "id": "RXe7gvaUGhOj"
      }
    },
    {
      "cell_type": "markdown",
      "source": [
        "###Pre-processing-1"
      ],
      "metadata": {
        "id": "Do8W8LIHG5RL"
      }
    },
    {
      "cell_type": "code",
      "source": [
        "def sampler(data , Y_label, train_data_dict):\n",
        "  \n",
        "  for ind in range(len(data)):\n",
        "    y_ind=int(ind//4)\n",
        "    if(y_ind>=len(Y_label)):\n",
        "      break\n",
        "    train_data_dict[Y_label.iloc[y_ind]['target']].append(data.iloc[ind])\n"
      ],
      "metadata": {
        "id": "NH-DpQZAStKS"
      },
      "execution_count": null,
      "outputs": []
    },
    {
      "cell_type": "code",
      "source": [
        "x = pd.concat([x_1_1, x_1_1_time], axis=1)\n",
        "print(len(x), len(x_1_1), len(x_1_1_time))"
      ],
      "metadata": {
        "colab": {
          "base_uri": "https://localhost:8080/"
        },
        "id": "wp6_ZCFH1A7n",
        "outputId": "ab40cf5c-fcdd-4f61-b00b-5da874c65cd2"
      },
      "execution_count": null,
      "outputs": [
        {
          "output_type": "stream",
          "name": "stdout",
          "text": [
            "37890 37890 37890\n"
          ]
        }
      ]
    },
    {
      "cell_type": "code",
      "source": [
        "def add_time(x,t):\n",
        "  for i in range(len(x)):\n",
        "    x[i] = pd.concat([x[i], t[i]], axis=1)"
      ],
      "metadata": {
        "id": "A9_qWB-A01zX"
      },
      "execution_count": null,
      "outputs": []
    },
    {
      "cell_type": "code",
      "source": [
        "import collections\n",
        "train_data = [x_1_1, x_1_2, x_1_3, x_1_4, x_1_5, x_1_6, x_1_7, x_1_8, x_2_1, x_2_2, x_2_3, x_2_4, x_2_5, x_3_1, x_3_2, x_3_3,x_4_1,x_4_2, x_5_1,x_5_2,x_5_3, x_6_1,x_6_2, x_6_3, x_7_1, x_7_2,x_7_3,x_7_4, x_8_1]\n",
        "time_data = [x_1_1_time, x_1_2_time, x_1_3_time, x_1_4_time, x_1_5_time, x_1_6_time, x_1_7_time, x_1_8_time, x_2_1_time, x_2_2_time, x_2_3_time, x_2_4_time, x_2_5_time, x_3_1_time, x_3_2_time, x_3_3_time,x_4_1_time,x_4_2_time, x_5_1_time,x_5_2_time,x_5_3_time, x_6_1_time,x_6_2_time, x_6_3_time, x_7_1_time, x_7_2_time,x_7_3_time,x_7_4_time, x_8_1_time]\n",
        "label =   [y_1_1, y_1_2, y_1_3, y_1_4, y_1_5, y_1_6, y_1_7, y_1_8, y_2_1, y_2_2, y_2_3, y_2_4, y_2_5, y_3_1, y_3_2, y_3_3,y_4_1,y_4_2, y_5_1,y_5_2,y_5_3, y_6_1,y_6_2, y_6_3, y_7_1, y_7_2,y_7_3,y_7_4, y_8_1 ]\n",
        "\n",
        "train_data_dict = collections.defaultdict(list)\n",
        "add_time(train_data,time_data)\n",
        "for i in range(len(train_data)):\n",
        "  sampler(train_data[i],label[i], train_data_dict)"
      ],
      "metadata": {
        "id": "scd0WEbn6fA0"
      },
      "execution_count": null,
      "outputs": []
    },
    {
      "cell_type": "code",
      "source": [
        "train_data[1].head()"
      ],
      "metadata": {
        "colab": {
          "base_uri": "https://localhost:8080/",
          "height": 206
        },
        "id": "Vvrxu9FINNFG",
        "outputId": "a3f0ede9-9411-4fab-ce40-d3b97d7591f6"
      },
      "execution_count": null,
      "outputs": [
        {
          "output_type": "execute_result",
          "data": {
            "text/plain": [
              "         ax        ay        az        gx        gy        gz   time\n",
              "0  1.726654  9.619981  1.723327 -0.001997  0.067502  0.126057  0.000\n",
              "1  2.225759  9.493385  1.782374  0.008557  0.029333  0.073573  0.025\n",
              "2  2.010621  9.481603  1.770000 -0.004651  0.001009  0.062978  0.050\n",
              "3  1.614272  9.516440  1.798932  0.009519  0.024405  0.032554  0.075\n",
              "4  1.862582  9.353709  1.722649  0.007902  0.022794  0.020837  0.100"
            ],
            "text/html": [
              "\n",
              "  <div id=\"df-ac861b4f-0fc1-4645-a138-b2b85e0fcde6\">\n",
              "    <div class=\"colab-df-container\">\n",
              "      <div>\n",
              "<style scoped>\n",
              "    .dataframe tbody tr th:only-of-type {\n",
              "        vertical-align: middle;\n",
              "    }\n",
              "\n",
              "    .dataframe tbody tr th {\n",
              "        vertical-align: top;\n",
              "    }\n",
              "\n",
              "    .dataframe thead th {\n",
              "        text-align: right;\n",
              "    }\n",
              "</style>\n",
              "<table border=\"1\" class=\"dataframe\">\n",
              "  <thead>\n",
              "    <tr style=\"text-align: right;\">\n",
              "      <th></th>\n",
              "      <th>ax</th>\n",
              "      <th>ay</th>\n",
              "      <th>az</th>\n",
              "      <th>gx</th>\n",
              "      <th>gy</th>\n",
              "      <th>gz</th>\n",
              "      <th>time</th>\n",
              "    </tr>\n",
              "  </thead>\n",
              "  <tbody>\n",
              "    <tr>\n",
              "      <th>0</th>\n",
              "      <td>1.726654</td>\n",
              "      <td>9.619981</td>\n",
              "      <td>1.723327</td>\n",
              "      <td>-0.001997</td>\n",
              "      <td>0.067502</td>\n",
              "      <td>0.126057</td>\n",
              "      <td>0.000</td>\n",
              "    </tr>\n",
              "    <tr>\n",
              "      <th>1</th>\n",
              "      <td>2.225759</td>\n",
              "      <td>9.493385</td>\n",
              "      <td>1.782374</td>\n",
              "      <td>0.008557</td>\n",
              "      <td>0.029333</td>\n",
              "      <td>0.073573</td>\n",
              "      <td>0.025</td>\n",
              "    </tr>\n",
              "    <tr>\n",
              "      <th>2</th>\n",
              "      <td>2.010621</td>\n",
              "      <td>9.481603</td>\n",
              "      <td>1.770000</td>\n",
              "      <td>-0.004651</td>\n",
              "      <td>0.001009</td>\n",
              "      <td>0.062978</td>\n",
              "      <td>0.050</td>\n",
              "    </tr>\n",
              "    <tr>\n",
              "      <th>3</th>\n",
              "      <td>1.614272</td>\n",
              "      <td>9.516440</td>\n",
              "      <td>1.798932</td>\n",
              "      <td>0.009519</td>\n",
              "      <td>0.024405</td>\n",
              "      <td>0.032554</td>\n",
              "      <td>0.075</td>\n",
              "    </tr>\n",
              "    <tr>\n",
              "      <th>4</th>\n",
              "      <td>1.862582</td>\n",
              "      <td>9.353709</td>\n",
              "      <td>1.722649</td>\n",
              "      <td>0.007902</td>\n",
              "      <td>0.022794</td>\n",
              "      <td>0.020837</td>\n",
              "      <td>0.100</td>\n",
              "    </tr>\n",
              "  </tbody>\n",
              "</table>\n",
              "</div>\n",
              "      <button class=\"colab-df-convert\" onclick=\"convertToInteractive('df-ac861b4f-0fc1-4645-a138-b2b85e0fcde6')\"\n",
              "              title=\"Convert this dataframe to an interactive table.\"\n",
              "              style=\"display:none;\">\n",
              "        \n",
              "  <svg xmlns=\"http://www.w3.org/2000/svg\" height=\"24px\"viewBox=\"0 0 24 24\"\n",
              "       width=\"24px\">\n",
              "    <path d=\"M0 0h24v24H0V0z\" fill=\"none\"/>\n",
              "    <path d=\"M18.56 5.44l.94 2.06.94-2.06 2.06-.94-2.06-.94-.94-2.06-.94 2.06-2.06.94zm-11 1L8.5 8.5l.94-2.06 2.06-.94-2.06-.94L8.5 2.5l-.94 2.06-2.06.94zm10 10l.94 2.06.94-2.06 2.06-.94-2.06-.94-.94-2.06-.94 2.06-2.06.94z\"/><path d=\"M17.41 7.96l-1.37-1.37c-.4-.4-.92-.59-1.43-.59-.52 0-1.04.2-1.43.59L10.3 9.45l-7.72 7.72c-.78.78-.78 2.05 0 2.83L4 21.41c.39.39.9.59 1.41.59.51 0 1.02-.2 1.41-.59l7.78-7.78 2.81-2.81c.8-.78.8-2.07 0-2.86zM5.41 20L4 18.59l7.72-7.72 1.47 1.35L5.41 20z\"/>\n",
              "  </svg>\n",
              "      </button>\n",
              "      \n",
              "  <style>\n",
              "    .colab-df-container {\n",
              "      display:flex;\n",
              "      flex-wrap:wrap;\n",
              "      gap: 12px;\n",
              "    }\n",
              "\n",
              "    .colab-df-convert {\n",
              "      background-color: #E8F0FE;\n",
              "      border: none;\n",
              "      border-radius: 50%;\n",
              "      cursor: pointer;\n",
              "      display: none;\n",
              "      fill: #1967D2;\n",
              "      height: 32px;\n",
              "      padding: 0 0 0 0;\n",
              "      width: 32px;\n",
              "    }\n",
              "\n",
              "    .colab-df-convert:hover {\n",
              "      background-color: #E2EBFA;\n",
              "      box-shadow: 0px 1px 2px rgba(60, 64, 67, 0.3), 0px 1px 3px 1px rgba(60, 64, 67, 0.15);\n",
              "      fill: #174EA6;\n",
              "    }\n",
              "\n",
              "    [theme=dark] .colab-df-convert {\n",
              "      background-color: #3B4455;\n",
              "      fill: #D2E3FC;\n",
              "    }\n",
              "\n",
              "    [theme=dark] .colab-df-convert:hover {\n",
              "      background-color: #434B5C;\n",
              "      box-shadow: 0px 1px 3px 1px rgba(0, 0, 0, 0.15);\n",
              "      filter: drop-shadow(0px 1px 2px rgba(0, 0, 0, 0.3));\n",
              "      fill: #FFFFFF;\n",
              "    }\n",
              "  </style>\n",
              "\n",
              "      <script>\n",
              "        const buttonEl =\n",
              "          document.querySelector('#df-ac861b4f-0fc1-4645-a138-b2b85e0fcde6 button.colab-df-convert');\n",
              "        buttonEl.style.display =\n",
              "          google.colab.kernel.accessAllowed ? 'block' : 'none';\n",
              "\n",
              "        async function convertToInteractive(key) {\n",
              "          const element = document.querySelector('#df-ac861b4f-0fc1-4645-a138-b2b85e0fcde6');\n",
              "          const dataTable =\n",
              "            await google.colab.kernel.invokeFunction('convertToInteractive',\n",
              "                                                     [key], {});\n",
              "          if (!dataTable) return;\n",
              "\n",
              "          const docLinkHtml = 'Like what you see? Visit the ' +\n",
              "            '<a target=\"_blank\" href=https://colab.research.google.com/notebooks/data_table.ipynb>data table notebook</a>'\n",
              "            + ' to learn more about interactive tables.';\n",
              "          element.innerHTML = '';\n",
              "          dataTable['output_type'] = 'display_data';\n",
              "          await google.colab.output.renderOutput(dataTable, element);\n",
              "          const docLink = document.createElement('div');\n",
              "          docLink.innerHTML = docLinkHtml;\n",
              "          element.appendChild(docLink);\n",
              "        }\n",
              "      </script>\n",
              "    </div>\n",
              "  </div>\n",
              "  "
            ]
          },
          "metadata": {},
          "execution_count": 9
        }
      ]
    },
    {
      "cell_type": "code",
      "source": [
        "for key in list(train_data_dict.keys()):\n",
        "  print(key , len(train_data_dict[key]))"
      ],
      "metadata": {
        "id": "udiG0nxP6e9l",
        "colab": {
          "base_uri": "https://localhost:8080/"
        },
        "outputId": "7e386ce5-3719-4352-aa5a-5d4f5c3a38b3"
      },
      "execution_count": null,
      "outputs": [
        {
          "output_type": "stream",
          "name": "stdout",
          "text": [
            "0 1006913\n",
            "1 55216\n",
            "2 73068\n",
            "3 206436\n"
          ]
        }
      ]
    },
    {
      "cell_type": "code",
      "source": [
        "x_train_0 = pd.DataFrame(train_data_dict[0])\n",
        "x_train_1 = pd.DataFrame(train_data_dict[1])\n",
        "x_train_2 = pd.DataFrame(train_data_dict[2])\n",
        "x_train_3 = pd.DataFrame(train_data_dict[3])"
      ],
      "metadata": {
        "id": "dew3cbIb6e8e"
      },
      "execution_count": null,
      "outputs": []
    },
    {
      "cell_type": "markdown",
      "source": [
        "### Baseline -1 on above data"
      ],
      "metadata": {
        "id": "Ugy6bOragPis"
      }
    },
    {
      "cell_type": "code",
      "source": [
        "x_train_0_sampled = x_train_0.sample(n=len(x_train_0), random_state=random_seed)\n",
        "x_train_1_sampled = x_train_1.sample(n=55000, random_state=random_seed)\n",
        "x_train_2_sampled = x_train_2.sample(n=65000, random_state=random_seed)\n",
        "x_train_3_sampled = x_train_3.sample(n=len(x_train_3), random_state=random_seed)"
      ],
      "metadata": {
        "id": "Uui6tjxv6eqv"
      },
      "execution_count": null,
      "outputs": []
    },
    {
      "cell_type": "code",
      "source": [
        "x_train_0_sampled.head()"
      ],
      "metadata": {
        "colab": {
          "base_uri": "https://localhost:8080/",
          "height": 206
        },
        "id": "kf4TEyGeW1vv",
        "outputId": "b978d3ac-edab-4f58-9296-fa5a5ea986ba"
      },
      "execution_count": null,
      "outputs": [
        {
          "output_type": "execute_result",
          "data": {
            "text/plain": [
              "             ax         ay         az        gx        gy        gz      time\n",
              "37659  4.052654   4.035567  17.992260 -1.301534 -2.191406 -2.170419   941.475\n",
              "7298  -0.757253   5.777333  10.530010  1.619466  0.646450 -0.711115   182.450\n",
              "31109  1.650614  10.124520   4.638968 -1.718245 -0.142106  0.057799   777.725\n",
              "42819  3.984353   9.215434   3.257259 -0.674528 -0.594313 -0.780367  1070.475\n",
              "31353  0.131676   9.051046   1.853678 -1.876869 -0.627749  0.155602   783.825"
            ],
            "text/html": [
              "\n",
              "  <div id=\"df-c2094edd-20bf-421b-baea-baf7d7533836\">\n",
              "    <div class=\"colab-df-container\">\n",
              "      <div>\n",
              "<style scoped>\n",
              "    .dataframe tbody tr th:only-of-type {\n",
              "        vertical-align: middle;\n",
              "    }\n",
              "\n",
              "    .dataframe tbody tr th {\n",
              "        vertical-align: top;\n",
              "    }\n",
              "\n",
              "    .dataframe thead th {\n",
              "        text-align: right;\n",
              "    }\n",
              "</style>\n",
              "<table border=\"1\" class=\"dataframe\">\n",
              "  <thead>\n",
              "    <tr style=\"text-align: right;\">\n",
              "      <th></th>\n",
              "      <th>ax</th>\n",
              "      <th>ay</th>\n",
              "      <th>az</th>\n",
              "      <th>gx</th>\n",
              "      <th>gy</th>\n",
              "      <th>gz</th>\n",
              "      <th>time</th>\n",
              "    </tr>\n",
              "  </thead>\n",
              "  <tbody>\n",
              "    <tr>\n",
              "      <th>37659</th>\n",
              "      <td>4.052654</td>\n",
              "      <td>4.035567</td>\n",
              "      <td>17.992260</td>\n",
              "      <td>-1.301534</td>\n",
              "      <td>-2.191406</td>\n",
              "      <td>-2.170419</td>\n",
              "      <td>941.475</td>\n",
              "    </tr>\n",
              "    <tr>\n",
              "      <th>7298</th>\n",
              "      <td>-0.757253</td>\n",
              "      <td>5.777333</td>\n",
              "      <td>10.530010</td>\n",
              "      <td>1.619466</td>\n",
              "      <td>0.646450</td>\n",
              "      <td>-0.711115</td>\n",
              "      <td>182.450</td>\n",
              "    </tr>\n",
              "    <tr>\n",
              "      <th>31109</th>\n",
              "      <td>1.650614</td>\n",
              "      <td>10.124520</td>\n",
              "      <td>4.638968</td>\n",
              "      <td>-1.718245</td>\n",
              "      <td>-0.142106</td>\n",
              "      <td>0.057799</td>\n",
              "      <td>777.725</td>\n",
              "    </tr>\n",
              "    <tr>\n",
              "      <th>42819</th>\n",
              "      <td>3.984353</td>\n",
              "      <td>9.215434</td>\n",
              "      <td>3.257259</td>\n",
              "      <td>-0.674528</td>\n",
              "      <td>-0.594313</td>\n",
              "      <td>-0.780367</td>\n",
              "      <td>1070.475</td>\n",
              "    </tr>\n",
              "    <tr>\n",
              "      <th>31353</th>\n",
              "      <td>0.131676</td>\n",
              "      <td>9.051046</td>\n",
              "      <td>1.853678</td>\n",
              "      <td>-1.876869</td>\n",
              "      <td>-0.627749</td>\n",
              "      <td>0.155602</td>\n",
              "      <td>783.825</td>\n",
              "    </tr>\n",
              "  </tbody>\n",
              "</table>\n",
              "</div>\n",
              "      <button class=\"colab-df-convert\" onclick=\"convertToInteractive('df-c2094edd-20bf-421b-baea-baf7d7533836')\"\n",
              "              title=\"Convert this dataframe to an interactive table.\"\n",
              "              style=\"display:none;\">\n",
              "        \n",
              "  <svg xmlns=\"http://www.w3.org/2000/svg\" height=\"24px\"viewBox=\"0 0 24 24\"\n",
              "       width=\"24px\">\n",
              "    <path d=\"M0 0h24v24H0V0z\" fill=\"none\"/>\n",
              "    <path d=\"M18.56 5.44l.94 2.06.94-2.06 2.06-.94-2.06-.94-.94-2.06-.94 2.06-2.06.94zm-11 1L8.5 8.5l.94-2.06 2.06-.94-2.06-.94L8.5 2.5l-.94 2.06-2.06.94zm10 10l.94 2.06.94-2.06 2.06-.94-2.06-.94-.94-2.06-.94 2.06-2.06.94z\"/><path d=\"M17.41 7.96l-1.37-1.37c-.4-.4-.92-.59-1.43-.59-.52 0-1.04.2-1.43.59L10.3 9.45l-7.72 7.72c-.78.78-.78 2.05 0 2.83L4 21.41c.39.39.9.59 1.41.59.51 0 1.02-.2 1.41-.59l7.78-7.78 2.81-2.81c.8-.78.8-2.07 0-2.86zM5.41 20L4 18.59l7.72-7.72 1.47 1.35L5.41 20z\"/>\n",
              "  </svg>\n",
              "      </button>\n",
              "      \n",
              "  <style>\n",
              "    .colab-df-container {\n",
              "      display:flex;\n",
              "      flex-wrap:wrap;\n",
              "      gap: 12px;\n",
              "    }\n",
              "\n",
              "    .colab-df-convert {\n",
              "      background-color: #E8F0FE;\n",
              "      border: none;\n",
              "      border-radius: 50%;\n",
              "      cursor: pointer;\n",
              "      display: none;\n",
              "      fill: #1967D2;\n",
              "      height: 32px;\n",
              "      padding: 0 0 0 0;\n",
              "      width: 32px;\n",
              "    }\n",
              "\n",
              "    .colab-df-convert:hover {\n",
              "      background-color: #E2EBFA;\n",
              "      box-shadow: 0px 1px 2px rgba(60, 64, 67, 0.3), 0px 1px 3px 1px rgba(60, 64, 67, 0.15);\n",
              "      fill: #174EA6;\n",
              "    }\n",
              "\n",
              "    [theme=dark] .colab-df-convert {\n",
              "      background-color: #3B4455;\n",
              "      fill: #D2E3FC;\n",
              "    }\n",
              "\n",
              "    [theme=dark] .colab-df-convert:hover {\n",
              "      background-color: #434B5C;\n",
              "      box-shadow: 0px 1px 3px 1px rgba(0, 0, 0, 0.15);\n",
              "      filter: drop-shadow(0px 1px 2px rgba(0, 0, 0, 0.3));\n",
              "      fill: #FFFFFF;\n",
              "    }\n",
              "  </style>\n",
              "\n",
              "      <script>\n",
              "        const buttonEl =\n",
              "          document.querySelector('#df-c2094edd-20bf-421b-baea-baf7d7533836 button.colab-df-convert');\n",
              "        buttonEl.style.display =\n",
              "          google.colab.kernel.accessAllowed ? 'block' : 'none';\n",
              "\n",
              "        async function convertToInteractive(key) {\n",
              "          const element = document.querySelector('#df-c2094edd-20bf-421b-baea-baf7d7533836');\n",
              "          const dataTable =\n",
              "            await google.colab.kernel.invokeFunction('convertToInteractive',\n",
              "                                                     [key], {});\n",
              "          if (!dataTable) return;\n",
              "\n",
              "          const docLinkHtml = 'Like what you see? Visit the ' +\n",
              "            '<a target=\"_blank\" href=https://colab.research.google.com/notebooks/data_table.ipynb>data table notebook</a>'\n",
              "            + ' to learn more about interactive tables.';\n",
              "          element.innerHTML = '';\n",
              "          dataTable['output_type'] = 'display_data';\n",
              "          await google.colab.output.renderOutput(dataTable, element);\n",
              "          const docLink = document.createElement('div');\n",
              "          docLink.innerHTML = docLinkHtml;\n",
              "          element.appendChild(docLink);\n",
              "        }\n",
              "      </script>\n",
              "    </div>\n",
              "  </div>\n",
              "  "
            ]
          },
          "metadata": {},
          "execution_count": 13
        }
      ]
    },
    {
      "cell_type": "code",
      "source": [
        "training_data = pd.concat([x_train_0_sampled,x_train_1_sampled,x_train_2_sampled,x_train_3_sampled], ignore_index=True)"
      ],
      "metadata": {
        "id": "bOyAZ0bmTfFe"
      },
      "execution_count": null,
      "outputs": []
    },
    {
      "cell_type": "code",
      "source": [
        "l_1 = [0 for i in range(len(x_train_0_sampled))]\n",
        "l_1.extend([1 for i in range(len(x_train_1_sampled))])\n",
        "l_1.extend([2 for i in range(len(x_train_2_sampled))])\n",
        "l_1.extend([3 for i in range(len(x_train_3_sampled))])\n",
        "training_data['target'] = l_1\n",
        "training_data['target'].value_counts()"
      ],
      "metadata": {
        "colab": {
          "base_uri": "https://localhost:8080/"
        },
        "id": "SCQukkcO2-8N",
        "outputId": "5d02fa2a-993f-4e30-d91d-02227159a0c1"
      },
      "execution_count": null,
      "outputs": [
        {
          "output_type": "execute_result",
          "data": {
            "text/plain": [
              "0    1006913\n",
              "3     206436\n",
              "2      65000\n",
              "1      55000\n",
              "Name: target, dtype: int64"
            ]
          },
          "metadata": {},
          "execution_count": 15
        }
      ]
    },
    {
      "cell_type": "code",
      "source": [
        "\n",
        "labels = training_data['target']\n",
        "x_data_sampled = training_data.drop(columns=['target'],axis=1)"
      ],
      "metadata": {
        "id": "CwlJdSA3Ul1d"
      },
      "execution_count": null,
      "outputs": []
    },
    {
      "cell_type": "code",
      "source": [
        "\n",
        "os = over_sampling.SMOTE()\n",
        "#X_os, y_os = os.fit_resample(x_data_sampled, labels)\n",
        "#X_train, X_test, Y_train, Y_test = train_test_split(X_os, y_os, test_size=test_size, random_state=random_seed)"
      ],
      "metadata": {
        "id": "JaoiRfYCWYR-"
      },
      "execution_count": null,
      "outputs": []
    },
    {
      "cell_type": "code",
      "source": [
        "X_train, X_test, Y_train, Y_test = train_test_split(x_data_sampled, labels, test_size=test_size, random_state=random_seed)"
      ],
      "metadata": {
        "id": "BGsOYA-LW6Uk"
      },
      "execution_count": null,
      "outputs": []
    },
    {
      "cell_type": "code",
      "source": [
        "pd.value_counts(Y_train).plot.bar()\n",
        "plt.title('Class Distribution of Train dataset before SMOTE')\n",
        "plt.xlabel('Class')\n",
        "plt.ylabel('Frequency')\n",
        "Y_train.value_counts()"
      ],
      "metadata": {
        "colab": {
          "base_uri": "https://localhost:8080/",
          "height": 556
        },
        "id": "ToDxQCTn6WnB",
        "outputId": "59da8341-c572-448c-9e11-e02c89c1ba2a"
      },
      "execution_count": null,
      "outputs": [
        {
          "output_type": "execute_result",
          "data": {
            "text/plain": [
              "0    704922\n",
              "3    144370\n",
              "2     45625\n",
              "1     38427\n",
              "Name: target, dtype: int64"
            ]
          },
          "metadata": {},
          "execution_count": 19
        },
        {
          "output_type": "display_data",
          "data": {
            "text/plain": [
              "<Figure size 640x480 with 1 Axes>"
            ],
            "image/png": "[encoded data removed]"
          },
          "metadata": {}
        }
      ]
    },
    {
      "cell_type": "code",
      "source": [
        "'''X_train = X_train.drop(['time'], axis=1)\n",
        "X_test = X_test.drop(['time'], axis=1)'''\n",
        "X_train, Y_train = os.fit_resample(X_train, Y_train)"
      ],
      "metadata": {
        "id": "igEzJLLsgHls"
      },
      "execution_count": null,
      "outputs": []
    },
    {
      "cell_type": "code",
      "source": [
        "pd.value_counts(Y_train).plot.bar()\n",
        "plt.title('Class Distribution of Train data after SMOTE')\n",
        "plt.xlabel('Class')\n",
        "plt.ylabel('Frequency')\n",
        "Y_train.value_counts()"
      ],
      "metadata": {
        "colab": {
          "base_uri": "https://localhost:8080/",
          "height": 556
        },
        "id": "tGRysVRJ7hFw",
        "outputId": "16bf0b1b-2f20-44f9-90b1-416f8347eeae"
      },
      "execution_count": null,
      "outputs": [
        {
          "output_type": "execute_result",
          "data": {
            "text/plain": [
              "0    704922\n",
              "3    704922\n",
              "1    704922\n",
              "2    704922\n",
              "Name: target, dtype: int64"
            ]
          },
          "metadata": {},
          "execution_count": 21
        },
        {
          "output_type": "display_data",
          "data": {
            "text/plain": [
              "<Figure size 640x480 with 1 Axes>"
            ],
            "image/png": "[encoded data removed]"
          },
          "metadata": {}
        }
      ]
    },
    {
      "cell_type": "code",
      "source": [
        "scaler = StandardScaler().fit(X_train)\n",
        "X_train=scaler.transform(X_train)\n",
        "X_test =scaler.transform(X_test)\n"
      ],
      "metadata": {
        "id": "GgpEErhnPtFe"
      },
      "execution_count": null,
      "outputs": []
    },
    {
      "cell_type": "code",
      "source": [
        "from sklearn.ensemble import RandomForestClassifier\n",
        "RFC_model = RandomForestClassifier(n_estimators=5).fit(X_train,Y_train)\n",
        "RFC_preds = RFC_model.predict(X_test)\n",
        "res = RFC_model.score(X_test,Y_test)\n",
        "res"
      ],
      "metadata": {
        "id": "BeklBAOtb45e",
        "colab": {
          "base_uri": "https://localhost:8080/"
        },
        "outputId": "9bf07a29-67e3-401e-e3f2-471d7d6ff7cd"
      },
      "execution_count": null,
      "outputs": [
        {
          "output_type": "execute_result",
          "data": {
            "text/plain": [
              "0.7406857414282322"
            ]
          },
          "metadata": {},
          "execution_count": 23
        }
      ]
    },
    {
      "cell_type": "code",
      "source": [
        "from sklearn.metrics import f1_score\n",
        "f1_score(Y_test, RFC_preds, average='weighted')"
      ],
      "metadata": {
        "id": "gVqq7c8AlrN0",
        "colab": {
          "base_uri": "https://localhost:8080/"
        },
        "outputId": "4432f1f3-514a-4b2c-8b67-c0243531785b"
      },
      "execution_count": null,
      "outputs": [
        {
          "output_type": "execute_result",
          "data": {
            "text/plain": [
              "0.7560538446874022"
            ]
          },
          "metadata": {},
          "execution_count": 24
        }
      ]
    },
    {
      "cell_type": "code",
      "source": [
        "import matplotlib.pyplot as plt\n",
        "\n",
        "from sklearn.metrics import classification_report\n",
        "print(classification_report(Y_test, RFC_preds))"
      ],
      "metadata": {
        "id": "QV-Gj1k87D-b",
        "colab": {
          "base_uri": "https://localhost:8080/"
        },
        "outputId": "0e94f89d-16c7-40c2-f429-0702b3f0f73b"
      },
      "execution_count": null,
      "outputs": [
        {
          "output_type": "stream",
          "name": "stdout",
          "text": [
            "              precision    recall  f1-score   support\n",
            "\n",
            "           0       0.90      0.77      0.83    301991\n",
            "           1       0.40      0.69      0.50     16573\n",
            "           2       0.56      0.80      0.66     19375\n",
            "           3       0.44      0.58      0.50     62066\n",
            "\n",
            "    accuracy                           0.74    400005\n",
            "   macro avg       0.57      0.71      0.62    400005\n",
            "weighted avg       0.79      0.74      0.76    400005\n",
            "\n"
          ]
        }
      ]
    },
    {
      "cell_type": "code",
      "source": [
        "from sklearn.metrics import confusion_matrix, ConfusionMatrixDisplay\n",
        "RFC_cm=confusion_matrix(Y_test,RFC_preds)\n",
        "RFC_disp = ConfusionMatrixDisplay(confusion_matrix=RFC_cm)\n",
        "RFC_disp.plot()"
      ],
      "metadata": {
        "colab": {
          "base_uri": "https://localhost:8080/",
          "height": 467
        },
        "id": "5p4JfKC4n7U3",
        "outputId": "98f2e7d4-cbfe-4037-9eb0-cba85934ea7e"
      },
      "execution_count": null,
      "outputs": [
        {
          "output_type": "execute_result",
          "data": {
            "text/plain": [
              "<sklearn.metrics._plot.confusion_matrix.ConfusionMatrixDisplay at 0x7fdebb0c2c80>"
            ]
          },
          "metadata": {},
          "execution_count": 26
        },
        {
          "output_type": "display_data",
          "data": {
            "text/plain": [
              "<Figure size 640x480 with 2 Axes>"
            ],
            "image/png": "[encoded data removed]"
          },
          "metadata": {}
        }
      ]
    },
    {
      "cell_type": "code",
      "source": [
        "RFC_train_preds = RFC_model.predict(X_train)\n",
        "print(classification_report(Y_train, RFC_train_preds))"
      ],
      "metadata": {
        "id": "n6CalAj27vn0",
        "colab": {
          "base_uri": "https://localhost:8080/"
        },
        "outputId": "4f3eb0fa-4a16-44a8-9949-ce1f416484c5"
      },
      "execution_count": null,
      "outputs": [
        {
          "output_type": "stream",
          "name": "stdout",
          "text": [
            "              precision    recall  f1-score   support\n",
            "\n",
            "           0       0.98      0.98      0.98    704922\n",
            "           1       0.99      1.00      0.99    704922\n",
            "           2       0.99      1.00      1.00    704922\n",
            "           3       0.98      0.98      0.98    704922\n",
            "\n",
            "    accuracy                           0.99   2819688\n",
            "   macro avg       0.99      0.99      0.99   2819688\n",
            "weighted avg       0.99      0.99      0.99   2819688\n",
            "\n"
          ]
        }
      ]
    },
    {
      "cell_type": "code",
      "source": [
        "RFC_train_cm = confusion_matrix(Y_train,RFC_train_preds)\n",
        "RFC_train_disp=ConfusionMatrixDisplay(confusion_matrix=RFC_train_cm)\n",
        "RFC_train_disp.plot()"
      ],
      "metadata": {
        "colab": {
          "base_uri": "https://localhost:8080/",
          "height": 471
        },
        "id": "4iiawXA6osb2",
        "outputId": "b3878150-bef0-4208-9a30-a05ae864d0f4"
      },
      "execution_count": null,
      "outputs": [
        {
          "output_type": "execute_result",
          "data": {
            "text/plain": [
              "<sklearn.metrics._plot.confusion_matrix.ConfusionMatrixDisplay at 0x7fdebc3add20>"
            ]
          },
          "metadata": {},
          "execution_count": 28
        },
        {
          "output_type": "display_data",
          "data": {
            "text/plain": [
              "<Figure size 640x480 with 2 Axes>"
            ],
            "image/png": "[encoded data removed]"
          },
          "metadata": {}
        }
      ]
    },
    {
      "cell_type": "markdown",
      "source": [
        "## OVerUnderSampling Baseline Model"
      ],
      "metadata": {
        "id": "OcAQuWCGXNxo"
      }
    },
    {
      "cell_type": "code",
      "source": [
        "x_train_0=pd.read_csv('/content/drive/MyDrive/ECE542_sp2022_Project_TerrainRecognition/Training_data_sampled/x_train_0.csv')\n",
        "x_train_1=pd.read_csv('/content/drive/MyDrive/ECE542_sp2022_Project_TerrainRecognition/Training_data_sampled/x_train_1.csv')\n",
        "x_train_2=pd.read_csv('/content/drive/MyDrive/ECE542_sp2022_Project_TerrainRecognition/Training_data_sampled/x_train_2.csv')\n",
        "x_train_3=pd.read_csv('/content/drive/MyDrive/ECE542_sp2022_Project_TerrainRecognition/Training_data_sampled/x_train_3.csv')"
      ],
      "metadata": {
        "id": "0BZt508nSVNT"
      },
      "execution_count": null,
      "outputs": []
    },
    {
      "cell_type": "code",
      "source": [
        "def add_target(df, x):\n",
        "  df['target'] = [x for i in range(len(df))]\n",
        "\n",
        "def split_data(df):\n",
        "  df_train, df_test = train_test_split(df, test_size=0.3, random_state=random_seed)\n",
        "  return df_train, df_test"
      ],
      "metadata": {
        "id": "Em7BbUSpXgCf"
      },
      "execution_count": null,
      "outputs": []
    },
    {
      "cell_type": "code",
      "source": [
        "dfs = [x_train_0, x_train_1, x_train_2, x_train_3]\n",
        "\n",
        "for x in range(len(dfs)):\n",
        "  add_target(dfs[x], x)\n",
        "x_train_0.head()"
      ],
      "metadata": {
        "colab": {
          "base_uri": "https://localhost:8080/",
          "height": 206
        },
        "id": "QsJ0LfQ4XSmr",
        "outputId": "bff23c64-8e5c-4f12-9f57-a67fc458cc14"
      },
      "execution_count": null,
      "outputs": [
        {
          "output_type": "execute_result",
          "data": {
            "text/plain": [
              "         ax        ay        az        gx        gy        gz   time  target\n",
              "0  4.435275  8.196063  2.974488  0.014215 -0.039157 -0.016744  0.000       0\n",
              "1  4.186920  8.344455  2.908057  0.005771 -0.004480 -0.003345  0.025       0\n",
              "2  4.544637  8.408659  2.890000  0.007967  0.022412  0.001159  0.050       0\n",
              "3  4.849308  8.411614  2.900692  0.027778 -0.010670 -0.014223  0.075       0\n",
              "4  4.509190  8.118649  2.847298  0.021577 -0.045498 -0.021111  0.100       0"
            ],
            "text/html": [
              "\n",
              "  <div id=\"df-76de12c0-01fc-45b2-b110-1493230ac7c1\">\n",
              "    <div class=\"colab-df-container\">\n",
              "      <div>\n",
              "<style scoped>\n",
              "    .dataframe tbody tr th:only-of-type {\n",
              "        vertical-align: middle;\n",
              "    }\n",
              "\n",
              "    .dataframe tbody tr th {\n",
              "        vertical-align: top;\n",
              "    }\n",
              "\n",
              "    .dataframe thead th {\n",
              "        text-align: right;\n",
              "    }\n",
              "</style>\n",
              "<table border=\"1\" class=\"dataframe\">\n",
              "  <thead>\n",
              "    <tr style=\"text-align: right;\">\n",
              "      <th></th>\n",
              "      <th>ax</th>\n",
              "      <th>ay</th>\n",
              "      <th>az</th>\n",
              "      <th>gx</th>\n",
              "      <th>gy</th>\n",
              "      <th>gz</th>\n",
              "      <th>time</th>\n",
              "      <th>target</th>\n",
              "    </tr>\n",
              "  </thead>\n",
              "  <tbody>\n",
              "    <tr>\n",
              "      <th>0</th>\n",
              "      <td>4.435275</td>\n",
              "      <td>8.196063</td>\n",
              "      <td>2.974488</td>\n",
              "      <td>0.014215</td>\n",
              "      <td>-0.039157</td>\n",
              "      <td>-0.016744</td>\n",
              "      <td>0.000</td>\n",
              "      <td>0</td>\n",
              "    </tr>\n",
              "    <tr>\n",
              "      <th>1</th>\n",
              "      <td>4.186920</td>\n",
              "      <td>8.344455</td>\n",
              "      <td>2.908057</td>\n",
              "      <td>0.005771</td>\n",
              "      <td>-0.004480</td>\n",
              "      <td>-0.003345</td>\n",
              "      <td>0.025</td>\n",
              "      <td>0</td>\n",
              "    </tr>\n",
              "    <tr>\n",
              "      <th>2</th>\n",
              "      <td>4.544637</td>\n",
              "      <td>8.408659</td>\n",
              "      <td>2.890000</td>\n",
              "      <td>0.007967</td>\n",
              "      <td>0.022412</td>\n",
              "      <td>0.001159</td>\n",
              "      <td>0.050</td>\n",
              "      <td>0</td>\n",
              "    </tr>\n",
              "    <tr>\n",
              "      <th>3</th>\n",
              "      <td>4.849308</td>\n",
              "      <td>8.411614</td>\n",
              "      <td>2.900692</td>\n",
              "      <td>0.027778</td>\n",
              "      <td>-0.010670</td>\n",
              "      <td>-0.014223</td>\n",
              "      <td>0.075</td>\n",
              "      <td>0</td>\n",
              "    </tr>\n",
              "    <tr>\n",
              "      <th>4</th>\n",
              "      <td>4.509190</td>\n",
              "      <td>8.118649</td>\n",
              "      <td>2.847298</td>\n",
              "      <td>0.021577</td>\n",
              "      <td>-0.045498</td>\n",
              "      <td>-0.021111</td>\n",
              "      <td>0.100</td>\n",
              "      <td>0</td>\n",
              "    </tr>\n",
              "  </tbody>\n",
              "</table>\n",
              "</div>\n",
              "      <button class=\"colab-df-convert\" onclick=\"convertToInteractive('df-76de12c0-01fc-45b2-b110-1493230ac7c1')\"\n",
              "              title=\"Convert this dataframe to an interactive table.\"\n",
              "              style=\"display:none;\">\n",
              "        \n",
              "  <svg xmlns=\"http://www.w3.org/2000/svg\" height=\"24px\"viewBox=\"0 0 24 24\"\n",
              "       width=\"24px\">\n",
              "    <path d=\"M0 0h24v24H0V0z\" fill=\"none\"/>\n",
              "    <path d=\"M18.56 5.44l.94 2.06.94-2.06 2.06-.94-2.06-.94-.94-2.06-.94 2.06-2.06.94zm-11 1L8.5 8.5l.94-2.06 2.06-.94-2.06-.94L8.5 2.5l-.94 2.06-2.06.94zm10 10l.94 2.06.94-2.06 2.06-.94-2.06-.94-.94-2.06-.94 2.06-2.06.94z\"/><path d=\"M17.41 7.96l-1.37-1.37c-.4-.4-.92-.59-1.43-.59-.52 0-1.04.2-1.43.59L10.3 9.45l-7.72 7.72c-.78.78-.78 2.05 0 2.83L4 21.41c.39.39.9.59 1.41.59.51 0 1.02-.2 1.41-.59l7.78-7.78 2.81-2.81c.8-.78.8-2.07 0-2.86zM5.41 20L4 18.59l7.72-7.72 1.47 1.35L5.41 20z\"/>\n",
              "  </svg>\n",
              "      </button>\n",
              "      \n",
              "  <style>\n",
              "    .colab-df-container {\n",
              "      display:flex;\n",
              "      flex-wrap:wrap;\n",
              "      gap: 12px;\n",
              "    }\n",
              "\n",
              "    .colab-df-convert {\n",
              "      background-color: #E8F0FE;\n",
              "      border: none;\n",
              "      border-radius: 50%;\n",
              "      cursor: pointer;\n",
              "      display: none;\n",
              "      fill: #1967D2;\n",
              "      height: 32px;\n",
              "      padding: 0 0 0 0;\n",
              "      width: 32px;\n",
              "    }\n",
              "\n",
              "    .colab-df-convert:hover {\n",
              "      background-color: #E2EBFA;\n",
              "      box-shadow: 0px 1px 2px rgba(60, 64, 67, 0.3), 0px 1px 3px 1px rgba(60, 64, 67, 0.15);\n",
              "      fill: #174EA6;\n",
              "    }\n",
              "\n",
              "    [theme=dark] .colab-df-convert {\n",
              "      background-color: #3B4455;\n",
              "      fill: #D2E3FC;\n",
              "    }\n",
              "\n",
              "    [theme=dark] .colab-df-convert:hover {\n",
              "      background-color: #434B5C;\n",
              "      box-shadow: 0px 1px 3px 1px rgba(0, 0, 0, 0.15);\n",
              "      filter: drop-shadow(0px 1px 2px rgba(0, 0, 0, 0.3));\n",
              "      fill: #FFFFFF;\n",
              "    }\n",
              "  </style>\n",
              "\n",
              "      <script>\n",
              "        const buttonEl =\n",
              "          document.querySelector('#df-76de12c0-01fc-45b2-b110-1493230ac7c1 button.colab-df-convert');\n",
              "        buttonEl.style.display =\n",
              "          google.colab.kernel.accessAllowed ? 'block' : 'none';\n",
              "\n",
              "        async function convertToInteractive(key) {\n",
              "          const element = document.querySelector('#df-76de12c0-01fc-45b2-b110-1493230ac7c1');\n",
              "          const dataTable =\n",
              "            await google.colab.kernel.invokeFunction('convertToInteractive',\n",
              "                                                     [key], {});\n",
              "          if (!dataTable) return;\n",
              "\n",
              "          const docLinkHtml = 'Like what you see? Visit the ' +\n",
              "            '<a target=\"_blank\" href=https://colab.research.google.com/notebooks/data_table.ipynb>data table notebook</a>'\n",
              "            + ' to learn more about interactive tables.';\n",
              "          element.innerHTML = '';\n",
              "          dataTable['output_type'] = 'display_data';\n",
              "          await google.colab.output.renderOutput(dataTable, element);\n",
              "          const docLink = document.createElement('div');\n",
              "          docLink.innerHTML = docLinkHtml;\n",
              "          element.appendChild(docLink);\n",
              "        }\n",
              "      </script>\n",
              "    </div>\n",
              "  </div>\n",
              "  "
            ]
          },
          "metadata": {},
          "execution_count": 156
        }
      ]
    },
    {
      "cell_type": "code",
      "source": [
        "train_dfs = []\n",
        "test_dfs = []\n",
        "for df in dfs:\n",
        "  df_train, df_test = split_data(df)\n",
        "  train_dfs.append(df_train)\n",
        "  test_dfs.append(df_test)"
      ],
      "metadata": {
        "id": "liYPLZMShKKD"
      },
      "execution_count": null,
      "outputs": []
    },
    {
      "cell_type": "code",
      "source": [
        "val_data = pd.concat(test_dfs, ignore_index=True)\n",
        "#val_data.drop(['Unnamed: 0'], inplace=True, axis=1)"
      ],
      "metadata": {
        "id": "2mOQwyPZYPyY"
      },
      "execution_count": null,
      "outputs": []
    },
    {
      "cell_type": "code",
      "source": [
        "for i in train_dfs:\n",
        "  print(len(i))"
      ],
      "metadata": {
        "colab": {
          "base_uri": "https://localhost:8080/"
        },
        "id": "_uhzhHCtvYU9",
        "outputId": "a139c88a-3323-4bb8-f53e-627791b5a117"
      },
      "execution_count": null,
      "outputs": [
        {
          "output_type": "stream",
          "name": "stdout",
          "text": [
            "704839\n",
            "38651\n",
            "51147\n",
            "144505\n"
          ]
        }
      ]
    },
    {
      "cell_type": "code",
      "source": [
        "number_1 = 100000\n",
        "number_2 = 30000\n",
        "sampled_dfs = []\n",
        "for df in train_dfs:\n",
        "  if number_1 < len(df):\n",
        "    sampled_dfs.append(df.sample(number_1))\n",
        "  else:\n",
        "    sampled_dfs.append(df.sample(number_2))"
      ],
      "metadata": {
        "id": "iihWAfTIh5AR"
      },
      "execution_count": null,
      "outputs": []
    },
    {
      "cell_type": "code",
      "source": [
        "train_data = pd.concat(sampled_dfs, ignore_index=True)\n",
        "#train_data.drop(['Unnamed: 0'], inplace=True, axis=1)"
      ],
      "metadata": {
        "id": "yHd5OU9TjZwm"
      },
      "execution_count": null,
      "outputs": []
    },
    {
      "cell_type": "code",
      "source": [
        "X_train = train_data.drop(['target'], axis=1)\n",
        "Y_train = train_data['target']\n",
        "X_val = val_data.drop(['target'], axis=1)\n",
        "Y_val = val_data['target']\n"
      ],
      "metadata": {
        "id": "oSYAKXZYkA7J"
      },
      "execution_count": null,
      "outputs": []
    },
    {
      "cell_type": "code",
      "source": [
        "scaler = StandardScaler().fit(X_train)\n",
        "X_train=scaler.transform(X_train)\n",
        "X_val =scaler.transform(X_val)"
      ],
      "metadata": {
        "id": "s1kPZ0CwmJsM"
      },
      "execution_count": null,
      "outputs": []
    },
    {
      "cell_type": "code",
      "source": [
        "\n",
        "#model = DecisionTreeClassifier(random_state=random_seed).fit(X_train,Y_train)\n",
        "model = RandomForestClassifier(n_estimators=85).fit(X_train,Y_train)\n",
        "preds = model.predict(X_val)\n",
        "res = model.score(X_val,Y_val)\n",
        "res"
      ],
      "metadata": {
        "colab": {
          "base_uri": "https://localhost:8080/"
        },
        "id": "945CXqqJen_2",
        "outputId": "7db0c4e0-e395-4a81-f42a-43e337f91b42"
      },
      "execution_count": null,
      "outputs": [
        {
          "output_type": "execute_result",
          "data": {
            "text/plain": [
              "0.7152458067385358"
            ]
          },
          "metadata": {},
          "execution_count": 172
        }
      ]
    },
    {
      "cell_type": "code",
      "source": [
        "f1_score(Y_val, preds, average='weighted')"
      ],
      "metadata": {
        "colab": {
          "base_uri": "https://localhost:8080/"
        },
        "id": "H_-Ypj_Fkwjw",
        "outputId": "64018bf3-d90e-4243-9f7a-0afa2393ceff"
      },
      "execution_count": null,
      "outputs": [
        {
          "output_type": "execute_result",
          "data": {
            "text/plain": [
              "0.7400386221693267"
            ]
          },
          "metadata": {},
          "execution_count": 173
        }
      ]
    },
    {
      "cell_type": "code",
      "source": [
        "res = model.score(X_train,Y_train)\n",
        "res"
      ],
      "metadata": {
        "colab": {
          "base_uri": "https://localhost:8080/"
        },
        "id": "QCpjN_2Gk0QI",
        "outputId": "48c6235b-b82f-4f8d-cdb6-86143bc47e6f"
      },
      "execution_count": null,
      "outputs": [
        {
          "output_type": "execute_result",
          "data": {
            "text/plain": [
              "1.0"
            ]
          },
          "metadata": {},
          "execution_count": 174
        }
      ]
    },
    {
      "cell_type": "code",
      "source": [
        "train_preds = model.predict(X_train)\n",
        "f1_score(Y_train, train_preds, average='macro')"
      ],
      "metadata": {
        "colab": {
          "base_uri": "https://localhost:8080/"
        },
        "id": "tTiM8wNnlVEz",
        "outputId": "4cf563e2-c1a5-4411-edc6-b27a9773992e"
      },
      "execution_count": null,
      "outputs": [
        {
          "output_type": "execute_result",
          "data": {
            "text/plain": [
              "1.0"
            ]
          },
          "metadata": {},
          "execution_count": 175
        }
      ]
    },
    {
      "cell_type": "code",
      "source": [
        "pd.DataFrame(Y_val).value_counts()"
      ],
      "metadata": {
        "colab": {
          "base_uri": "https://localhost:8080/"
        },
        "id": "crtETAOnoCd3",
        "outputId": "11b50468-c1b9-4c00-bde6-acd341dd058e"
      },
      "execution_count": null,
      "outputs": [
        {
          "output_type": "execute_result",
          "data": {
            "text/plain": [
              "target\n",
              "0         302074\n",
              "3          61931\n",
              "2          21921\n",
              "1          16565\n",
              "dtype: int64"
            ]
          },
          "metadata": {},
          "execution_count": 176
        }
      ]
    },
    {
      "cell_type": "code",
      "source": [
        "from sklearn.metrics import confusion_matrix\n",
        "\n",
        "confusion_matrix(Y_val, preds)"
      ],
      "metadata": {
        "colab": {
          "base_uri": "https://localhost:8080/"
        },
        "id": "-Wcd7_l5oc1Z",
        "outputId": "b8ad2bb3-6fc9-451d-9f3b-baf61bd99731"
      },
      "execution_count": null,
      "outputs": [
        {
          "output_type": "execute_result",
          "data": {
            "text/plain": [
              "array([[211362,   7837,   7382,  75493],\n",
              "       [  3175,  10322,    537,   2531],\n",
              "       [  2399,    441,  17255,   1826],\n",
              "       [ 11211,    782,    997,  48941]])"
            ]
          },
          "metadata": {},
          "execution_count": 177
        }
      ]
    },
    {
      "cell_type": "code",
      "source": [
        "import matplotlib.pyplot as plt\n",
        "\n",
        "from sklearn.metrics import classification_report\n",
        "print(classification_report(Y_val, preds))\n",
        "\n"
      ],
      "metadata": {
        "colab": {
          "base_uri": "https://localhost:8080/"
        },
        "id": "_MgYXYTVpBCd",
        "outputId": "de836754-16dc-48c8-e12f-490db279e36b"
      },
      "execution_count": null,
      "outputs": [
        {
          "output_type": "stream",
          "name": "stdout",
          "text": [
            "              precision    recall  f1-score   support\n",
            "\n",
            "           0       0.93      0.70      0.80    302074\n",
            "           1       0.53      0.62      0.57     16565\n",
            "           2       0.66      0.79      0.72     21921\n",
            "           3       0.38      0.79      0.51     61931\n",
            "\n",
            "    accuracy                           0.72    402491\n",
            "   macro avg       0.62      0.73      0.65    402491\n",
            "weighted avg       0.81      0.72      0.74    402491\n",
            "\n"
          ]
        }
      ]
    },
    {
      "cell_type": "code",
      "source": [
        "\n",
        "print(classification_report(Y_train, train_preds))"
      ],
      "metadata": {
        "colab": {
          "base_uri": "https://localhost:8080/"
        },
        "id": "PncTtegIpRbf",
        "outputId": "0e50e417-c673-42c7-afad-0dffbfbc030a"
      },
      "execution_count": null,
      "outputs": [
        {
          "output_type": "stream",
          "name": "stdout",
          "text": [
            "              precision    recall  f1-score   support\n",
            "\n",
            "           0       1.00      1.00      1.00    100000\n",
            "           1       1.00      1.00      1.00     30000\n",
            "           2       1.00      1.00      1.00     30000\n",
            "           3       1.00      1.00      1.00    100000\n",
            "\n",
            "    accuracy                           1.00    260000\n",
            "   macro avg       1.00      1.00      1.00    260000\n",
            "weighted avg       1.00      1.00      1.00    260000\n",
            "\n"
          ]
        }
      ]
    },
    {
      "cell_type": "code",
      "source": [
        "model.estimator_"
      ],
      "metadata": {
        "colab": {
          "base_uri": "https://localhost:8080/",
          "height": 74
        },
        "id": "48_pmK2hp7Z7",
        "outputId": "77a36a18-9542-4ade-bf52-af86068b074b"
      },
      "execution_count": null,
      "outputs": [
        {
          "output_type": "execute_result",
          "data": {
            "text/plain": [
              "DecisionTreeClassifier()"
            ],
            "text/html": [
              "<style>#sk-container-id-4 {color: black;background-color: white;}#sk-container-id-4 pre{padding: 0;}#sk-container-id-4 div.sk-toggleable {background-color: white;}#sk-container-id-4 label.sk-toggleable__label {cursor: pointer;display: block;width: 100%;margin-bottom: 0;padding: 0.3em;box-sizing: border-box;text-align: center;}#sk-container-id-4 label.sk-toggleable__label-arrow:before {content: \"▸\";float: left;margin-right: 0.25em;color: #696969;}#sk-container-id-4 label.sk-toggleable__label-arrow:hover:before {color: black;}#sk-container-id-4 div.sk-estimator:hover label.sk-toggleable__label-arrow:before {color: black;}#sk-container-id-4 div.sk-toggleable__content {max-height: 0;max-width: 0;overflow: hidden;text-align: left;background-color: #f0f8ff;}#sk-container-id-4 div.sk-toggleable__content pre {margin: 0.2em;color: black;border-radius: 0.25em;background-color: #f0f8ff;}#sk-container-id-4 input.sk-toggleable__control:checked~div.sk-toggleable__content {max-height: 200px;max-width: 100%;overflow: auto;}#sk-container-id-4 input.sk-toggleable__control:checked~label.sk-toggleable__label-arrow:before {content: \"▾\";}#sk-container-id-4 div.sk-estimator input.sk-toggleable__control:checked~label.sk-toggleable__label {background-color: #d4ebff;}#sk-container-id-4 div.sk-label input.sk-toggleable__control:checked~label.sk-toggleable__label {background-color: #d4ebff;}#sk-container-id-4 input.sk-hidden--visually {border: 0;clip: rect(1px 1px 1px 1px);clip: rect(1px, 1px, 1px, 1px);height: 1px;margin: -1px;overflow: hidden;padding: 0;position: absolute;width: 1px;}#sk-container-id-4 div.sk-estimator {font-family: monospace;background-color: #f0f8ff;border: 1px dotted black;border-radius: 0.25em;box-sizing: border-box;margin-bottom: 0.5em;}#sk-container-id-4 div.sk-estimator:hover {background-color: #d4ebff;}#sk-container-id-4 div.sk-parallel-item::after {content: \"\";width: 100%;border-bottom: 1px solid gray;flex-grow: 1;}#sk-container-id-4 div.sk-label:hover label.sk-toggleable__label {background-color: #d4ebff;}#sk-container-id-4 div.sk-serial::before {content: \"\";position: absolute;border-left: 1px solid gray;box-sizing: border-box;top: 0;bottom: 0;left: 50%;z-index: 0;}#sk-container-id-4 div.sk-serial {display: flex;flex-direction: column;align-items: center;background-color: white;padding-right: 0.2em;padding-left: 0.2em;position: relative;}#sk-container-id-4 div.sk-item {position: relative;z-index: 1;}#sk-container-id-4 div.sk-parallel {display: flex;align-items: stretch;justify-content: center;background-color: white;position: relative;}#sk-container-id-4 div.sk-item::before, #sk-container-id-4 div.sk-parallel-item::before {content: \"\";position: absolute;border-left: 1px solid gray;box-sizing: border-box;top: 0;bottom: 0;left: 50%;z-index: -1;}#sk-container-id-4 div.sk-parallel-item {display: flex;flex-direction: column;z-index: 1;position: relative;background-color: white;}#sk-container-id-4 div.sk-parallel-item:first-child::after {align-self: flex-end;width: 50%;}#sk-container-id-4 div.sk-parallel-item:last-child::after {align-self: flex-start;width: 50%;}#sk-container-id-4 div.sk-parallel-item:only-child::after {width: 0;}#sk-container-id-4 div.sk-dashed-wrapped {border: 1px dashed gray;margin: 0 0.4em 0.5em 0.4em;box-sizing: border-box;padding-bottom: 0.4em;background-color: white;}#sk-container-id-4 div.sk-label label {font-family: monospace;font-weight: bold;display: inline-block;line-height: 1.2em;}#sk-container-id-4 div.sk-label-container {text-align: center;}#sk-container-id-4 div.sk-container {/* jupyter's `normalize.less` sets `[hidden] { display: none; }` but bootstrap.min.css set `[hidden] { display: none !important; }` so we also need the `!important` here to be able to override the default hidden behavior on the sphinx rendered scikit-learn.org. See: https://github.com/scikit-learn/scikit-learn/issues/21755 */display: inline-block !important;position: relative;}#sk-container-id-4 div.sk-text-repr-fallback {display: none;}</style><div id=\"sk-container-id-4\" class=\"sk-top-container\"><div class=\"sk-text-repr-fallback\"><pre>DecisionTreeClassifier()</pre><b>In a Jupyter environment, please rerun this cell to show the HTML representation or trust the notebook. <br />On GitHub, the HTML representation is unable to render, please try loading this page with nbviewer.org.</b></div><div class=\"sk-container\" hidden><div class=\"sk-item\"><div class=\"sk-estimator sk-toggleable\"><input class=\"sk-toggleable__control sk-hidden--visually\" id=\"sk-estimator-id-4\" type=\"checkbox\" checked><label for=\"sk-estimator-id-4\" class=\"sk-toggleable__label sk-toggleable__label-arrow\">DecisionTreeClassifier</label><div class=\"sk-toggleable__content\"><pre>DecisionTreeClassifier()</pre></div></div></div></div></div>"
            ]
          },
          "metadata": {},
          "execution_count": 180
        }
      ]
    },
    {
      "cell_type": "code",
      "source": [
        " #load time data\n",
        "\n",
        "y_1_1_time = pd.read_csv('https://raw.githubusercontent.com/sushanthreddyC/Terrain-Identification-Using-Time-Series-Data/main/TrainingData/subject_001_01__y_time.csv', names = ['time'])\n",
        "y_1_2_time = pd.read_csv('https://raw.githubusercontent.com/sushanthreddyC/Terrain-Identification-Using-Time-Series-Data/main/TrainingData/subject_001_02__y_time.csv', names = ['time'])\n",
        "y_1_3_time = pd.read_csv('https://raw.githubusercontent.com/sushanthreddyC/Terrain-Identification-Using-Time-Series-Data/main/TrainingData/subject_001_03__y_time.csv', names = ['time'])\n",
        "y_1_4_time = pd.read_csv('https://raw.githubusercontent.com/sushanthreddyC/Terrain-Identification-Using-Time-Series-Data/main/TrainingData/subject_001_04__y_time.csv', names = ['time'])\n",
        "y_1_5_time = pd.read_csv('https://raw.githubusercontent.com/sushanthreddyC/Terrain-Identification-Using-Time-Series-Data/main/TrainingData/subject_001_05__y_time.csv', names = ['time'])\n",
        "y_1_6_time = pd.read_csv('https://raw.githubusercontent.com/sushanthreddyC/Terrain-Identification-Using-Time-Series-Data/main/TrainingData/subject_001_06__y_time.csv', names = ['time'])\n",
        "y_1_7_time = pd.read_csv('https://raw.githubusercontent.com/sushanthreddyC/Terrain-Identification-Using-Time-Series-Data/main/TrainingData/subject_001_07__y_time.csv', names = ['time'])\n",
        "y_1_8_time = pd.read_csv('https://raw.githubusercontent.com/sushanthreddyC/Terrain-Identification-Using-Time-Series-Data/main/TrainingData/subject_001_08__y_time.csv', names = ['time'])\n",
        "\n",
        "\n",
        "\n",
        "y_2_1_time = pd.read_csv('https://raw.githubusercontent.com/sushanthreddyC/Terrain-Identification-Using-Time-Series-Data/main/TrainingData/subject_002_01__y_time.csv', names = ['time'])\n",
        "y_2_2_time = pd.read_csv('https://raw.githubusercontent.com/sushanthreddyC/Terrain-Identification-Using-Time-Series-Data/main/TrainingData/subject_002_02__y_time.csv', names = ['time'])\n",
        "y_2_3_time = pd.read_csv('https://raw.githubusercontent.com/sushanthreddyC/Terrain-Identification-Using-Time-Series-Data/main/TrainingData/subject_002_03__y_time.csv', names = ['time'])\n",
        "y_2_4_time = pd.read_csv('https://raw.githubusercontent.com/sushanthreddyC/Terrain-Identification-Using-Time-Series-Data/main/TrainingData/subject_002_04__y_time.csv', names = ['time'])\n",
        "y_2_5_time = pd.read_csv('https://raw.githubusercontent.com/sushanthreddyC/Terrain-Identification-Using-Time-Series-Data/main/TrainingData/subject_002_05__y_time.csv', names = ['time'])\n",
        "\n",
        "\n",
        "\n",
        "y_3_1_time = pd.read_csv('https://raw.githubusercontent.com/sushanthreddyC/Terrain-Identification-Using-Time-Series-Data/main/TrainingData/subject_003_01__y_time.csv', names = ['time'])\n",
        "y_3_2_time = pd.read_csv('https://raw.githubusercontent.com/sushanthreddyC/Terrain-Identification-Using-Time-Series-Data/main/TrainingData/subject_003_02__y_time.csv', names = ['time'])\n",
        "y_3_3_time = pd.read_csv('https://raw.githubusercontent.com/sushanthreddyC/Terrain-Identification-Using-Time-Series-Data/main/TrainingData/subject_003_03__y_time.csv', names = ['time'])\n",
        "\n",
        "\n",
        "\n",
        "y_4_1_time = pd.read_csv('https://raw.githubusercontent.com/sushanthreddyC/Terrain-Identification-Using-Time-Series-Data/main/TrainingData/subject_004_01__y_time.csv', names = ['time'])\n",
        "y_4_2_time = pd.read_csv('https://raw.githubusercontent.com/sushanthreddyC/Terrain-Identification-Using-Time-Series-Data/main/TrainingData/subject_004_02__y_time.csv', names = ['time'])\n",
        "\n",
        "\n",
        "\n",
        "y_5_1_time = pd.read_csv('https://raw.githubusercontent.com/sushanthreddyC/Terrain-Identification-Using-Time-Series-Data/main/TrainingData/subject_005_01__y_time.csv', names = ['time'])\n",
        "y_5_2_time = pd.read_csv('https://raw.githubusercontent.com/sushanthreddyC/Terrain-Identification-Using-Time-Series-Data/main/TrainingData/subject_005_02__y_time.csv', names = ['time'])\n",
        "y_5_3_time = pd.read_csv('https://raw.githubusercontent.com/sushanthreddyC/Terrain-Identification-Using-Time-Series-Data/main/TrainingData/subject_005_03__y_time.csv', names = ['time'])\n",
        "\n",
        "\n",
        "y_6_1_time = pd.read_csv('https://raw.githubusercontent.com/sushanthreddyC/Terrain-Identification-Using-Time-Series-Data/main/TrainingData/subject_006_01__y_time.csv', names = ['time'])\n",
        "y_6_2_time = pd.read_csv('https://raw.githubusercontent.com/sushanthreddyC/Terrain-Identification-Using-Time-Series-Data/main/TrainingData/subject_006_02__y_time.csv', names = ['time'])\n",
        "y_6_3_time = pd.read_csv('https://raw.githubusercontent.com/sushanthreddyC/Terrain-Identification-Using-Time-Series-Data/main/TrainingData/subject_006_03__y_time.csv', names = ['time'])\n",
        "\n",
        "y_7_1_time = pd.read_csv('https://raw.githubusercontent.com/sushanthreddyC/Terrain-Identification-Using-Time-Series-Data/main/TrainingData/subject_007_01__y_time.csv', names = ['time'])\n",
        "y_7_2_time = pd.read_csv('https://raw.githubusercontent.com/sushanthreddyC/Terrain-Identification-Using-Time-Series-Data/main/TrainingData/subject_007_02__y_time.csv', names = ['time'])\n",
        "y_7_3_time = pd.read_csv('https://raw.githubusercontent.com/sushanthreddyC/Terrain-Identification-Using-Time-Series-Data/main/TrainingData/subject_007_03__y_time.csv', names = ['time'])\n",
        "y_7_4_time = pd.read_csv('https://raw.githubusercontent.com/sushanthreddyC/Terrain-Identification-Using-Time-Series-Data/main/TrainingData/subject_007_04__y_time.csv', names = ['time'])\n",
        "\n",
        "y_8_1_time = pd.read_csv('https://raw.githubusercontent.com/sushanthreddyC/Terrain-Identification-Using-Time-Series-Data/main/TrainingData/subject_008_01__y_time.csv', names = ['time'])"
      ],
      "metadata": {
        "id": "HcV5HZSoCDUr"
      },
      "execution_count": null,
      "outputs": []
    },
    {
      "cell_type": "code",
      "source": [
        "train_data = [x_1_1, x_1_2, x_1_3, x_1_4, x_1_5, x_1_6, x_1_7, x_1_8, x_2_1, x_2_2, x_2_3, x_2_4, x_2_5, x_3_1, x_3_2, x_3_3,x_4_1,x_4_2, x_5_1,x_5_2,x_5_3, x_6_1,x_6_2, x_6_3, x_7_1, x_7_2,x_7_3,x_7_4, x_8_1]\n",
        "time_data = [x_1_1_time, x_1_2_time, x_1_3_time, x_1_4_time, x_1_5_time, x_1_6_time, x_1_7_time, x_1_8_time, x_2_1_time, x_2_2_time, x_2_3_time, x_2_4_time, x_2_5_time, x_3_1_time, x_3_2_time, x_3_3_time,x_4_1_time,x_4_2_time, x_5_1_time,x_5_2_time,x_5_3_time, x_6_1_time,x_6_2_time, x_6_3_time, x_7_1_time, x_7_2_time,x_7_3_time,x_7_4_time, x_8_1_time]\n",
        "label =   [y_1_1, y_1_2, y_1_3, y_1_4, y_1_5, y_1_6, y_1_7, y_1_8, y_2_1, y_2_2, y_2_3, y_2_4, y_2_5, y_3_1, y_3_2, y_3_3,y_4_1,y_4_2, y_5_1,y_5_2,y_5_3, y_6_1,y_6_2, y_6_3, y_7_1, y_7_2,y_7_3,y_7_4, y_8_1 ]\n",
        "label_time = [y_1_1_time, y_1_2_time, y_1_3_time, y_1_4_time, y_1_5_time, y_1_6_time, y_1_7_time, y_1_8_time, y_2_1_time, y_2_2_time, y_2_3_time, y_2_4_time, y_2_5_time, y_3_1_time, y_3_2_time, y_3_3_time,y_4_1_time,y_4_2_time, y_5_1_time,y_5_2_time,y_5_3_time, y_6_1_time,y_6_2_time, y_6_3_time, y_7_1_time, y_7_2_time,y_7_3_time,y_7_4_time, y_8_1_time]"
      ],
      "metadata": {
        "id": "-aYrupO0q-qq"
      },
      "execution_count": null,
      "outputs": []
    },
    {
      "cell_type": "code",
      "source": [],
      "metadata": {
        "colab": {
          "base_uri": "https://localhost:8080/"
        },
        "id": "KFbdpHXR_l6q",
        "outputId": "eef78727-22e4-465b-def0-0fe0341709f2"
      },
      "execution_count": null,
      "outputs": [
        {
          "output_type": "execute_result",
          "data": {
            "text/plain": [
              "0"
            ]
          },
          "metadata": {},
          "execution_count": 285
        }
      ]
    },
    {
      "cell_type": "code",
      "source": [
        "final=[]\n",
        "def add_time(x,t):\n",
        "  for i in range(len(x)):\n",
        "    x[i] = pd.concat([x[i], t[i]], axis=1)\n",
        "def sampler(data , Y_label):\n",
        "  #data['target'] = [0 for i in range(len(data))]\n",
        "  temp = []\n",
        "  y_ind = 0\n",
        "  for ind in range(len(data)):\n",
        "    #y_ind=int(ind//4)\n",
        "    if(y_ind>=len(Y_label)):\n",
        "      break\n",
        "    elif(Y_label['time'].iloc[y_ind] > data['time'].iloc[ind]):\n",
        "      temp.append(Y_label['target'][y_ind])\n",
        "    else:\n",
        "      y_ind+=1\n",
        "      if(y_ind>=len(Y_label)):\n",
        "        y_ind-=1\n",
        "        temp.append(Y_label['target'][y_ind-1])\n",
        "      else: \n",
        "        temp.append(Y_label['target'][y_ind])\n",
        "  #print('data : ', len(data))\n",
        "  #print('temp : ', len(temp))\n",
        "  data['target'] = temp\n",
        "  final.append(data)\n",
        "\n",
        "add_time(train_data,time_data)\n",
        "add_time(label, label_time)\n",
        "for i in range(len(train_data)):\n",
        "  #print(i)\n",
        "  sampler(train_data[i],label[i])"
      ],
      "metadata": {
        "id": "FN7WhYjw9IcC"
      },
      "execution_count": null,
      "outputs": []
    },
    {
      "cell_type": "code",
      "source": [
        "train_data[0].head()"
      ],
      "metadata": {
        "colab": {
          "base_uri": "https://localhost:8080/",
          "height": 206
        },
        "id": "DUHwIUNz-sKH",
        "outputId": "9f851787-2907-48de-8983-2929f9b3b5f2"
      },
      "execution_count": null,
      "outputs": [
        {
          "output_type": "execute_result",
          "data": {
            "text/plain": [
              "         ax        ay        az        gx        gy        gz   time  target\n",
              "0  4.435275  8.196063  2.974488  0.014215 -0.039157 -0.016744  0.000       0\n",
              "1  4.186920  8.344455  2.908057  0.005771 -0.004480 -0.003345  0.025       0\n",
              "2  4.544637  8.408659  2.890000  0.007967  0.022412  0.001159  0.050       0\n",
              "3  4.849308  8.411614  2.900692  0.027778 -0.010670 -0.014223  0.075       0\n",
              "4  4.509190  8.118649  2.847298  0.021577 -0.045498 -0.021111  0.100       0"
            ],
            "text/html": [
              "\n",
              "  <div id=\"df-5f54463d-a9c5-4458-9c2a-0ed292183e7f\">\n",
              "    <div class=\"colab-df-container\">\n",
              "      <div>\n",
              "<style scoped>\n",
              "    .dataframe tbody tr th:only-of-type {\n",
              "        vertical-align: middle;\n",
              "    }\n",
              "\n",
              "    .dataframe tbody tr th {\n",
              "        vertical-align: top;\n",
              "    }\n",
              "\n",
              "    .dataframe thead th {\n",
              "        text-align: right;\n",
              "    }\n",
              "</style>\n",
              "<table border=\"1\" class=\"dataframe\">\n",
              "  <thead>\n",
              "    <tr style=\"text-align: right;\">\n",
              "      <th></th>\n",
              "      <th>ax</th>\n",
              "      <th>ay</th>\n",
              "      <th>az</th>\n",
              "      <th>gx</th>\n",
              "      <th>gy</th>\n",
              "      <th>gz</th>\n",
              "      <th>time</th>\n",
              "      <th>target</th>\n",
              "    </tr>\n",
              "  </thead>\n",
              "  <tbody>\n",
              "    <tr>\n",
              "      <th>0</th>\n",
              "      <td>4.435275</td>\n",
              "      <td>8.196063</td>\n",
              "      <td>2.974488</td>\n",
              "      <td>0.014215</td>\n",
              "      <td>-0.039157</td>\n",
              "      <td>-0.016744</td>\n",
              "      <td>0.000</td>\n",
              "      <td>0</td>\n",
              "    </tr>\n",
              "    <tr>\n",
              "      <th>1</th>\n",
              "      <td>4.186920</td>\n",
              "      <td>8.344455</td>\n",
              "      <td>2.908057</td>\n",
              "      <td>0.005771</td>\n",
              "      <td>-0.004480</td>\n",
              "      <td>-0.003345</td>\n",
              "      <td>0.025</td>\n",
              "      <td>0</td>\n",
              "    </tr>\n",
              "    <tr>\n",
              "      <th>2</th>\n",
              "      <td>4.544637</td>\n",
              "      <td>8.408659</td>\n",
              "      <td>2.890000</td>\n",
              "      <td>0.007967</td>\n",
              "      <td>0.022412</td>\n",
              "      <td>0.001159</td>\n",
              "      <td>0.050</td>\n",
              "      <td>0</td>\n",
              "    </tr>\n",
              "    <tr>\n",
              "      <th>3</th>\n",
              "      <td>4.849308</td>\n",
              "      <td>8.411614</td>\n",
              "      <td>2.900692</td>\n",
              "      <td>0.027778</td>\n",
              "      <td>-0.010670</td>\n",
              "      <td>-0.014223</td>\n",
              "      <td>0.075</td>\n",
              "      <td>0</td>\n",
              "    </tr>\n",
              "    <tr>\n",
              "      <th>4</th>\n",
              "      <td>4.509190</td>\n",
              "      <td>8.118649</td>\n",
              "      <td>2.847298</td>\n",
              "      <td>0.021577</td>\n",
              "      <td>-0.045498</td>\n",
              "      <td>-0.021111</td>\n",
              "      <td>0.100</td>\n",
              "      <td>0</td>\n",
              "    </tr>\n",
              "  </tbody>\n",
              "</table>\n",
              "</div>\n",
              "      <button class=\"colab-df-convert\" onclick=\"convertToInteractive('df-5f54463d-a9c5-4458-9c2a-0ed292183e7f')\"\n",
              "              title=\"Convert this dataframe to an interactive table.\"\n",
              "              style=\"display:none;\">\n",
              "        \n",
              "  <svg xmlns=\"http://www.w3.org/2000/svg\" height=\"24px\"viewBox=\"0 0 24 24\"\n",
              "       width=\"24px\">\n",
              "    <path d=\"M0 0h24v24H0V0z\" fill=\"none\"/>\n",
              "    <path d=\"M18.56 5.44l.94 2.06.94-2.06 2.06-.94-2.06-.94-.94-2.06-.94 2.06-2.06.94zm-11 1L8.5 8.5l.94-2.06 2.06-.94-2.06-.94L8.5 2.5l-.94 2.06-2.06.94zm10 10l.94 2.06.94-2.06 2.06-.94-2.06-.94-.94-2.06-.94 2.06-2.06.94z\"/><path d=\"M17.41 7.96l-1.37-1.37c-.4-.4-.92-.59-1.43-.59-.52 0-1.04.2-1.43.59L10.3 9.45l-7.72 7.72c-.78.78-.78 2.05 0 2.83L4 21.41c.39.39.9.59 1.41.59.51 0 1.02-.2 1.41-.59l7.78-7.78 2.81-2.81c.8-.78.8-2.07 0-2.86zM5.41 20L4 18.59l7.72-7.72 1.47 1.35L5.41 20z\"/>\n",
              "  </svg>\n",
              "      </button>\n",
              "      \n",
              "  <style>\n",
              "    .colab-df-container {\n",
              "      display:flex;\n",
              "      flex-wrap:wrap;\n",
              "      gap: 12px;\n",
              "    }\n",
              "\n",
              "    .colab-df-convert {\n",
              "      background-color: #E8F0FE;\n",
              "      border: none;\n",
              "      border-radius: 50%;\n",
              "      cursor: pointer;\n",
              "      display: none;\n",
              "      fill: #1967D2;\n",
              "      height: 32px;\n",
              "      padding: 0 0 0 0;\n",
              "      width: 32px;\n",
              "    }\n",
              "\n",
              "    .colab-df-convert:hover {\n",
              "      background-color: #E2EBFA;\n",
              "      box-shadow: 0px 1px 2px rgba(60, 64, 67, 0.3), 0px 1px 3px 1px rgba(60, 64, 67, 0.15);\n",
              "      fill: #174EA6;\n",
              "    }\n",
              "\n",
              "    [theme=dark] .colab-df-convert {\n",
              "      background-color: #3B4455;\n",
              "      fill: #D2E3FC;\n",
              "    }\n",
              "\n",
              "    [theme=dark] .colab-df-convert:hover {\n",
              "      background-color: #434B5C;\n",
              "      box-shadow: 0px 1px 3px 1px rgba(0, 0, 0, 0.15);\n",
              "      filter: drop-shadow(0px 1px 2px rgba(0, 0, 0, 0.3));\n",
              "      fill: #FFFFFF;\n",
              "    }\n",
              "  </style>\n",
              "\n",
              "      <script>\n",
              "        const buttonEl =\n",
              "          document.querySelector('#df-5f54463d-a9c5-4458-9c2a-0ed292183e7f button.colab-df-convert');\n",
              "        buttonEl.style.display =\n",
              "          google.colab.kernel.accessAllowed ? 'block' : 'none';\n",
              "\n",
              "        async function convertToInteractive(key) {\n",
              "          const element = document.querySelector('#df-5f54463d-a9c5-4458-9c2a-0ed292183e7f');\n",
              "          const dataTable =\n",
              "            await google.colab.kernel.invokeFunction('convertToInteractive',\n",
              "                                                     [key], {});\n",
              "          if (!dataTable) return;\n",
              "\n",
              "          const docLinkHtml = 'Like what you see? Visit the ' +\n",
              "            '<a target=\"_blank\" href=https://colab.research.google.com/notebooks/data_table.ipynb>data table notebook</a>'\n",
              "            + ' to learn more about interactive tables.';\n",
              "          element.innerHTML = '';\n",
              "          dataTable['output_type'] = 'display_data';\n",
              "          await google.colab.output.renderOutput(dataTable, element);\n",
              "          const docLink = document.createElement('div');\n",
              "          docLink.innerHTML = docLinkHtml;\n",
              "          element.appendChild(docLink);\n",
              "        }\n",
              "      </script>\n",
              "    </div>\n",
              "  </div>\n",
              "  "
            ]
          },
          "metadata": {},
          "execution_count": 184
        }
      ]
    },
    {
      "cell_type": "code",
      "source": [
        "df = pd.concat(train_data, ignore_index=True)\n",
        "len(df)"
      ],
      "metadata": {
        "colab": {
          "base_uri": "https://localhost:8080/"
        },
        "id": "ck5Ry2c5HL87",
        "outputId": "307a2634-64ac-4171-ee0f-24c7edc7d99a"
      },
      "execution_count": null,
      "outputs": [
        {
          "output_type": "execute_result",
          "data": {
            "text/plain": [
              "1341646"
            ]
          },
          "metadata": {},
          "execution_count": 185
        }
      ]
    },
    {
      "cell_type": "code",
      "source": [
        "training, validation = train_test_split(df, test_size=0.3, random_state=69)"
      ],
      "metadata": {
        "id": "c1BIEAEb-6cw"
      },
      "execution_count": null,
      "outputs": []
    },
    {
      "cell_type": "code",
      "source": [
        "X_train = training.drop(['target'], axis=1)\n",
        "Y_train = training['target']\n",
        "X_test = validation.drop(['target'], axis=1)\n",
        "Y_test = validation['target']"
      ],
      "metadata": {
        "id": "bIukJ4A7GpPa"
      },
      "execution_count": null,
      "outputs": []
    },
    {
      "cell_type": "code",
      "source": [
        "scaler = StandardScaler().fit(X_train)\n",
        "X_train=scaler.transform(X_train)\n",
        "X_test =scaler.transform(X_test)"
      ],
      "metadata": {
        "id": "FIm-9vD9DZdo"
      },
      "execution_count": null,
      "outputs": []
    },
    {
      "cell_type": "code",
      "source": [
        "from imblearn import over_sampling\n",
        "os = over_sampling.SMOTE()"
      ],
      "metadata": {
        "id": "O82aFtfkLWOv"
      },
      "execution_count": null,
      "outputs": []
    },
    {
      "cell_type": "code",
      "source": [
        "X_train_os, Y_train_os = os.fit_resample(X_train, Y_train)"
      ],
      "metadata": {
        "id": "ujAh4WVgL5Vh"
      },
      "execution_count": null,
      "outputs": []
    },
    {
      "cell_type": "code",
      "source": [
        "model = RandomForestClassifier(n_estimators=25).fit(X_train_os,Y_train_os)\n",
        "preds = model.predict(X_test)\n",
        "res = model.score(X_test,Y_test)\n",
        "res"
      ],
      "metadata": {
        "colab": {
          "base_uri": "https://localhost:8080/"
        },
        "id": "0kq1oGYOHgtd",
        "outputId": "7d7f50ca-4ab3-4cdf-8228-835e2e8c2580"
      },
      "execution_count": null,
      "outputs": [
        {
          "output_type": "execute_result",
          "data": {
            "text/plain": [
              "0.7879123663955239"
            ]
          },
          "metadata": {},
          "execution_count": 191
        }
      ]
    },
    {
      "cell_type": "code",
      "source": [
        "train_preds = model.predict(X_train)\n",
        "print(classification_report(Y_train, train_preds))"
      ],
      "metadata": {
        "colab": {
          "base_uri": "https://localhost:8080/"
        },
        "id": "bq_yc_o5Jflq",
        "outputId": "ff516e7e-7c8b-4c07-bdca-b1d1c77e4b8c"
      },
      "execution_count": null,
      "outputs": [
        {
          "output_type": "stream",
          "name": "stdout",
          "text": [
            "              precision    recall  f1-score   support\n",
            "\n",
            "           0       1.00      1.00      1.00    704700\n",
            "           1       1.00      1.00      1.00     38652\n",
            "           2       1.00      1.00      1.00     51066\n",
            "           3       1.00      1.00      1.00    144734\n",
            "\n",
            "    accuracy                           1.00    939152\n",
            "   macro avg       1.00      1.00      1.00    939152\n",
            "weighted avg       1.00      1.00      1.00    939152\n",
            "\n"
          ]
        }
      ]
    },
    {
      "cell_type": "code",
      "source": [
        "\n",
        "print(classification_report(Y_test, preds))"
      ],
      "metadata": {
        "colab": {
          "base_uri": "https://localhost:8080/"
        },
        "id": "fmKxmmbkJh6q",
        "outputId": "b6d7793b-c835-4b87-eeae-f9405cefcff7"
      },
      "execution_count": null,
      "outputs": [
        {
          "output_type": "stream",
          "name": "stdout",
          "text": [
            "              precision    recall  f1-score   support\n",
            "\n",
            "           0       0.90      0.83      0.86    302226\n",
            "           1       0.48      0.69      0.56     16564\n",
            "           2       0.64      0.83      0.72     22002\n",
            "           3       0.51      0.60      0.55     61702\n",
            "\n",
            "    accuracy                           0.79    402494\n",
            "   macro avg       0.63      0.74      0.68    402494\n",
            "weighted avg       0.81      0.79      0.80    402494\n",
            "\n"
          ]
        }
      ]
    },
    {
      "cell_type": "markdown",
      "source": [
        "#Predictions"
      ],
      "metadata": {
        "id": "UojWYrUkNGCP"
      }
    },
    {
      "cell_type": "code",
      "source": [
        "#load data\n",
        "\n",
        "x_9_1 = pd.read_csv('https://raw.githubusercontent.com/sushanthreddyC/Terrain-Identification-Using-Time-Series-Data/main/TestData/subject_009_01__x.csv', names = ['ax', 'ay', 'az', 'gx', 'gy', 'gz'])\n",
        "x_10_1 = pd.read_csv('https://raw.githubusercontent.com/sushanthreddyC/Terrain-Identification-Using-Time-Series-Data/main/TestData/subject_010_01__x.csv', names = ['ax', 'ay', 'az', 'gx', 'gy', 'gz'])\n",
        "x_11_1 = pd.read_csv('https://raw.githubusercontent.com/sushanthreddyC/Terrain-Identification-Using-Time-Series-Data/main/TestData/subject_011_01__x.csv', names = ['ax', 'ay', 'az', 'gx', 'gy', 'gz'])\n",
        "x_12_1 = pd.read_csv('https://raw.githubusercontent.com/sushanthreddyC/Terrain-Identification-Using-Time-Series-Data/main/TestData/subject_012_01__x.csv',  names = ['ax', 'ay', 'az', 'gx', 'gy', 'gz'])\n",
        "\n",
        "x_9_1_time = pd.read_csv('https://raw.githubusercontent.com/sushanthreddyC/Terrain-Identification-Using-Time-Series-Data/main/TestData/subject_009_01__x_time.csv', names = ['time'])\n",
        "x_10_1_time = pd.read_csv('https://raw.githubusercontent.com/sushanthreddyC/Terrain-Identification-Using-Time-Series-Data/main/TestData/subject_010_01__x_time.csv',  names = ['time'])\n",
        "x_11_1_time = pd.read_csv('https://raw.githubusercontent.com/sushanthreddyC/Terrain-Identification-Using-Time-Series-Data/main/TestData/subject_011_01__x_time.csv',  names = ['time'])\n",
        "x_12_1_time = pd.read_csv('https://raw.githubusercontent.com/sushanthreddyC/Terrain-Identification-Using-Time-Series-Data/main/TestData/subject_012_01__x_time.csv',   names = ['time'])\n",
        "\n",
        "\n",
        "y_9_1_time = pd.read_csv('https://raw.githubusercontent.com/sushanthreddyC/Terrain-Identification-Using-Time-Series-Data/main/TestData/subject_009_01__y_time.csv',  names = ['time'])\n",
        "y_10_1_time = pd.read_csv('https://raw.githubusercontent.com/sushanthreddyC/Terrain-Identification-Using-Time-Series-Data/main/TestData/subject_010_01__y_time.csv',  names = ['time'])\n",
        "y_11_1_time = pd.read_csv('https://raw.githubusercontent.com/sushanthreddyC/Terrain-Identification-Using-Time-Series-Data/main/TestData/subject_011_01__y_time.csv', names = ['time'])\n",
        "y_12_1_time = pd.read_csv('https://raw.githubusercontent.com/sushanthreddyC/Terrain-Identification-Using-Time-Series-Data/main/TestData/subject_012_01__y_time.csv',  names = ['time'])"
      ],
      "metadata": {
        "id": "2uiK7x6CNIE8"
      },
      "execution_count": null,
      "outputs": []
    },
    {
      "cell_type": "code",
      "source": [
        "def sampling_test(X,X_time,Y_time):\n",
        "  X_final =[]\n",
        "  i=0\n",
        "  while(i<len(X)):\n",
        "    y_ind= int(i//4)\n",
        "    if(y_ind >= len(Y_time)):\n",
        "      y_ind =len(Y_time)-1\n",
        "    if(X_time.iloc[i]['time']<=Y_time.iloc[y_ind]['time']):\n",
        "      X_final.append(X.iloc[i])\n",
        "      i +=4\n",
        "    else :\n",
        "      i+=1\n",
        "  return X_final\n",
        "x_9_1 = pd.concat([x_9_1,x_9_1_time],axis=1)\n",
        "x_10_1 = pd.concat([x_10_1,x_10_1_time],axis=1)\n",
        "x_11_1 = pd.concat([x_11_1,x_11_1_time],axis=1)\n",
        "x_12_1 = pd.concat([x_12_1,x_12_1_time],axis=1)\n",
        "X_final_9= sampling_test(x_9_1,x_9_1_time,y_9_1_time)\n",
        "X_final_10= sampling_test(x_10_1,x_10_1_time,y_10_1_time)\n",
        "X_final_11= sampling_test(x_11_1,x_11_1_time,y_11_1_time)\n",
        "X_final_12= sampling_test(x_12_1,x_12_1_time,y_12_1_time)"
      ],
      "metadata": {
        "id": "harsUwnGONlO"
      },
      "execution_count": null,
      "outputs": []
    },
    {
      "cell_type": "code",
      "source": [
        "x_9_1.head()"
      ],
      "metadata": {
        "colab": {
          "base_uri": "https://localhost:8080/",
          "height": 206
        },
        "id": "JPEJ8NxXWmna",
        "outputId": "a38eaf55-5e2d-4b12-f8a5-07054dd39e2a"
      },
      "execution_count": null,
      "outputs": [
        {
          "output_type": "execute_result",
          "data": {
            "text/plain": [
              "         ax        ay        az        gx        gy        gz   time\n",
              "0  0.396845  8.710000 -4.476044  0.001111 -0.008889  0.004137  0.000\n",
              "1  0.413795  8.706898 -4.456205  0.000000 -0.002838  0.007162  0.025\n",
              "2  0.423914  8.707828 -4.502172  0.002037  0.001111  0.007778  0.050\n",
              "3  0.442980  8.718078 -4.502980  0.000403  0.004648  0.008384  0.075\n",
              "4  0.485234  8.725234 -4.520000 -0.000020  0.006667  0.007778  0.100"
            ],
            "text/html": [
              "\n",
              "  <div id=\"df-01ff31d8-1fcf-42f9-aef0-4a87b8685e43\">\n",
              "    <div class=\"colab-df-container\">\n",
              "      <div>\n",
              "<style scoped>\n",
              "    .dataframe tbody tr th:only-of-type {\n",
              "        vertical-align: middle;\n",
              "    }\n",
              "\n",
              "    .dataframe tbody tr th {\n",
              "        vertical-align: top;\n",
              "    }\n",
              "\n",
              "    .dataframe thead th {\n",
              "        text-align: right;\n",
              "    }\n",
              "</style>\n",
              "<table border=\"1\" class=\"dataframe\">\n",
              "  <thead>\n",
              "    <tr style=\"text-align: right;\">\n",
              "      <th></th>\n",
              "      <th>ax</th>\n",
              "      <th>ay</th>\n",
              "      <th>az</th>\n",
              "      <th>gx</th>\n",
              "      <th>gy</th>\n",
              "      <th>gz</th>\n",
              "      <th>time</th>\n",
              "    </tr>\n",
              "  </thead>\n",
              "  <tbody>\n",
              "    <tr>\n",
              "      <th>0</th>\n",
              "      <td>0.396845</td>\n",
              "      <td>8.710000</td>\n",
              "      <td>-4.476044</td>\n",
              "      <td>0.001111</td>\n",
              "      <td>-0.008889</td>\n",
              "      <td>0.004137</td>\n",
              "      <td>0.000</td>\n",
              "    </tr>\n",
              "    <tr>\n",
              "      <th>1</th>\n",
              "      <td>0.413795</td>\n",
              "      <td>8.706898</td>\n",
              "      <td>-4.456205</td>\n",
              "      <td>0.000000</td>\n",
              "      <td>-0.002838</td>\n",
              "      <td>0.007162</td>\n",
              "      <td>0.025</td>\n",
              "    </tr>\n",
              "    <tr>\n",
              "      <th>2</th>\n",
              "      <td>0.423914</td>\n",
              "      <td>8.707828</td>\n",
              "      <td>-4.502172</td>\n",
              "      <td>0.002037</td>\n",
              "      <td>0.001111</td>\n",
              "      <td>0.007778</td>\n",
              "      <td>0.050</td>\n",
              "    </tr>\n",
              "    <tr>\n",
              "      <th>3</th>\n",
              "      <td>0.442980</td>\n",
              "      <td>8.718078</td>\n",
              "      <td>-4.502980</td>\n",
              "      <td>0.000403</td>\n",
              "      <td>0.004648</td>\n",
              "      <td>0.008384</td>\n",
              "      <td>0.075</td>\n",
              "    </tr>\n",
              "    <tr>\n",
              "      <th>4</th>\n",
              "      <td>0.485234</td>\n",
              "      <td>8.725234</td>\n",
              "      <td>-4.520000</td>\n",
              "      <td>-0.000020</td>\n",
              "      <td>0.006667</td>\n",
              "      <td>0.007778</td>\n",
              "      <td>0.100</td>\n",
              "    </tr>\n",
              "  </tbody>\n",
              "</table>\n",
              "</div>\n",
              "      <button class=\"colab-df-convert\" onclick=\"convertToInteractive('df-01ff31d8-1fcf-42f9-aef0-4a87b8685e43')\"\n",
              "              title=\"Convert this dataframe to an interactive table.\"\n",
              "              style=\"display:none;\">\n",
              "        \n",
              "  <svg xmlns=\"http://www.w3.org/2000/svg\" height=\"24px\"viewBox=\"0 0 24 24\"\n",
              "       width=\"24px\">\n",
              "    <path d=\"M0 0h24v24H0V0z\" fill=\"none\"/>\n",
              "    <path d=\"M18.56 5.44l.94 2.06.94-2.06 2.06-.94-2.06-.94-.94-2.06-.94 2.06-2.06.94zm-11 1L8.5 8.5l.94-2.06 2.06-.94-2.06-.94L8.5 2.5l-.94 2.06-2.06.94zm10 10l.94 2.06.94-2.06 2.06-.94-2.06-.94-.94-2.06-.94 2.06-2.06.94z\"/><path d=\"M17.41 7.96l-1.37-1.37c-.4-.4-.92-.59-1.43-.59-.52 0-1.04.2-1.43.59L10.3 9.45l-7.72 7.72c-.78.78-.78 2.05 0 2.83L4 21.41c.39.39.9.59 1.41.59.51 0 1.02-.2 1.41-.59l7.78-7.78 2.81-2.81c.8-.78.8-2.07 0-2.86zM5.41 20L4 18.59l7.72-7.72 1.47 1.35L5.41 20z\"/>\n",
              "  </svg>\n",
              "      </button>\n",
              "      \n",
              "  <style>\n",
              "    .colab-df-container {\n",
              "      display:flex;\n",
              "      flex-wrap:wrap;\n",
              "      gap: 12px;\n",
              "    }\n",
              "\n",
              "    .colab-df-convert {\n",
              "      background-color: #E8F0FE;\n",
              "      border: none;\n",
              "      border-radius: 50%;\n",
              "      cursor: pointer;\n",
              "      display: none;\n",
              "      fill: #1967D2;\n",
              "      height: 32px;\n",
              "      padding: 0 0 0 0;\n",
              "      width: 32px;\n",
              "    }\n",
              "\n",
              "    .colab-df-convert:hover {\n",
              "      background-color: #E2EBFA;\n",
              "      box-shadow: 0px 1px 2px rgba(60, 64, 67, 0.3), 0px 1px 3px 1px rgba(60, 64, 67, 0.15);\n",
              "      fill: #174EA6;\n",
              "    }\n",
              "\n",
              "    [theme=dark] .colab-df-convert {\n",
              "      background-color: #3B4455;\n",
              "      fill: #D2E3FC;\n",
              "    }\n",
              "\n",
              "    [theme=dark] .colab-df-convert:hover {\n",
              "      background-color: #434B5C;\n",
              "      box-shadow: 0px 1px 3px 1px rgba(0, 0, 0, 0.15);\n",
              "      filter: drop-shadow(0px 1px 2px rgba(0, 0, 0, 0.3));\n",
              "      fill: #FFFFFF;\n",
              "    }\n",
              "  </style>\n",
              "\n",
              "      <script>\n",
              "        const buttonEl =\n",
              "          document.querySelector('#df-01ff31d8-1fcf-42f9-aef0-4a87b8685e43 button.colab-df-convert');\n",
              "        buttonEl.style.display =\n",
              "          google.colab.kernel.accessAllowed ? 'block' : 'none';\n",
              "\n",
              "        async function convertToInteractive(key) {\n",
              "          const element = document.querySelector('#df-01ff31d8-1fcf-42f9-aef0-4a87b8685e43');\n",
              "          const dataTable =\n",
              "            await google.colab.kernel.invokeFunction('convertToInteractive',\n",
              "                                                     [key], {});\n",
              "          if (!dataTable) return;\n",
              "\n",
              "          const docLinkHtml = 'Like what you see? Visit the ' +\n",
              "            '<a target=\"_blank\" href=https://colab.research.google.com/notebooks/data_table.ipynb>data table notebook</a>'\n",
              "            + ' to learn more about interactive tables.';\n",
              "          element.innerHTML = '';\n",
              "          dataTable['output_type'] = 'display_data';\n",
              "          await google.colab.output.renderOutput(dataTable, element);\n",
              "          const docLink = document.createElement('div');\n",
              "          docLink.innerHTML = docLinkHtml;\n",
              "          element.appendChild(docLink);\n",
              "        }\n",
              "      </script>\n",
              "    </div>\n",
              "  </div>\n",
              "  "
            ]
          },
          "metadata": {},
          "execution_count": 196
        }
      ]
    },
    {
      "cell_type": "code",
      "source": [
        "print(len(X_final_9))\n",
        "print(len(X_final_10))\n",
        "print(len(X_final_11))\n",
        "print(len(X_final_12))\n",
        "[9498, 12270, 12940, 11330]"
      ],
      "metadata": {
        "colab": {
          "base_uri": "https://localhost:8080/"
        },
        "id": "a2n0ljBKScBz",
        "outputId": "f8bfb034-a521-40ff-9023-243c5e23a361"
      },
      "execution_count": null,
      "outputs": [
        {
          "output_type": "stream",
          "name": "stdout",
          "text": [
            "9498\n",
            "12270\n",
            "12940\n",
            "11330\n"
          ]
        },
        {
          "output_type": "execute_result",
          "data": {
            "text/plain": [
              "[9498, 12270, 12940, 11330]"
            ]
          },
          "metadata": {},
          "execution_count": 197
        }
      ]
    },
    {
      "cell_type": "code",
      "source": [],
      "metadata": {
        "id": "-A8MBNPqONaW"
      },
      "execution_count": null,
      "outputs": []
    },
    {
      "cell_type": "code",
      "source": [
        "X_final_9 = pd.DataFrame(X_final_9).reset_index().drop(['index'], axis=1)\n",
        "X_final_10 = pd.DataFrame(X_final_10).reset_index().drop(['index'], axis=1)\n",
        "X_final_11 = pd.DataFrame(X_final_11).reset_index().drop(['index'], axis=1)\n",
        "X_final_12 = pd.DataFrame(X_final_12).reset_index().drop(['index'], axis=1)\n"
      ],
      "metadata": {
        "id": "e98gxnX6W02S"
      },
      "execution_count": null,
      "outputs": []
    },
    {
      "cell_type": "code",
      "source": [
        "X_final_12.head()"
      ],
      "metadata": {
        "colab": {
          "base_uri": "https://localhost:8080/",
          "height": 206
        },
        "id": "pkXH8CC2RSX2",
        "outputId": "7ee74c12-ba71-441f-d250-d7deed350ec2"
      },
      "execution_count": null,
      "outputs": [
        {
          "output_type": "execute_result",
          "data": {
            "text/plain": [
              "         ax        ay        az        gx        gy        gz  time\n",
              "0 -0.226662  9.070000  3.480012  0.002707 -0.008122 -0.005212   0.0\n",
              "1 -0.230224  9.070000  3.470448  0.003333 -0.004154 -0.003624   0.1\n",
              "2 -0.220000  9.085760  3.471519 -0.003879  0.002788 -0.004162   0.2\n",
              "3 -0.295160  9.080321  3.480321  0.000604 -0.005653 -0.001748   0.3\n",
              "4 -0.183501  9.062997  3.469496 -0.000132 -0.008043 -0.002222   0.4"
            ],
            "text/html": [
              "\n",
              "  <div id=\"df-cb7cfc93-7034-47d5-a06e-36a4c6e7f1d0\">\n",
              "    <div class=\"colab-df-container\">\n",
              "      <div>\n",
              "<style scoped>\n",
              "    .dataframe tbody tr th:only-of-type {\n",
              "        vertical-align: middle;\n",
              "    }\n",
              "\n",
              "    .dataframe tbody tr th {\n",
              "        vertical-align: top;\n",
              "    }\n",
              "\n",
              "    .dataframe thead th {\n",
              "        text-align: right;\n",
              "    }\n",
              "</style>\n",
              "<table border=\"1\" class=\"dataframe\">\n",
              "  <thead>\n",
              "    <tr style=\"text-align: right;\">\n",
              "      <th></th>\n",
              "      <th>ax</th>\n",
              "      <th>ay</th>\n",
              "      <th>az</th>\n",
              "      <th>gx</th>\n",
              "      <th>gy</th>\n",
              "      <th>gz</th>\n",
              "      <th>time</th>\n",
              "    </tr>\n",
              "  </thead>\n",
              "  <tbody>\n",
              "    <tr>\n",
              "      <th>0</th>\n",
              "      <td>-0.226662</td>\n",
              "      <td>9.070000</td>\n",
              "      <td>3.480012</td>\n",
              "      <td>0.002707</td>\n",
              "      <td>-0.008122</td>\n",
              "      <td>-0.005212</td>\n",
              "      <td>0.0</td>\n",
              "    </tr>\n",
              "    <tr>\n",
              "      <th>1</th>\n",
              "      <td>-0.230224</td>\n",
              "      <td>9.070000</td>\n",
              "      <td>3.470448</td>\n",
              "      <td>0.003333</td>\n",
              "      <td>-0.004154</td>\n",
              "      <td>-0.003624</td>\n",
              "      <td>0.1</td>\n",
              "    </tr>\n",
              "    <tr>\n",
              "      <th>2</th>\n",
              "      <td>-0.220000</td>\n",
              "      <td>9.085760</td>\n",
              "      <td>3.471519</td>\n",
              "      <td>-0.003879</td>\n",
              "      <td>0.002788</td>\n",
              "      <td>-0.004162</td>\n",
              "      <td>0.2</td>\n",
              "    </tr>\n",
              "    <tr>\n",
              "      <th>3</th>\n",
              "      <td>-0.295160</td>\n",
              "      <td>9.080321</td>\n",
              "      <td>3.480321</td>\n",
              "      <td>0.000604</td>\n",
              "      <td>-0.005653</td>\n",
              "      <td>-0.001748</td>\n",
              "      <td>0.3</td>\n",
              "    </tr>\n",
              "    <tr>\n",
              "      <th>4</th>\n",
              "      <td>-0.183501</td>\n",
              "      <td>9.062997</td>\n",
              "      <td>3.469496</td>\n",
              "      <td>-0.000132</td>\n",
              "      <td>-0.008043</td>\n",
              "      <td>-0.002222</td>\n",
              "      <td>0.4</td>\n",
              "    </tr>\n",
              "  </tbody>\n",
              "</table>\n",
              "</div>\n",
              "      <button class=\"colab-df-convert\" onclick=\"convertToInteractive('df-cb7cfc93-7034-47d5-a06e-36a4c6e7f1d0')\"\n",
              "              title=\"Convert this dataframe to an interactive table.\"\n",
              "              style=\"display:none;\">\n",
              "        \n",
              "  <svg xmlns=\"http://www.w3.org/2000/svg\" height=\"24px\"viewBox=\"0 0 24 24\"\n",
              "       width=\"24px\">\n",
              "    <path d=\"M0 0h24v24H0V0z\" fill=\"none\"/>\n",
              "    <path d=\"M18.56 5.44l.94 2.06.94-2.06 2.06-.94-2.06-.94-.94-2.06-.94 2.06-2.06.94zm-11 1L8.5 8.5l.94-2.06 2.06-.94-2.06-.94L8.5 2.5l-.94 2.06-2.06.94zm10 10l.94 2.06.94-2.06 2.06-.94-2.06-.94-.94-2.06-.94 2.06-2.06.94z\"/><path d=\"M17.41 7.96l-1.37-1.37c-.4-.4-.92-.59-1.43-.59-.52 0-1.04.2-1.43.59L10.3 9.45l-7.72 7.72c-.78.78-.78 2.05 0 2.83L4 21.41c.39.39.9.59 1.41.59.51 0 1.02-.2 1.41-.59l7.78-7.78 2.81-2.81c.8-.78.8-2.07 0-2.86zM5.41 20L4 18.59l7.72-7.72 1.47 1.35L5.41 20z\"/>\n",
              "  </svg>\n",
              "      </button>\n",
              "      \n",
              "  <style>\n",
              "    .colab-df-container {\n",
              "      display:flex;\n",
              "      flex-wrap:wrap;\n",
              "      gap: 12px;\n",
              "    }\n",
              "\n",
              "    .colab-df-convert {\n",
              "      background-color: #E8F0FE;\n",
              "      border: none;\n",
              "      border-radius: 50%;\n",
              "      cursor: pointer;\n",
              "      display: none;\n",
              "      fill: #1967D2;\n",
              "      height: 32px;\n",
              "      padding: 0 0 0 0;\n",
              "      width: 32px;\n",
              "    }\n",
              "\n",
              "    .colab-df-convert:hover {\n",
              "      background-color: #E2EBFA;\n",
              "      box-shadow: 0px 1px 2px rgba(60, 64, 67, 0.3), 0px 1px 3px 1px rgba(60, 64, 67, 0.15);\n",
              "      fill: #174EA6;\n",
              "    }\n",
              "\n",
              "    [theme=dark] .colab-df-convert {\n",
              "      background-color: #3B4455;\n",
              "      fill: #D2E3FC;\n",
              "    }\n",
              "\n",
              "    [theme=dark] .colab-df-convert:hover {\n",
              "      background-color: #434B5C;\n",
              "      box-shadow: 0px 1px 3px 1px rgba(0, 0, 0, 0.15);\n",
              "      filter: drop-shadow(0px 1px 2px rgba(0, 0, 0, 0.3));\n",
              "      fill: #FFFFFF;\n",
              "    }\n",
              "  </style>\n",
              "\n",
              "      <script>\n",
              "        const buttonEl =\n",
              "          document.querySelector('#df-cb7cfc93-7034-47d5-a06e-36a4c6e7f1d0 button.colab-df-convert');\n",
              "        buttonEl.style.display =\n",
              "          google.colab.kernel.accessAllowed ? 'block' : 'none';\n",
              "\n",
              "        async function convertToInteractive(key) {\n",
              "          const element = document.querySelector('#df-cb7cfc93-7034-47d5-a06e-36a4c6e7f1d0');\n",
              "          const dataTable =\n",
              "            await google.colab.kernel.invokeFunction('convertToInteractive',\n",
              "                                                     [key], {});\n",
              "          if (!dataTable) return;\n",
              "\n",
              "          const docLinkHtml = 'Like what you see? Visit the ' +\n",
              "            '<a target=\"_blank\" href=https://colab.research.google.com/notebooks/data_table.ipynb>data table notebook</a>'\n",
              "            + ' to learn more about interactive tables.';\n",
              "          element.innerHTML = '';\n",
              "          dataTable['output_type'] = 'display_data';\n",
              "          await google.colab.output.renderOutput(dataTable, element);\n",
              "          const docLink = document.createElement('div');\n",
              "          docLink.innerHTML = docLinkHtml;\n",
              "          element.appendChild(docLink);\n",
              "        }\n",
              "      </script>\n",
              "    </div>\n",
              "  </div>\n",
              "  "
            ]
          },
          "metadata": {},
          "execution_count": 199
        }
      ]
    },
    {
      "cell_type": "code",
      "source": [
        "X_final_9"
      ],
      "metadata": {
        "id": "x-rh_uV4bD8s",
        "colab": {
          "base_uri": "https://localhost:8080/",
          "height": 423
        },
        "outputId": "14ce94e3-14bd-4394-b4b2-ff5ce711415a"
      },
      "execution_count": null,
      "outputs": [
        {
          "output_type": "execute_result",
          "data": {
            "text/plain": [
              "            ax        ay        az        gx        gy        gz   time\n",
              "0     0.396845  8.710000 -4.476044  0.001111 -0.008889  0.004137    0.0\n",
              "1     0.485234  8.725234 -4.520000 -0.000020  0.006667  0.007778    0.1\n",
              "2     0.460536  8.709464 -4.480000  0.001815  0.004525  0.002981    0.2\n",
              "3     0.463828  8.708437 -4.470000 -0.000466  0.005089  0.002867    0.3\n",
              "4     0.454513  8.715487 -4.489026  0.002387  0.004444  0.002696    0.4\n",
              "...        ...       ...       ...       ...       ...       ...    ...\n",
              "9493  0.956652  9.001674 -3.774979  0.000367 -0.001607 -0.000367  949.3\n",
              "9494  0.916856  8.996288 -3.746288 -0.002668 -0.001333  0.000222  949.4\n",
              "9495  0.920000  9.002583 -3.740000  0.000847  0.000000  0.001375  949.5\n",
              "9496  0.910118  9.000000 -3.770059  0.001790  0.001564  0.003560  949.6\n",
              "9497  0.930297  9.000000 -3.750178  0.001963  0.002815  0.001629  949.7\n",
              "\n",
              "[9498 rows x 7 columns]"
            ],
            "text/html": [
              "\n",
              "  <div id=\"df-de7ce835-4f1c-42b0-8dcc-0082ab21e3b9\">\n",
              "    <div class=\"colab-df-container\">\n",
              "      <div>\n",
              "<style scoped>\n",
              "    .dataframe tbody tr th:only-of-type {\n",
              "        vertical-align: middle;\n",
              "    }\n",
              "\n",
              "    .dataframe tbody tr th {\n",
              "        vertical-align: top;\n",
              "    }\n",
              "\n",
              "    .dataframe thead th {\n",
              "        text-align: right;\n",
              "    }\n",
              "</style>\n",
              "<table border=\"1\" class=\"dataframe\">\n",
              "  <thead>\n",
              "    <tr style=\"text-align: right;\">\n",
              "      <th></th>\n",
              "      <th>ax</th>\n",
              "      <th>ay</th>\n",
              "      <th>az</th>\n",
              "      <th>gx</th>\n",
              "      <th>gy</th>\n",
              "      <th>gz</th>\n",
              "      <th>time</th>\n",
              "    </tr>\n",
              "  </thead>\n",
              "  <tbody>\n",
              "    <tr>\n",
              "      <th>0</th>\n",
              "      <td>0.396845</td>\n",
              "      <td>8.710000</td>\n",
              "      <td>-4.476044</td>\n",
              "      <td>0.001111</td>\n",
              "      <td>-0.008889</td>\n",
              "      <td>0.004137</td>\n",
              "      <td>0.0</td>\n",
              "    </tr>\n",
              "    <tr>\n",
              "      <th>1</th>\n",
              "      <td>0.485234</td>\n",
              "      <td>8.725234</td>\n",
              "      <td>-4.520000</td>\n",
              "      <td>-0.000020</td>\n",
              "      <td>0.006667</td>\n",
              "      <td>0.007778</td>\n",
              "      <td>0.1</td>\n",
              "    </tr>\n",
              "    <tr>\n",
              "      <th>2</th>\n",
              "      <td>0.460536</td>\n",
              "      <td>8.709464</td>\n",
              "      <td>-4.480000</td>\n",
              "      <td>0.001815</td>\n",
              "      <td>0.004525</td>\n",
              "      <td>0.002981</td>\n",
              "      <td>0.2</td>\n",
              "    </tr>\n",
              "    <tr>\n",
              "      <th>3</th>\n",
              "      <td>0.463828</td>\n",
              "      <td>8.708437</td>\n",
              "      <td>-4.470000</td>\n",
              "      <td>-0.000466</td>\n",
              "      <td>0.005089</td>\n",
              "      <td>0.002867</td>\n",
              "      <td>0.3</td>\n",
              "    </tr>\n",
              "    <tr>\n",
              "      <th>4</th>\n",
              "      <td>0.454513</td>\n",
              "      <td>8.715487</td>\n",
              "      <td>-4.489026</td>\n",
              "      <td>0.002387</td>\n",
              "      <td>0.004444</td>\n",
              "      <td>0.002696</td>\n",
              "      <td>0.4</td>\n",
              "    </tr>\n",
              "    <tr>\n",
              "      <th>...</th>\n",
              "      <td>...</td>\n",
              "      <td>...</td>\n",
              "      <td>...</td>\n",
              "      <td>...</td>\n",
              "      <td>...</td>\n",
              "      <td>...</td>\n",
              "      <td>...</td>\n",
              "    </tr>\n",
              "    <tr>\n",
              "      <th>9493</th>\n",
              "      <td>0.956652</td>\n",
              "      <td>9.001674</td>\n",
              "      <td>-3.774979</td>\n",
              "      <td>0.000367</td>\n",
              "      <td>-0.001607</td>\n",
              "      <td>-0.000367</td>\n",
              "      <td>949.3</td>\n",
              "    </tr>\n",
              "    <tr>\n",
              "      <th>9494</th>\n",
              "      <td>0.916856</td>\n",
              "      <td>8.996288</td>\n",
              "      <td>-3.746288</td>\n",
              "      <td>-0.002668</td>\n",
              "      <td>-0.001333</td>\n",
              "      <td>0.000222</td>\n",
              "      <td>949.4</td>\n",
              "    </tr>\n",
              "    <tr>\n",
              "      <th>9495</th>\n",
              "      <td>0.920000</td>\n",
              "      <td>9.002583</td>\n",
              "      <td>-3.740000</td>\n",
              "      <td>0.000847</td>\n",
              "      <td>0.000000</td>\n",
              "      <td>0.001375</td>\n",
              "      <td>949.5</td>\n",
              "    </tr>\n",
              "    <tr>\n",
              "      <th>9496</th>\n",
              "      <td>0.910118</td>\n",
              "      <td>9.000000</td>\n",
              "      <td>-3.770059</td>\n",
              "      <td>0.001790</td>\n",
              "      <td>0.001564</td>\n",
              "      <td>0.003560</td>\n",
              "      <td>949.6</td>\n",
              "    </tr>\n",
              "    <tr>\n",
              "      <th>9497</th>\n",
              "      <td>0.930297</td>\n",
              "      <td>9.000000</td>\n",
              "      <td>-3.750178</td>\n",
              "      <td>0.001963</td>\n",
              "      <td>0.002815</td>\n",
              "      <td>0.001629</td>\n",
              "      <td>949.7</td>\n",
              "    </tr>\n",
              "  </tbody>\n",
              "</table>\n",
              "<p>9498 rows × 7 columns</p>\n",
              "</div>\n",
              "      <button class=\"colab-df-convert\" onclick=\"convertToInteractive('df-de7ce835-4f1c-42b0-8dcc-0082ab21e3b9')\"\n",
              "              title=\"Convert this dataframe to an interactive table.\"\n",
              "              style=\"display:none;\">\n",
              "        \n",
              "  <svg xmlns=\"http://www.w3.org/2000/svg\" height=\"24px\"viewBox=\"0 0 24 24\"\n",
              "       width=\"24px\">\n",
              "    <path d=\"M0 0h24v24H0V0z\" fill=\"none\"/>\n",
              "    <path d=\"M18.56 5.44l.94 2.06.94-2.06 2.06-.94-2.06-.94-.94-2.06-.94 2.06-2.06.94zm-11 1L8.5 8.5l.94-2.06 2.06-.94-2.06-.94L8.5 2.5l-.94 2.06-2.06.94zm10 10l.94 2.06.94-2.06 2.06-.94-2.06-.94-.94-2.06-.94 2.06-2.06.94z\"/><path d=\"M17.41 7.96l-1.37-1.37c-.4-.4-.92-.59-1.43-.59-.52 0-1.04.2-1.43.59L10.3 9.45l-7.72 7.72c-.78.78-.78 2.05 0 2.83L4 21.41c.39.39.9.59 1.41.59.51 0 1.02-.2 1.41-.59l7.78-7.78 2.81-2.81c.8-.78.8-2.07 0-2.86zM5.41 20L4 18.59l7.72-7.72 1.47 1.35L5.41 20z\"/>\n",
              "  </svg>\n",
              "      </button>\n",
              "      \n",
              "  <style>\n",
              "    .colab-df-container {\n",
              "      display:flex;\n",
              "      flex-wrap:wrap;\n",
              "      gap: 12px;\n",
              "    }\n",
              "\n",
              "    .colab-df-convert {\n",
              "      background-color: #E8F0FE;\n",
              "      border: none;\n",
              "      border-radius: 50%;\n",
              "      cursor: pointer;\n",
              "      display: none;\n",
              "      fill: #1967D2;\n",
              "      height: 32px;\n",
              "      padding: 0 0 0 0;\n",
              "      width: 32px;\n",
              "    }\n",
              "\n",
              "    .colab-df-convert:hover {\n",
              "      background-color: #E2EBFA;\n",
              "      box-shadow: 0px 1px 2px rgba(60, 64, 67, 0.3), 0px 1px 3px 1px rgba(60, 64, 67, 0.15);\n",
              "      fill: #174EA6;\n",
              "    }\n",
              "\n",
              "    [theme=dark] .colab-df-convert {\n",
              "      background-color: #3B4455;\n",
              "      fill: #D2E3FC;\n",
              "    }\n",
              "\n",
              "    [theme=dark] .colab-df-convert:hover {\n",
              "      background-color: #434B5C;\n",
              "      box-shadow: 0px 1px 3px 1px rgba(0, 0, 0, 0.15);\n",
              "      filter: drop-shadow(0px 1px 2px rgba(0, 0, 0, 0.3));\n",
              "      fill: #FFFFFF;\n",
              "    }\n",
              "  </style>\n",
              "\n",
              "      <script>\n",
              "        const buttonEl =\n",
              "          document.querySelector('#df-de7ce835-4f1c-42b0-8dcc-0082ab21e3b9 button.colab-df-convert');\n",
              "        buttonEl.style.display =\n",
              "          google.colab.kernel.accessAllowed ? 'block' : 'none';\n",
              "\n",
              "        async function convertToInteractive(key) {\n",
              "          const element = document.querySelector('#df-de7ce835-4f1c-42b0-8dcc-0082ab21e3b9');\n",
              "          const dataTable =\n",
              "            await google.colab.kernel.invokeFunction('convertToInteractive',\n",
              "                                                     [key], {});\n",
              "          if (!dataTable) return;\n",
              "\n",
              "          const docLinkHtml = 'Like what you see? Visit the ' +\n",
              "            '<a target=\"_blank\" href=https://colab.research.google.com/notebooks/data_table.ipynb>data table notebook</a>'\n",
              "            + ' to learn more about interactive tables.';\n",
              "          element.innerHTML = '';\n",
              "          dataTable['output_type'] = 'display_data';\n",
              "          await google.colab.output.renderOutput(dataTable, element);\n",
              "          const docLink = document.createElement('div');\n",
              "          docLink.innerHTML = docLinkHtml;\n",
              "          element.appendChild(docLink);\n",
              "        }\n",
              "      </script>\n",
              "    </div>\n",
              "  </div>\n",
              "  "
            ]
          },
          "metadata": {},
          "execution_count": 200
        }
      ]
    },
    {
      "cell_type": "code",
      "source": [
        "X_9_norm = scaler.transform(X_final_9)\n",
        "X_10_norm = scaler.transform(X_final_10)\n",
        "X_11_norm = scaler.transform(X_final_11)\n",
        "X_12_norm = scaler.transform(X_final_12)"
      ],
      "metadata": {
        "id": "G0wGMO-fRUZG"
      },
      "execution_count": null,
      "outputs": []
    },
    {
      "cell_type": "code",
      "source": [
        "X_9_preds = model.predict(X_9_norm)\n",
        "X_10_preds = model.predict(X_10_norm)\n",
        "X_11_preds = model.predict(X_11_norm)\n",
        "X_12_preds = model.predict(X_12_norm)"
      ],
      "metadata": {
        "id": "lYcgprHxVPcQ"
      },
      "execution_count": null,
      "outputs": []
    },
    {
      "cell_type": "code",
      "source": [
        "pd.DataFrame(X_9_preds).to_csv('subject_009_01__y.csv', index=False, header=False)\n",
        "pd.DataFrame(X_10_preds).to_csv('subject_010_01__y.csv', index=False, header=False)\n",
        "pd.DataFrame(X_11_preds).to_csv('subject_011_01__y.csv', index=False, header=False)\n",
        "pd.DataFrame(X_12_preds).to_csv('subject_012_01__y.csv', index=False, header=False)\n"
      ],
      "metadata": {
        "id": "gUw4AngKXcSU"
      },
      "execution_count": null,
      "outputs": []
    },
    {
      "cell_type": "code",
      "source": [
        "pd.DataFrame(X_final_12).to_csv('012_01__y.csv')\n"
      ],
      "metadata": {
        "id": "oah_MiUTbpY8"
      },
      "execution_count": null,
      "outputs": []
    },
    {
      "cell_type": "code",
      "source": [
        "tesmp = pd.read_csv('/content/subject_009_01__y.csv')"
      ],
      "metadata": {
        "id": "wlT_SEOAXsEd"
      },
      "execution_count": null,
      "outputs": []
    },
    {
      "cell_type": "code",
      "source": [
        "tesmp.shape"
      ],
      "metadata": {
        "colab": {
          "base_uri": "https://localhost:8080/"
        },
        "id": "8wX9a1YtYsf2",
        "outputId": "d2c9cf73-5002-4531-debd-d013ab74b838"
      },
      "execution_count": null,
      "outputs": [
        {
          "output_type": "execute_result",
          "data": {
            "text/plain": [
              "(9497, 1)"
            ]
          },
          "metadata": {},
          "execution_count": 205
        }
      ]
    },
    {
      "cell_type": "code",
      "source": [],
      "metadata": {
        "id": "ZcIb1sJgGx6N"
      },
      "execution_count": null,
      "outputs": []
    }
  ]
}